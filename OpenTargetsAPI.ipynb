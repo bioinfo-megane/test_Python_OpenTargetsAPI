{
 "cells": [
  {
   "cell_type": "markdown",
   "id": "a693de7a-c70d-4a5b-b025-40679207857b",
   "metadata": {},
   "source": [
    "# package"
   ]
  },
  {
   "cell_type": "code",
   "execution_count": 1,
   "id": "057b80d3-352c-432b-a74b-beb145ff0f96",
   "metadata": {},
   "outputs": [],
   "source": [
    "import pandas as pd"
   ]
  },
  {
   "cell_type": "code",
   "execution_count": 2,
   "id": "305fdebf-4d6c-4a02-a616-e0e5cba453ad",
   "metadata": {},
   "outputs": [],
   "source": [
    "import numpy as np"
   ]
  },
  {
   "cell_type": "code",
   "execution_count": 3,
   "id": "61ef609c-9aea-4ab6-8e5d-65a69732a79b",
   "metadata": {},
   "outputs": [],
   "source": [
    "import datar.all as da"
   ]
  },
  {
   "cell_type": "code",
   "execution_count": 4,
   "id": "7640fec1-d6c6-4a68-8e6f-51fce1817f5d",
   "metadata": {},
   "outputs": [],
   "source": [
    "import json"
   ]
  },
  {
   "cell_type": "code",
   "execution_count": 5,
   "id": "e2404371-3c53-4580-9717-16964276f37d",
   "metadata": {},
   "outputs": [],
   "source": [
    "import requests"
   ]
  },
  {
   "cell_type": "code",
   "execution_count": 7,
   "id": "efc1e02c-578c-4b5a-a112-a334dc7ed3e4",
   "metadata": {},
   "outputs": [],
   "source": [
    "from flatsplode import flatsplode"
   ]
  },
  {
   "cell_type": "code",
   "execution_count": 8,
   "id": "20d805b4-e672-4abe-827c-a1b354ad17c7",
   "metadata": {},
   "outputs": [],
   "source": [
    "import mygene"
   ]
  },
  {
   "cell_type": "markdown",
   "id": "8deaf379-f7bd-4e83-bedd-f004a183ffbc",
   "metadata": {},
   "source": [
    "# geneinfo"
   ]
  },
  {
   "cell_type": "markdown",
   "id": "86812adf-675a-4a0e-8809-c84ac78c8a84",
   "metadata": {},
   "source": [
    "## human"
   ]
  },
  {
   "cell_type": "code",
   "execution_count": 287,
   "id": "c06f8da6-588a-43f9-91c2-1bca97a3e68c",
   "metadata": {},
   "outputs": [],
   "source": [
    "# input_symbol = \"PTH1R\"\n",
    "input_symbol = \"IRF7\"\n",
    "# input_symbol = \"T\"\n",
    "# input_symbol = \"\""
   ]
  },
  {
   "cell_type": "code",
   "execution_count": 288,
   "id": "108b835c-96cd-4b77-870c-e393d1a36bb6",
   "metadata": {},
   "outputs": [],
   "source": [
    "mg = mygene.MyGeneInfo()"
   ]
  },
  {
   "cell_type": "code",
   "execution_count": 289,
   "id": "5e3aa728-ef79-4587-866c-d86614a70265",
   "metadata": {},
   "outputs": [],
   "source": [
    "genetable0 = mg.query(\"symbol:\" + input_symbol, \n",
    "                      fields = \"symbol, name, ensembl.gene, entrezgene, uniprot.Swiss-Prot, homologene.id\", \n",
    "                      species = \"human\")"
   ]
  },
  {
   "cell_type": "code",
   "execution_count": 290,
   "id": "913e2b5e-1862-41ff-b414-bcadc88f11a4",
   "metadata": {},
   "outputs": [],
   "source": [
    "if genetable0[\"total\"] == 0: \n",
    "    print(\"Please input the correct gene symbol.\")"
   ]
  },
  {
   "cell_type": "code",
   "execution_count": 291,
   "id": "c64b5eee-40fe-4e9d-91ae-931f6eb7f634",
   "metadata": {},
   "outputs": [],
   "source": [
    "genetable00 = pd.DataFrame({\n",
    "    \"symbol\": pd.Series([], dtype = object), \n",
    "    \"name\": pd.Series([], dtype = object), \n",
    "    \"ensembl.gene\": pd.Series([], dtype = object), \n",
    "    \"entrezgene\": pd.Series([], dtype = object), \n",
    "    \"uniprot.Swiss-Prot\": pd.Series([], dtype = object), \n",
    "    \"homologene.id\": pd.Series([], dtype = np.int64)\n",
    "    }\n",
    ")"
   ]
  },
  {
   "cell_type": "code",
   "execution_count": 292,
   "id": "b243e78e-a3f6-4947-8ad6-40af4da81772",
   "metadata": {},
   "outputs": [
    {
     "data": {
      "text/html": [
       "<div>\n",
       "<style scoped>\n",
       "    .dataframe tbody tr th:only-of-type {\n",
       "        vertical-align: middle;\n",
       "    }\n",
       "\n",
       "    .dataframe tbody tr th {\n",
       "        vertical-align: top;\n",
       "    }\n",
       "\n",
       "    .dataframe thead th {\n",
       "        text-align: right;\n",
       "    }\n",
       "</style>\n",
       "<table border=\"1\" class=\"dataframe\">\n",
       "  <thead>\n",
       "    <tr style=\"text-align: right;\">\n",
       "      <th></th>\n",
       "      <th>symbol</th>\n",
       "      <th>name</th>\n",
       "      <th>ensembl.gene</th>\n",
       "      <th>entrezgene</th>\n",
       "      <th>uniprot.Swiss-Prot</th>\n",
       "      <th>homologene.id</th>\n",
       "    </tr>\n",
       "  </thead>\n",
       "  <tbody>\n",
       "    <tr>\n",
       "      <th style=\"font-style: italic;\" ></th>\n",
       "      <td style=\"font-style: italic;\" >&lt;object&gt;</td>\n",
       "      <td style=\"font-style: italic;\" >&lt;object&gt;</td>\n",
       "      <td style=\"font-style: italic;\" >&lt;object&gt;</td>\n",
       "      <td style=\"font-style: italic;\" >&lt;object&gt;</td>\n",
       "      <td style=\"font-style: italic;\" >&lt;object&gt;</td>\n",
       "      <td style=\"font-style: italic;\" >&lt;int64&gt;</td>\n",
       "    </tr>\n",
       "  </tbody>\n",
       "</table>\n",
       "</div>\n"
      ],
      "text/plain": [
       "Empty DataFrame\n",
       "Columns: [symbol, name, ensembl.gene, entrezgene, uniprot.Swiss-Prot, homologene.id]\n",
       "Index: []"
      ]
     },
     "execution_count": 292,
     "metadata": {},
     "output_type": "execute_result"
    }
   ],
   "source": [
    "genetable00"
   ]
  },
  {
   "cell_type": "code",
   "execution_count": 354,
   "id": "003120ee-836f-4ed5-82a2-2a25c9840922",
   "metadata": {},
   "outputs": [
    {
     "data": {
      "text/plain": [
       "(0, 6)"
      ]
     },
     "execution_count": 354,
     "metadata": {},
     "output_type": "execute_result"
    }
   ],
   "source": [
    "genetable00.shape"
   ]
  },
  {
   "cell_type": "code",
   "execution_count": 293,
   "id": "9fac675e-a065-4cfc-98a4-42a4c24cce59",
   "metadata": {},
   "outputs": [
    {
     "data": {
      "text/plain": [
       "pandas.core.frame.DataFrame"
      ]
     },
     "execution_count": 293,
     "metadata": {},
     "output_type": "execute_result"
    }
   ],
   "source": [
    "type(genetable00)"
   ]
  },
  {
   "cell_type": "code",
   "execution_count": 294,
   "id": "5d1707dd-d531-4ebb-88ba-384525bd0f1b",
   "metadata": {},
   "outputs": [],
   "source": [
    "genetable = pd.concat([genetable00, pd.DataFrame(list(flatsplode(genetable0[\"hits\"][0])))]) >> \\\n",
    "    da.select(\"symbol\", \"name\", \"ensembl.gene\", \"entrezgene\", \"uniprot.Swiss-Prot\", \"homologene.id\")"
   ]
  },
  {
   "cell_type": "code",
   "execution_count": 295,
   "id": "33e33675-51d1-480c-82c7-3bc46488769a",
   "metadata": {},
   "outputs": [
    {
     "data": {
      "text/html": [
       "<div>\n",
       "<style scoped>\n",
       "    .dataframe tbody tr th:only-of-type {\n",
       "        vertical-align: middle;\n",
       "    }\n",
       "\n",
       "    .dataframe tbody tr th {\n",
       "        vertical-align: top;\n",
       "    }\n",
       "\n",
       "    .dataframe thead th {\n",
       "        text-align: right;\n",
       "    }\n",
       "</style>\n",
       "<table border=\"1\" class=\"dataframe\">\n",
       "  <thead>\n",
       "    <tr style=\"text-align: right;\">\n",
       "      <th></th>\n",
       "      <th>symbol</th>\n",
       "      <th>name</th>\n",
       "      <th>ensembl.gene</th>\n",
       "      <th>entrezgene</th>\n",
       "      <th>uniprot.Swiss-Prot</th>\n",
       "      <th>homologene.id</th>\n",
       "    </tr>\n",
       "  </thead>\n",
       "  <tbody>\n",
       "    <tr>\n",
       "      <th style=\"font-style: italic;\" ></th>\n",
       "      <td style=\"font-style: italic;\" >&lt;object&gt;</td>\n",
       "      <td style=\"font-style: italic;\" >&lt;object&gt;</td>\n",
       "      <td style=\"font-style: italic;\" >&lt;object&gt;</td>\n",
       "      <td style=\"font-style: italic;\" >&lt;object&gt;</td>\n",
       "      <td style=\"font-style: italic;\" >&lt;object&gt;</td>\n",
       "      <td style=\"font-style: italic;\" >&lt;int64&gt;</td>\n",
       "    </tr>\n",
       "    <tr>\n",
       "      <th>0</th>\n",
       "      <td>IRF7</td>\n",
       "      <td>interferon regulatory factor 7</td>\n",
       "      <td>ENSG00000276561</td>\n",
       "      <td>3665</td>\n",
       "      <td>Q92985</td>\n",
       "      <td>128624</td>\n",
       "    </tr>\n",
       "    <tr>\n",
       "      <th>1</th>\n",
       "      <td>IRF7</td>\n",
       "      <td>interferon regulatory factor 7</td>\n",
       "      <td>ENSG00000185507</td>\n",
       "      <td>3665</td>\n",
       "      <td>Q92985</td>\n",
       "      <td>128624</td>\n",
       "    </tr>\n",
       "  </tbody>\n",
       "</table>\n",
       "</div>\n"
      ],
      "text/plain": [
       "    symbol                            name     ensembl.gene entrezgene  \\\n",
       "  <object>                        <object>         <object>   <object>   \n",
       "0     IRF7  interferon regulatory factor 7  ENSG00000276561       3665   \n",
       "1     IRF7  interferon regulatory factor 7  ENSG00000185507       3665   \n",
       "\n",
       "  uniprot.Swiss-Prot  homologene.id  \n",
       "            <object>        <int64>  \n",
       "0             Q92985         128624  \n",
       "1             Q92985         128624  "
      ]
     },
     "execution_count": 295,
     "metadata": {},
     "output_type": "execute_result"
    }
   ],
   "source": [
    "genetable"
   ]
  },
  {
   "cell_type": "code",
   "execution_count": 355,
   "id": "1bdd65a7-9456-4098-8db5-f5854955e29d",
   "metadata": {},
   "outputs": [
    {
     "data": {
      "text/plain": [
       "(2, 6)"
      ]
     },
     "execution_count": 355,
     "metadata": {},
     "output_type": "execute_result"
    }
   ],
   "source": [
    "genetable.shape"
   ]
  },
  {
   "cell_type": "code",
   "execution_count": 296,
   "id": "9b268319-9b21-4886-a857-4f89381fee66",
   "metadata": {},
   "outputs": [
    {
     "data": {
      "text/plain": [
       "pandas.core.frame.DataFrame"
      ]
     },
     "execution_count": 296,
     "metadata": {},
     "output_type": "execute_result"
    }
   ],
   "source": [
    "type(genetable)"
   ]
  },
  {
   "cell_type": "code",
   "execution_count": 297,
   "id": "2d58bac2-e9ae-4e3d-8a0a-cf9984252492",
   "metadata": {},
   "outputs": [],
   "source": [
    "gene_ensembls = genetable[\"ensembl.gene\"]"
   ]
  },
  {
   "cell_type": "code",
   "execution_count": 298,
   "id": "15198528-67fb-4872-864c-a100fb92c568",
   "metadata": {},
   "outputs": [
    {
     "data": {
      "text/plain": [
       "0    ENSG00000276561\n",
       "1    ENSG00000185507\n",
       "Name: ensembl.gene, dtype: object"
      ]
     },
     "execution_count": 298,
     "metadata": {},
     "output_type": "execute_result"
    }
   ],
   "source": [
    "gene_ensembls"
   ]
  },
  {
   "cell_type": "code",
   "execution_count": 299,
   "id": "50ecd48c-2b0c-40ca-aa63-1121d0b96900",
   "metadata": {},
   "outputs": [
    {
     "data": {
      "text/plain": [
       "pandas.core.series.Series"
      ]
     },
     "execution_count": 299,
     "metadata": {},
     "output_type": "execute_result"
    }
   ],
   "source": [
    "type(gene_ensembls)"
   ]
  },
  {
   "cell_type": "code",
   "execution_count": 300,
   "id": "a02b247a-bd6a-4925-8165-938e6733053c",
   "metadata": {},
   "outputs": [],
   "source": [
    "base_url = \"https://api.platform.opentargets.org/api/v4/graphql\""
   ]
  },
  {
   "cell_type": "code",
   "execution_count": 301,
   "id": "6ba56807-6738-4b87-bb7c-f17511bdaf32",
   "metadata": {},
   "outputs": [],
   "source": [
    "query_geneinfo = \"\"\"\n",
    "    query target($ensemblId: String!) {\n",
    "        target(ensemblId: $ensemblId) {\n",
    "            id\n",
    "            approvedSymbol\n",
    "            approvedName\n",
    "        }\n",
    "    }\n",
    "\"\"\""
   ]
  },
  {
   "cell_type": "code",
   "execution_count": 302,
   "id": "5d3fdb5c-a42a-4427-bc25-1a42a341660d",
   "metadata": {},
   "outputs": [],
   "source": [
    "for gene_ensembl in gene_ensembls:\n",
    "    variables0 = {\"ensemblId\": gene_ensembl}\n",
    "    r0 = requests.post(base_url, json = {\"query\": query_geneinfo, \"variables\": variables0})\n",
    "    res0 = json.loads(r0.text)\n",
    "    if not res0[\"data\"][\"target\"]:\n",
    "        continue \n",
    "    else:\n",
    "        break"
   ]
  },
  {
   "cell_type": "code",
   "execution_count": 303,
   "id": "d04aa2e5-5e95-4a5c-8168-e96a6c0d916a",
   "metadata": {},
   "outputs": [],
   "source": [
    "ensembl_gene_ok = pd.DataFrame(list(flatsplode(res0[\"data\"][\"target\"])))[\"id\"][0]"
   ]
  },
  {
   "cell_type": "code",
   "execution_count": 304,
   "id": "548ee354-f8f2-4e97-83ec-9591f7e2a021",
   "metadata": {},
   "outputs": [
    {
     "data": {
      "text/plain": [
       "'ENSG00000185507'"
      ]
     },
     "execution_count": 304,
     "metadata": {},
     "output_type": "execute_result"
    }
   ],
   "source": [
    "ensembl_gene_ok"
   ]
  },
  {
   "cell_type": "code",
   "execution_count": 356,
   "id": "ce81161c-11f8-4989-a4a6-6adc375e70f1",
   "metadata": {},
   "outputs": [
    {
     "data": {
      "text/plain": [
       "str"
      ]
     },
     "execution_count": 356,
     "metadata": {},
     "output_type": "execute_result"
    }
   ],
   "source": [
    "type(ensembl_gene_ok)"
   ]
  },
  {
   "cell_type": "code",
   "execution_count": 305,
   "id": "4b926f5d-4065-4deb-a407-54030e6c6379",
   "metadata": {},
   "outputs": [],
   "source": [
    "genetable_ok = genetable >> \\\n",
    "    da.filter(da.f[\"ensembl.gene\"] == ensembl_gene_ok) >> \\\n",
    "    da.rename(ensembl_gene_ID = \"ensembl.gene\", \n",
    "              entrezgene_ID = \"entrezgene\", \n",
    "              uniprot_ID = \"uniprot.Swiss-Prot\", \n",
    "              homologene_ID = \"homologene.id\")"
   ]
  },
  {
   "cell_type": "code",
   "execution_count": 306,
   "id": "971ffd3a-3ddc-484c-965e-90b89de4cac3",
   "metadata": {},
   "outputs": [
    {
     "data": {
      "text/html": [
       "<div>\n",
       "<style scoped>\n",
       "    .dataframe tbody tr th:only-of-type {\n",
       "        vertical-align: middle;\n",
       "    }\n",
       "\n",
       "    .dataframe tbody tr th {\n",
       "        vertical-align: top;\n",
       "    }\n",
       "\n",
       "    .dataframe thead th {\n",
       "        text-align: right;\n",
       "    }\n",
       "</style>\n",
       "<table border=\"1\" class=\"dataframe\">\n",
       "  <thead>\n",
       "    <tr style=\"text-align: right;\">\n",
       "      <th></th>\n",
       "      <th>symbol</th>\n",
       "      <th>name</th>\n",
       "      <th>ensembl_gene_ID</th>\n",
       "      <th>entrezgene_ID</th>\n",
       "      <th>uniprot_ID</th>\n",
       "      <th>homologene_ID</th>\n",
       "    </tr>\n",
       "  </thead>\n",
       "  <tbody>\n",
       "    <tr>\n",
       "      <th style=\"font-style: italic;\" ></th>\n",
       "      <td style=\"font-style: italic;\" >&lt;object&gt;</td>\n",
       "      <td style=\"font-style: italic;\" >&lt;object&gt;</td>\n",
       "      <td style=\"font-style: italic;\" >&lt;object&gt;</td>\n",
       "      <td style=\"font-style: italic;\" >&lt;object&gt;</td>\n",
       "      <td style=\"font-style: italic;\" >&lt;object&gt;</td>\n",
       "      <td style=\"font-style: italic;\" >&lt;int64&gt;</td>\n",
       "    </tr>\n",
       "    <tr>\n",
       "      <th>1</th>\n",
       "      <td>IRF7</td>\n",
       "      <td>interferon regulatory factor 7</td>\n",
       "      <td>ENSG00000185507</td>\n",
       "      <td>3665</td>\n",
       "      <td>Q92985</td>\n",
       "      <td>128624</td>\n",
       "    </tr>\n",
       "  </tbody>\n",
       "</table>\n",
       "</div>\n"
      ],
      "text/plain": [
       "    symbol                            name  ensembl_gene_ID entrezgene_ID  \\\n",
       "  <object>                        <object>         <object>      <object>   \n",
       "1     IRF7  interferon regulatory factor 7  ENSG00000185507          3665   \n",
       "\n",
       "  uniprot_ID  homologene_ID  \n",
       "    <object>        <int64>  \n",
       "1     Q92985         128624  "
      ]
     },
     "execution_count": 306,
     "metadata": {},
     "output_type": "execute_result"
    }
   ],
   "source": [
    "genetable_ok"
   ]
  },
  {
   "cell_type": "code",
   "execution_count": 358,
   "id": "cbface6b-b0e1-41a9-ac6a-fa5a0f6ec71e",
   "metadata": {},
   "outputs": [
    {
     "data": {
      "text/plain": [
       "(1, 6)"
      ]
     },
     "execution_count": 358,
     "metadata": {},
     "output_type": "execute_result"
    }
   ],
   "source": [
    "genetable_ok.shape"
   ]
  },
  {
   "cell_type": "code",
   "execution_count": 359,
   "id": "8057fc1f-713e-4b80-8682-ddba15985f37",
   "metadata": {},
   "outputs": [
    {
     "data": {
      "text/plain": [
       "datar.core.tibble.Tibble"
      ]
     },
     "execution_count": 359,
     "metadata": {},
     "output_type": "execute_result"
    }
   ],
   "source": [
    "type(genetable_ok)"
   ]
  },
  {
   "cell_type": "code",
   "execution_count": 307,
   "id": "600e8561-7d73-4e60-a5ab-68c4246962cd",
   "metadata": {},
   "outputs": [],
   "source": [
    "def genetable_ok_def():\n",
    "    genetable = pd.concat([genetable00, pd.DataFrame(list(flatsplode(genetable0[\"hits\"][0])))]) >> \\\n",
    "        da.select(\"symbol\", \"name\", \"ensembl.gene\", \"entrezgene\", \"uniprot.Swiss-Prot\", \"homologene.id\")\n",
    "    \n",
    "    gene_ensembls = genetable[\"ensembl.gene\"]\n",
    "    \n",
    "    for gene_ensembl in gene_ensembls:\n",
    "        variables0 = {\"ensemblId\": gene_ensembl}\n",
    "        r0 = requests.post(base_url, json = {\"query\": query_geneinfo, \"variables\": variables0})\n",
    "        res0 = json.loads(r0.text)\n",
    "        if not res0[\"data\"][\"target\"]:\n",
    "            continue \n",
    "        else:\n",
    "            break\n",
    "    \n",
    "    ensembl_gene_ok = pd.DataFrame(list(flatsplode(res0[\"data\"][\"target\"])))[\"id\"][0]\n",
    "    \n",
    "    genetable_ok = genetable >> \\\n",
    "        da.filter(da.f[\"ensembl.gene\"] == ensembl_gene_ok) >> \\\n",
    "        da.rename(ensembl_gene_ID = \"ensembl.gene\", \n",
    "                  entrezgene_ID = \"entrezgene\", \n",
    "                  uniprot_ID = \"uniprot.Swiss-Prot\", \n",
    "                  homologene_ID = \"homologene.id\")\n",
    "    \n",
    "    return genetable_ok"
   ]
  },
  {
   "cell_type": "code",
   "execution_count": 308,
   "id": "e4c406b2-036f-4482-b812-cce64721556f",
   "metadata": {},
   "outputs": [],
   "source": [
    "genetable_ok_out = genetable_ok_def()"
   ]
  },
  {
   "cell_type": "code",
   "execution_count": 309,
   "id": "eb637920-a58e-41cb-991f-0deee3082413",
   "metadata": {},
   "outputs": [
    {
     "data": {
      "text/html": [
       "<div>\n",
       "<style scoped>\n",
       "    .dataframe tbody tr th:only-of-type {\n",
       "        vertical-align: middle;\n",
       "    }\n",
       "\n",
       "    .dataframe tbody tr th {\n",
       "        vertical-align: top;\n",
       "    }\n",
       "\n",
       "    .dataframe thead th {\n",
       "        text-align: right;\n",
       "    }\n",
       "</style>\n",
       "<table border=\"1\" class=\"dataframe\">\n",
       "  <thead>\n",
       "    <tr style=\"text-align: right;\">\n",
       "      <th></th>\n",
       "      <th>symbol</th>\n",
       "      <th>name</th>\n",
       "      <th>ensembl_gene_ID</th>\n",
       "      <th>entrezgene_ID</th>\n",
       "      <th>uniprot_ID</th>\n",
       "      <th>homologene_ID</th>\n",
       "    </tr>\n",
       "  </thead>\n",
       "  <tbody>\n",
       "    <tr>\n",
       "      <th style=\"font-style: italic;\" ></th>\n",
       "      <td style=\"font-style: italic;\" >&lt;object&gt;</td>\n",
       "      <td style=\"font-style: italic;\" >&lt;object&gt;</td>\n",
       "      <td style=\"font-style: italic;\" >&lt;object&gt;</td>\n",
       "      <td style=\"font-style: italic;\" >&lt;object&gt;</td>\n",
       "      <td style=\"font-style: italic;\" >&lt;object&gt;</td>\n",
       "      <td style=\"font-style: italic;\" >&lt;int64&gt;</td>\n",
       "    </tr>\n",
       "    <tr>\n",
       "      <th>1</th>\n",
       "      <td>IRF7</td>\n",
       "      <td>interferon regulatory factor 7</td>\n",
       "      <td>ENSG00000185507</td>\n",
       "      <td>3665</td>\n",
       "      <td>Q92985</td>\n",
       "      <td>128624</td>\n",
       "    </tr>\n",
       "  </tbody>\n",
       "</table>\n",
       "</div>\n"
      ],
      "text/plain": [
       "    symbol                            name  ensembl_gene_ID entrezgene_ID  \\\n",
       "  <object>                        <object>         <object>      <object>   \n",
       "1     IRF7  interferon regulatory factor 7  ENSG00000185507          3665   \n",
       "\n",
       "  uniprot_ID  homologene_ID  \n",
       "    <object>        <int64>  \n",
       "1     Q92985         128624  "
      ]
     },
     "execution_count": 309,
     "metadata": {},
     "output_type": "execute_result"
    }
   ],
   "source": [
    "genetable_ok_out"
   ]
  },
  {
   "cell_type": "code",
   "execution_count": 360,
   "id": "4a05f707-99d3-4966-b57d-5870e550b196",
   "metadata": {},
   "outputs": [
    {
     "data": {
      "text/plain": [
       "(1, 6)"
      ]
     },
     "execution_count": 360,
     "metadata": {},
     "output_type": "execute_result"
    }
   ],
   "source": [
    "genetable_ok_out.shape"
   ]
  },
  {
   "cell_type": "code",
   "execution_count": 310,
   "id": "d054d8bc-f150-4db4-a7a6-2ae107355f08",
   "metadata": {},
   "outputs": [
    {
     "data": {
      "text/plain": [
       "datar.core.tibble.Tibble"
      ]
     },
     "execution_count": 310,
     "metadata": {},
     "output_type": "execute_result"
    }
   ],
   "source": [
    "type(genetable_ok_out)"
   ]
  },
  {
   "cell_type": "markdown",
   "id": "c5281979-f2b0-4ac6-8d3c-e1bdf98ea049",
   "metadata": {},
   "source": [
    "## homologene"
   ]
  },
  {
   "cell_type": "code",
   "execution_count": 311,
   "id": "aa383f67-ad5a-4b58-95be-453d24832524",
   "metadata": {},
   "outputs": [
    {
     "data": {
      "text/plain": [
       "True"
      ]
     },
     "execution_count": 311,
     "metadata": {},
     "output_type": "execute_result"
    }
   ],
   "source": [
    "len(da.as_character(genetable_ok_out[\"homologene_ID\"])) != 0"
   ]
  },
  {
   "cell_type": "code",
   "execution_count": 312,
   "id": "387302f5-2fa1-4b07-b08f-9bec7bd0db4b",
   "metadata": {},
   "outputs": [
    {
     "data": {
      "text/plain": [
       "1    128624\n",
       "Name: homologene_ID, dtype: object"
      ]
     },
     "execution_count": 312,
     "metadata": {},
     "output_type": "execute_result"
    }
   ],
   "source": [
    "da.as_character(genetable_ok_out[\"homologene_ID\"])"
   ]
  },
  {
   "cell_type": "code",
   "execution_count": 313,
   "id": "d1ae5402-a332-4042-88c6-e3c3f3f4347c",
   "metadata": {},
   "outputs": [
    {
     "data": {
      "text/plain": [
       "pandas.core.series.Series"
      ]
     },
     "execution_count": 313,
     "metadata": {},
     "output_type": "execute_result"
    }
   ],
   "source": [
    "type(da.as_character(genetable_ok_out[\"homologene_ID\"]))"
   ]
  },
  {
   "cell_type": "markdown",
   "id": "3e8b369c-0e0c-478b-a0ef-e3eb5e3ef3c9",
   "metadata": {},
   "source": [
    "### mouse"
   ]
  },
  {
   "cell_type": "code",
   "execution_count": 314,
   "id": "3e061f92-3b02-427f-a733-99f69397f829",
   "metadata": {},
   "outputs": [],
   "source": [
    "genetable_m0 = mg.query(\"homologene.id: \" + da.as_character(genetable_ok_out[\"homologene_ID\"]),\n",
    "    fields = \"symbol, name, ensembl.gene, entrezgene, uniprot.Swiss-Prot, homologene.id\",\n",
    "    species = \"mouse\")"
   ]
  },
  {
   "cell_type": "code",
   "execution_count": 315,
   "id": "7bb615b2-5393-494f-8ead-53d8a2e3b596",
   "metadata": {},
   "outputs": [
    {
     "data": {
      "text/plain": [
       "False"
      ]
     },
     "execution_count": 315,
     "metadata": {},
     "output_type": "execute_result"
    }
   ],
   "source": [
    "genetable_m0[\"total\"] == 0"
   ]
  },
  {
   "cell_type": "code",
   "execution_count": 316,
   "id": "1a7c7a4d-f6c8-49af-852c-c1f1100e61b1",
   "metadata": {},
   "outputs": [],
   "source": [
    "genetable_m = pd.concat([genetable00, pd.DataFrame(list(flatsplode(genetable_m0[\"hits\"][0])))]) >> \\\n",
    "    da.select(\"symbol\", \"name\", \"ensembl.gene\", \"entrezgene\", \"uniprot.Swiss-Prot\", \"homologene.id\") >> \\\n",
    "    da.rename(ensembl_gene_ID = \"ensembl.gene\", \n",
    "              entrezgene_ID = \"entrezgene\", \n",
    "              uniprot_ID = \"uniprot.Swiss-Prot\", \n",
    "              homologene_ID = \"homologene.id\")"
   ]
  },
  {
   "cell_type": "code",
   "execution_count": 317,
   "id": "fdc51d93-e277-4c6b-ab46-0a13f3d363c0",
   "metadata": {},
   "outputs": [
    {
     "data": {
      "text/html": [
       "<div>\n",
       "<style scoped>\n",
       "    .dataframe tbody tr th:only-of-type {\n",
       "        vertical-align: middle;\n",
       "    }\n",
       "\n",
       "    .dataframe tbody tr th {\n",
       "        vertical-align: top;\n",
       "    }\n",
       "\n",
       "    .dataframe thead th {\n",
       "        text-align: right;\n",
       "    }\n",
       "</style>\n",
       "<table border=\"1\" class=\"dataframe\">\n",
       "  <thead>\n",
       "    <tr style=\"text-align: right;\">\n",
       "      <th></th>\n",
       "      <th>symbol</th>\n",
       "      <th>name</th>\n",
       "      <th>ensembl_gene_ID</th>\n",
       "      <th>entrezgene_ID</th>\n",
       "      <th>uniprot_ID</th>\n",
       "      <th>homologene_ID</th>\n",
       "    </tr>\n",
       "  </thead>\n",
       "  <tbody>\n",
       "    <tr>\n",
       "      <th style=\"font-style: italic;\" ></th>\n",
       "      <td style=\"font-style: italic;\" >&lt;object&gt;</td>\n",
       "      <td style=\"font-style: italic;\" >&lt;object&gt;</td>\n",
       "      <td style=\"font-style: italic;\" >&lt;object&gt;</td>\n",
       "      <td style=\"font-style: italic;\" >&lt;object&gt;</td>\n",
       "      <td style=\"font-style: italic;\" >&lt;object&gt;</td>\n",
       "      <td style=\"font-style: italic;\" >&lt;int64&gt;</td>\n",
       "    </tr>\n",
       "    <tr>\n",
       "      <th>0</th>\n",
       "      <td>Irf7</td>\n",
       "      <td>interferon regulatory factor 7</td>\n",
       "      <td>ENSMUSG00000025498</td>\n",
       "      <td>54123</td>\n",
       "      <td>P70434</td>\n",
       "      <td>128624</td>\n",
       "    </tr>\n",
       "  </tbody>\n",
       "</table>\n",
       "</div>\n"
      ],
      "text/plain": [
       "    symbol                            name     ensembl_gene_ID entrezgene_ID  \\\n",
       "  <object>                        <object>            <object>      <object>   \n",
       "0     Irf7  interferon regulatory factor 7  ENSMUSG00000025498         54123   \n",
       "\n",
       "  uniprot_ID  homologene_ID  \n",
       "    <object>        <int64>  \n",
       "0     P70434         128624  "
      ]
     },
     "execution_count": 317,
     "metadata": {},
     "output_type": "execute_result"
    }
   ],
   "source": [
    "genetable_m "
   ]
  },
  {
   "cell_type": "code",
   "execution_count": 361,
   "id": "1a660234-cf86-4fc4-92a0-de8a7e0c87d3",
   "metadata": {},
   "outputs": [
    {
     "data": {
      "text/plain": [
       "(1, 6)"
      ]
     },
     "execution_count": 361,
     "metadata": {},
     "output_type": "execute_result"
    }
   ],
   "source": [
    "genetable_m.shape"
   ]
  },
  {
   "cell_type": "code",
   "execution_count": 362,
   "id": "db6e7ed8-13c8-4218-87d0-f1e3d4a80a57",
   "metadata": {},
   "outputs": [
    {
     "data": {
      "text/plain": [
       "pandas.core.frame.DataFrame"
      ]
     },
     "execution_count": 362,
     "metadata": {},
     "output_type": "execute_result"
    }
   ],
   "source": [
    "type(genetable_m)"
   ]
  },
  {
   "cell_type": "markdown",
   "id": "6549aae5-0968-406b-8737-f450783d86d2",
   "metadata": {},
   "source": [
    "### rat"
   ]
  },
  {
   "cell_type": "code",
   "execution_count": 319,
   "id": "bf32d0bc-edc5-402f-87c5-e96c4a817718",
   "metadata": {},
   "outputs": [],
   "source": [
    "genetable_r0 = mg.query(\"homologene.id: \" + da.as_character(genetable_ok_out[\"homologene_ID\"]),\n",
    "    fields = \"symbol, name, ensembl.gene, entrezgene, uniprot.Swiss-Prot, homologene.id\",\n",
    "    species = \"rat\")"
   ]
  },
  {
   "cell_type": "code",
   "execution_count": 320,
   "id": "0dfd1017-b73f-4667-9074-e6aa8f2545cc",
   "metadata": {},
   "outputs": [
    {
     "data": {
      "text/plain": [
       "False"
      ]
     },
     "execution_count": 320,
     "metadata": {},
     "output_type": "execute_result"
    }
   ],
   "source": [
    "genetable_r0[\"total\"] == 0"
   ]
  },
  {
   "cell_type": "code",
   "execution_count": 321,
   "id": "4adbf417-c51a-4801-b0ea-1c4aae8eca6e",
   "metadata": {},
   "outputs": [],
   "source": [
    "genetable_r = pd.concat([genetable00, pd.DataFrame(list(flatsplode(genetable_r0[\"hits\"][0])))]) >> \\\n",
    "    da.select(\"symbol\", \"name\", \"ensembl.gene\", \"entrezgene\", \"uniprot.Swiss-Prot\", \"homologene.id\") >> \\\n",
    "    da.rename(ensembl_gene_ID = \"ensembl.gene\", \n",
    "              entrezgene_ID = \"entrezgene\", \n",
    "              uniprot_ID = \"uniprot.Swiss-Prot\", \n",
    "              homologene_ID = \"homologene.id\")"
   ]
  },
  {
   "cell_type": "code",
   "execution_count": 322,
   "id": "b7f2e130-60be-43c3-86ff-b73bbac5e3cb",
   "metadata": {},
   "outputs": [
    {
     "data": {
      "text/html": [
       "<div>\n",
       "<style scoped>\n",
       "    .dataframe tbody tr th:only-of-type {\n",
       "        vertical-align: middle;\n",
       "    }\n",
       "\n",
       "    .dataframe tbody tr th {\n",
       "        vertical-align: top;\n",
       "    }\n",
       "\n",
       "    .dataframe thead th {\n",
       "        text-align: right;\n",
       "    }\n",
       "</style>\n",
       "<table border=\"1\" class=\"dataframe\">\n",
       "  <thead>\n",
       "    <tr style=\"text-align: right;\">\n",
       "      <th></th>\n",
       "      <th>symbol</th>\n",
       "      <th>name</th>\n",
       "      <th>ensembl_gene_ID</th>\n",
       "      <th>entrezgene_ID</th>\n",
       "      <th>uniprot_ID</th>\n",
       "      <th>homologene_ID</th>\n",
       "    </tr>\n",
       "  </thead>\n",
       "  <tbody>\n",
       "    <tr>\n",
       "      <th style=\"font-style: italic;\" ></th>\n",
       "      <td style=\"font-style: italic;\" >&lt;object&gt;</td>\n",
       "      <td style=\"font-style: italic;\" >&lt;object&gt;</td>\n",
       "      <td style=\"font-style: italic;\" >&lt;object&gt;</td>\n",
       "      <td style=\"font-style: italic;\" >&lt;object&gt;</td>\n",
       "      <td style=\"font-style: italic;\" >&lt;object&gt;</td>\n",
       "      <td style=\"font-style: italic;\" >&lt;int64&gt;</td>\n",
       "    </tr>\n",
       "    <tr>\n",
       "      <th>0</th>\n",
       "      <td>Irf7</td>\n",
       "      <td>interferon regulatory factor 7</td>\n",
       "      <td>ENSRNOG00000017414</td>\n",
       "      <td>293624</td>\n",
       "      <td>NaN</td>\n",
       "      <td>128624</td>\n",
       "    </tr>\n",
       "  </tbody>\n",
       "</table>\n",
       "</div>\n"
      ],
      "text/plain": [
       "    symbol                            name     ensembl_gene_ID entrezgene_ID  \\\n",
       "  <object>                        <object>            <object>      <object>   \n",
       "0     Irf7  interferon regulatory factor 7  ENSRNOG00000017414        293624   \n",
       "\n",
       "  uniprot_ID  homologene_ID  \n",
       "    <object>        <int64>  \n",
       "0        NaN         128624  "
      ]
     },
     "execution_count": 322,
     "metadata": {},
     "output_type": "execute_result"
    }
   ],
   "source": [
    "genetable_r"
   ]
  },
  {
   "cell_type": "code",
   "execution_count": 363,
   "id": "ae0a56ab-2b0a-442b-a133-c04fa43a25ba",
   "metadata": {},
   "outputs": [
    {
     "data": {
      "text/plain": [
       "(1, 6)"
      ]
     },
     "execution_count": 363,
     "metadata": {},
     "output_type": "execute_result"
    }
   ],
   "source": [
    "genetable_r.shape"
   ]
  },
  {
   "cell_type": "code",
   "execution_count": 323,
   "id": "4564f65e-5cee-4fdc-81d5-15e80265d9dd",
   "metadata": {},
   "outputs": [
    {
     "data": {
      "text/plain": [
       "pandas.core.frame.DataFrame"
      ]
     },
     "execution_count": 323,
     "metadata": {},
     "output_type": "execute_result"
    }
   ],
   "source": [
    "type(genetable_r)"
   ]
  },
  {
   "cell_type": "markdown",
   "id": "f04b22ae-7229-47b2-9906-b16a2895c62e",
   "metadata": {},
   "source": [
    "# score"
   ]
  },
  {
   "cell_type": "markdown",
   "id": "6fbc0a81-eace-42c3-828a-2fcc95b05f28",
   "metadata": {},
   "source": [
    "## disease size"
   ]
  },
  {
   "cell_type": "code",
   "execution_count": 324,
   "id": "cf1db14f-d22f-409f-96b3-5e54a6157305",
   "metadata": {},
   "outputs": [],
   "source": [
    "query_associatedDiseases_info = \"\"\"\n",
    "    query target($ensemblId: String!) {\n",
    "        target(ensemblId: $ensemblId) {\n",
    "            associatedDiseases(enableIndirect: false) {\n",
    "                count\n",
    "            }\n",
    "        }\n",
    "    }\n",
    "\"\"\""
   ]
  },
  {
   "cell_type": "code",
   "execution_count": 325,
   "id": "d5d65a86-47f4-4c84-9287-628c8741ae77",
   "metadata": {},
   "outputs": [],
   "source": [
    "variables01 = {\"ensemblId\": ensembl_gene_ok}"
   ]
  },
  {
   "cell_type": "code",
   "execution_count": 326,
   "id": "2fdb8ea3-aea4-47dc-a18a-c401cf62fffe",
   "metadata": {},
   "outputs": [],
   "source": [
    "r01 = requests.post(base_url, json = {\"query\": query_associatedDiseases_info, \"variables\": variables01})"
   ]
  },
  {
   "cell_type": "code",
   "execution_count": 327,
   "id": "d8c9c909-c3a5-4c6e-b879-f066a55b5e69",
   "metadata": {},
   "outputs": [],
   "source": [
    "res01 = json.loads(r01.text)"
   ]
  },
  {
   "cell_type": "code",
   "execution_count": 328,
   "id": "9ab87097-dcb3-47ec-a969-34d24b08dcd3",
   "metadata": {},
   "outputs": [],
   "source": [
    "disease_size = res01[\"data\"][\"target\"][\"associatedDiseases\"][\"count\"]"
   ]
  },
  {
   "cell_type": "code",
   "execution_count": 329,
   "id": "5bf7b5c7-c72c-499d-a78a-ac607386d58b",
   "metadata": {},
   "outputs": [
    {
     "data": {
      "text/plain": [
       "274"
      ]
     },
     "execution_count": 329,
     "metadata": {},
     "output_type": "execute_result"
    }
   ],
   "source": [
    "disease_size"
   ]
  },
  {
   "cell_type": "code",
   "execution_count": 330,
   "id": "aed8ab21-c1e9-4860-9000-d640e5850372",
   "metadata": {},
   "outputs": [
    {
     "data": {
      "text/plain": [
       "int"
      ]
     },
     "execution_count": 330,
     "metadata": {},
     "output_type": "execute_result"
    }
   ],
   "source": [
    "type(disease_size)"
   ]
  },
  {
   "cell_type": "markdown",
   "id": "1f5312c6-ecf8-423e-b119-a615592b04ad",
   "metadata": {},
   "source": [
    "## overall"
   ]
  },
  {
   "cell_type": "code",
   "execution_count": 331,
   "id": "780b5a3c-5477-42e8-865b-6a031df4fea9",
   "metadata": {},
   "outputs": [],
   "source": [
    "query_associatedDiseases_scores = \"\"\"\n",
    "    query target($ensemblId: String!, $size: Int!) {\n",
    "        target(ensemblId: $ensemblId) {\n",
    "            associatedDiseases(enableIndirect: false, page: {index: 0, size: $size}) {\n",
    "                rows {\n",
    "                    score\n",
    "                    disease {\n",
    "                        id\n",
    "                        name\n",
    "                    }\n",
    "                }\n",
    "            }\n",
    "        }\n",
    "    }\n",
    "\"\"\""
   ]
  },
  {
   "cell_type": "code",
   "execution_count": 332,
   "id": "0c4c6768-d3da-4a4e-bf68-9d0f2eb56e18",
   "metadata": {},
   "outputs": [],
   "source": [
    "variables02 = {\"ensemblId\": ensembl_gene_ok, \"size\": disease_size}"
   ]
  },
  {
   "cell_type": "code",
   "execution_count": 333,
   "id": "4a9d6048-9daa-4ba6-95b0-74a08750acab",
   "metadata": {},
   "outputs": [],
   "source": [
    "r02 = requests.post(base_url, json = {\"query\": query_associatedDiseases_scores, \"variables\": variables02})"
   ]
  },
  {
   "cell_type": "code",
   "execution_count": 334,
   "id": "d0f2b553-1720-41b2-b1c7-afe4bf41591a",
   "metadata": {},
   "outputs": [],
   "source": [
    "res02 = json.loads(r02.text)"
   ]
  },
  {
   "cell_type": "code",
   "execution_count": 335,
   "id": "b547e01e-b5f9-4832-a4fc-e52f6d539f43",
   "metadata": {},
   "outputs": [],
   "source": [
    "overall_table = pd.DataFrame(list(flatsplode(res02[\"data\"][\"target\"][\"associatedDiseases\"]))) >> \\\n",
    "    da.select(\"rows.disease.id\", \"rows.disease.name\", \"rows.score\") >> \\\n",
    "    da.rename(disease_ID = \"rows.disease.id\", \n",
    "              disease_name = \"rows.disease.name\", \n",
    "              overall_score = \"rows.score\")"
   ]
  },
  {
   "cell_type": "code",
   "execution_count": 336,
   "id": "027f8fc8-c874-41dd-89fc-400ca606b1ac",
   "metadata": {},
   "outputs": [
    {
     "data": {
      "text/html": [
       "<div>\n",
       "<style scoped>\n",
       "    .dataframe tbody tr th:only-of-type {\n",
       "        vertical-align: middle;\n",
       "    }\n",
       "\n",
       "    .dataframe tbody tr th {\n",
       "        vertical-align: top;\n",
       "    }\n",
       "\n",
       "    .dataframe thead th {\n",
       "        text-align: right;\n",
       "    }\n",
       "</style>\n",
       "<table border=\"1\" class=\"dataframe\">\n",
       "  <thead>\n",
       "    <tr style=\"text-align: right;\">\n",
       "      <th></th>\n",
       "      <th>disease_ID</th>\n",
       "      <th>disease_name</th>\n",
       "      <th>overall_score</th>\n",
       "    </tr>\n",
       "  </thead>\n",
       "  <tbody>\n",
       "    <tr>\n",
       "      <th style=\"font-style: italic;\" ></th>\n",
       "      <td style=\"font-style: italic;\" >&lt;object&gt;</td>\n",
       "      <td style=\"font-style: italic;\" >&lt;object&gt;</td>\n",
       "      <td style=\"font-style: italic;\" >&lt;float64&gt;</td>\n",
       "    </tr>\n",
       "    <tr>\n",
       "      <th>0</th>\n",
       "      <td>MONDO_0015823</td>\n",
       "      <td>primary immunodeficiency due to a defect in ad...</td>\n",
       "      <td>0.464244</td>\n",
       "    </tr>\n",
       "    <tr>\n",
       "      <th>1</th>\n",
       "      <td>MONDO_0007915</td>\n",
       "      <td>systemic lupus erythematosus</td>\n",
       "      <td>0.337470</td>\n",
       "    </tr>\n",
       "    <tr>\n",
       "      <th>2</th>\n",
       "      <td>EFO_0004705</td>\n",
       "      <td>hypothyroidism</td>\n",
       "      <td>0.218722</td>\n",
       "    </tr>\n",
       "    <tr>\n",
       "      <th>3</th>\n",
       "      <td>EFO_0000571</td>\n",
       "      <td>lung adenocarcinoma</td>\n",
       "      <td>0.189006</td>\n",
       "    </tr>\n",
       "    <tr>\n",
       "      <th>4</th>\n",
       "      <td>MONDO_0011962</td>\n",
       "      <td>endometrial cancer</td>\n",
       "      <td>0.184790</td>\n",
       "    </tr>\n",
       "  </tbody>\n",
       "</table>\n",
       "</div>\n"
      ],
      "text/plain": [
       "      disease_ID                                       disease_name  \\\n",
       "        <object>                                           <object>   \n",
       "0  MONDO_0015823  primary immunodeficiency due to a defect in ad...   \n",
       "1  MONDO_0007915                       systemic lupus erythematosus   \n",
       "2    EFO_0004705                                     hypothyroidism   \n",
       "3    EFO_0000571                                lung adenocarcinoma   \n",
       "4  MONDO_0011962                                 endometrial cancer   \n",
       "\n",
       "   overall_score  \n",
       "       <float64>  \n",
       "0       0.464244  \n",
       "1       0.337470  \n",
       "2       0.218722  \n",
       "3       0.189006  \n",
       "4       0.184790  "
      ]
     },
     "execution_count": 336,
     "metadata": {},
     "output_type": "execute_result"
    }
   ],
   "source": [
    "overall_table.head()"
   ]
  },
  {
   "cell_type": "code",
   "execution_count": 337,
   "id": "1d010982-1394-4623-957b-eb30905ca105",
   "metadata": {},
   "outputs": [
    {
     "data": {
      "text/plain": [
       "(274, 3)"
      ]
     },
     "execution_count": 337,
     "metadata": {},
     "output_type": "execute_result"
    }
   ],
   "source": [
    "overall_table.shape"
   ]
  },
  {
   "cell_type": "code",
   "execution_count": 338,
   "id": "8ff26c92-fab5-4ee5-8bca-3e241e23b185",
   "metadata": {},
   "outputs": [
    {
     "data": {
      "text/plain": [
       "pandas.core.frame.DataFrame"
      ]
     },
     "execution_count": 338,
     "metadata": {},
     "output_type": "execute_result"
    }
   ],
   "source": [
    "type(overall_table)"
   ]
  },
  {
   "cell_type": "markdown",
   "id": "96cef43f-25b4-41d5-a9a0-d3d855cf61e9",
   "metadata": {},
   "source": [
    "## datatype"
   ]
  },
  {
   "cell_type": "code",
   "execution_count": 339,
   "id": "fc02413b-5c06-48c9-81a3-25ba6ec35878",
   "metadata": {},
   "outputs": [],
   "source": [
    "query_associatedDiseases_scores_dt = \"\"\"\n",
    "    query target($ensemblId: String!, $size: Int!) {\n",
    "        target(ensemblId: $ensemblId) {\n",
    "            associatedDiseases(enableIndirect: false, page: {index: 0, size: $size}) {\n",
    "                rows {\n",
    "                    datatypeScores {\n",
    "                        id\n",
    "                        score\n",
    "                    }\n",
    "                    disease {\n",
    "                        id\n",
    "                        name\n",
    "                    }\n",
    "                }\n",
    "            }\n",
    "        }\n",
    "    }\n",
    "\"\"\""
   ]
  },
  {
   "cell_type": "code",
   "execution_count": 340,
   "id": "c82838ee-66cc-4929-8e77-a0813cc59ca6",
   "metadata": {},
   "outputs": [],
   "source": [
    "r03 = requests.post(base_url, json = {\"query\": query_associatedDiseases_scores_dt, \"variables\": variables02})"
   ]
  },
  {
   "cell_type": "code",
   "execution_count": 341,
   "id": "e1804c46-cef6-45a6-9492-854f3847b811",
   "metadata": {},
   "outputs": [],
   "source": [
    "res03 = json.loads(r03.text)"
   ]
  },
  {
   "cell_type": "code",
   "execution_count": 342,
   "id": "7fe40e34-dc92-4f88-8a28-af65c79f162d",
   "metadata": {},
   "outputs": [],
   "source": [
    "dt_table = pd.DataFrame(list(flatsplode(res03[\"data\"][\"target\"][\"associatedDiseases\"]))) >> \\\n",
    "    da.select(\"rows.disease.id\", \"rows.disease.name\", \"rows.datatypeScores.id\", \"rows.datatypeScores.score\") >> \\\n",
    "    da.rename(disease_ID = \"rows.disease.id\", \n",
    "              disease_name = \"rows.disease.name\", \n",
    "              datatype = \"rows.datatypeScores.id\", \n",
    "              datatype_score = \"rows.datatypeScores.score\") >> \\\n",
    "    da.pivot_wider(names_from = da.f.datatype, values_from = da.f.datatype_score)"
   ]
  },
  {
   "cell_type": "code",
   "execution_count": 343,
   "id": "e507a8c4-3f8a-44d1-8315-8d361b9e3aa9",
   "metadata": {},
   "outputs": [
    {
     "data": {
      "text/html": [
       "<div>\n",
       "<style scoped>\n",
       "    .dataframe tbody tr th:only-of-type {\n",
       "        vertical-align: middle;\n",
       "    }\n",
       "\n",
       "    .dataframe tbody tr th {\n",
       "        vertical-align: top;\n",
       "    }\n",
       "\n",
       "    .dataframe thead th {\n",
       "        text-align: right;\n",
       "    }\n",
       "</style>\n",
       "<table border=\"1\" class=\"dataframe\">\n",
       "  <thead>\n",
       "    <tr style=\"text-align: right;\">\n",
       "      <th></th>\n",
       "      <th>disease_ID</th>\n",
       "      <th>disease_name</th>\n",
       "      <th>affected_pathway</th>\n",
       "      <th>animal_model</th>\n",
       "      <th>genetic_association</th>\n",
       "      <th>literature</th>\n",
       "      <th>rna_expression</th>\n",
       "    </tr>\n",
       "  </thead>\n",
       "  <tbody>\n",
       "    <tr>\n",
       "      <th style=\"font-style: italic;\" ></th>\n",
       "      <td style=\"font-style: italic;\" >&lt;object&gt;</td>\n",
       "      <td style=\"font-style: italic;\" >&lt;object&gt;</td>\n",
       "      <td style=\"font-style: italic;\" >&lt;float64&gt;</td>\n",
       "      <td style=\"font-style: italic;\" >&lt;float64&gt;</td>\n",
       "      <td style=\"font-style: italic;\" >&lt;float64&gt;</td>\n",
       "      <td style=\"font-style: italic;\" >&lt;float64&gt;</td>\n",
       "      <td style=\"font-style: italic;\" >&lt;float64&gt;</td>\n",
       "    </tr>\n",
       "    <tr>\n",
       "      <th>0</th>\n",
       "      <td>DOID_7551</td>\n",
       "      <td>gonorrhea</td>\n",
       "      <td>NaN</td>\n",
       "      <td>NaN</td>\n",
       "      <td>NaN</td>\n",
       "      <td>0.042555</td>\n",
       "      <td>NaN</td>\n",
       "    </tr>\n",
       "    <tr>\n",
       "      <th>1</th>\n",
       "      <td>EFO_0000180</td>\n",
       "      <td>HIV-1 infection</td>\n",
       "      <td>NaN</td>\n",
       "      <td>NaN</td>\n",
       "      <td>NaN</td>\n",
       "      <td>0.205184</td>\n",
       "      <td>NaN</td>\n",
       "    </tr>\n",
       "    <tr>\n",
       "      <th>2</th>\n",
       "      <td>EFO_0000181</td>\n",
       "      <td>head and neck squamous cell carcinoma</td>\n",
       "      <td>0.330597</td>\n",
       "      <td>NaN</td>\n",
       "      <td>NaN</td>\n",
       "      <td>NaN</td>\n",
       "      <td>NaN</td>\n",
       "    </tr>\n",
       "    <tr>\n",
       "      <th>3</th>\n",
       "      <td>EFO_0000182</td>\n",
       "      <td>hepatocellular carcinoma</td>\n",
       "      <td>NaN</td>\n",
       "      <td>NaN</td>\n",
       "      <td>NaN</td>\n",
       "      <td>0.080995</td>\n",
       "      <td>NaN</td>\n",
       "    </tr>\n",
       "    <tr>\n",
       "      <th>4</th>\n",
       "      <td>EFO_0000220</td>\n",
       "      <td>acute lymphoblastic leukemia</td>\n",
       "      <td>NaN</td>\n",
       "      <td>NaN</td>\n",
       "      <td>NaN</td>\n",
       "      <td>0.012159</td>\n",
       "      <td>NaN</td>\n",
       "    </tr>\n",
       "  </tbody>\n",
       "</table>\n",
       "</div>\n"
      ],
      "text/plain": [
       "    disease_ID                           disease_name  affected_pathway  \\\n",
       "      <object>                               <object>         <float64>   \n",
       "0    DOID_7551                              gonorrhea               NaN   \n",
       "1  EFO_0000180                        HIV-1 infection               NaN   \n",
       "2  EFO_0000181  head and neck squamous cell carcinoma          0.330597   \n",
       "3  EFO_0000182               hepatocellular carcinoma               NaN   \n",
       "4  EFO_0000220           acute lymphoblastic leukemia               NaN   \n",
       "\n",
       "   animal_model  genetic_association  literature  rna_expression  \n",
       "      <float64>            <float64>   <float64>       <float64>  \n",
       "0           NaN                  NaN    0.042555             NaN  \n",
       "1           NaN                  NaN    0.205184             NaN  \n",
       "2           NaN                  NaN         NaN             NaN  \n",
       "3           NaN                  NaN    0.080995             NaN  \n",
       "4           NaN                  NaN    0.012159             NaN  "
      ]
     },
     "execution_count": 343,
     "metadata": {},
     "output_type": "execute_result"
    }
   ],
   "source": [
    "dt_table.head()"
   ]
  },
  {
   "cell_type": "code",
   "execution_count": 344,
   "id": "d673b061-6d72-4c5b-aef8-cc197880ebe6",
   "metadata": {},
   "outputs": [
    {
     "data": {
      "text/plain": [
       "(274, 7)"
      ]
     },
     "execution_count": 344,
     "metadata": {},
     "output_type": "execute_result"
    }
   ],
   "source": [
    "dt_table.shape"
   ]
  },
  {
   "cell_type": "code",
   "execution_count": 345,
   "id": "8fa42ec9-7440-4c7e-a2b8-97e6a97d4f28",
   "metadata": {},
   "outputs": [
    {
     "data": {
      "text/plain": [
       "datar.core.tibble.Tibble"
      ]
     },
     "execution_count": 345,
     "metadata": {},
     "output_type": "execute_result"
    }
   ],
   "source": [
    "type(dt_table)"
   ]
  },
  {
   "cell_type": "code",
   "execution_count": 380,
   "id": "2f7b1b5b-bd3f-4893-81d9-21d9065b320d",
   "metadata": {},
   "outputs": [],
   "source": [
    "dt_table00 = pd.DataFrame({\n",
    "    \"disease_ID\": pd.Series([], dtype = object), \n",
    "    \"disease_name\": pd.Series([], dtype = object), \n",
    "    \n",
    "    \"known_drug\": pd.Series([], dtype = np.float64), \n",
    "    \"genetic_association\": pd.Series([], dtype = np.float64), \n",
    "    \"animal_model\": pd.Series([], dtype = np.float64), \n",
    "    \"literature\": pd.Series([], dtype = np.float64), \n",
    "    \"rna_expression\": pd.Series([], dtype = np.float64), \n",
    "    \"affected_pathway\": pd.Series([], dtype = np.float64), \n",
    "    \"somatic_mutation\": pd.Series([], dtype = np.float64)\n",
    "    }\n",
    ")"
   ]
  },
  {
   "cell_type": "code",
   "execution_count": 348,
   "id": "fa0ee21e-b06e-46e8-8055-8f8d28cec00e",
   "metadata": {},
   "outputs": [
    {
     "data": {
      "text/html": [
       "<div>\n",
       "<style scoped>\n",
       "    .dataframe tbody tr th:only-of-type {\n",
       "        vertical-align: middle;\n",
       "    }\n",
       "\n",
       "    .dataframe tbody tr th {\n",
       "        vertical-align: top;\n",
       "    }\n",
       "\n",
       "    .dataframe thead th {\n",
       "        text-align: right;\n",
       "    }\n",
       "</style>\n",
       "<table border=\"1\" class=\"dataframe\">\n",
       "  <thead>\n",
       "    <tr style=\"text-align: right;\">\n",
       "      <th></th>\n",
       "      <th>disease_ID</th>\n",
       "      <th>disease_name</th>\n",
       "      <th>known_drug</th>\n",
       "      <th>genetic_association</th>\n",
       "      <th>animal_model</th>\n",
       "      <th>literature</th>\n",
       "      <th>rna_expression</th>\n",
       "      <th>affected_pathway</th>\n",
       "      <th>somatic_mutation</th>\n",
       "    </tr>\n",
       "  </thead>\n",
       "  <tbody>\n",
       "    <tr>\n",
       "      <th style=\"font-style: italic;\" ></th>\n",
       "      <td style=\"font-style: italic;\" >&lt;object&gt;</td>\n",
       "      <td style=\"font-style: italic;\" >&lt;object&gt;</td>\n",
       "      <td style=\"font-style: italic;\" >&lt;float64&gt;</td>\n",
       "      <td style=\"font-style: italic;\" >&lt;float64&gt;</td>\n",
       "      <td style=\"font-style: italic;\" >&lt;float64&gt;</td>\n",
       "      <td style=\"font-style: italic;\" >&lt;float64&gt;</td>\n",
       "      <td style=\"font-style: italic;\" >&lt;float64&gt;</td>\n",
       "      <td style=\"font-style: italic;\" >&lt;float64&gt;</td>\n",
       "      <td style=\"font-style: italic;\" >&lt;float64&gt;</td>\n",
       "    </tr>\n",
       "  </tbody>\n",
       "</table>\n",
       "</div>\n"
      ],
      "text/plain": [
       "Empty DataFrame\n",
       "Columns: [disease_ID, disease_name, known_drug, genetic_association, animal_model, literature, rna_expression, affected_pathway, somatic_mutation]\n",
       "Index: []"
      ]
     },
     "execution_count": 348,
     "metadata": {},
     "output_type": "execute_result"
    }
   ],
   "source": [
    "dt_table00"
   ]
  },
  {
   "cell_type": "code",
   "execution_count": 349,
   "id": "4d861827-c84d-44b1-b323-c8c5967784a5",
   "metadata": {},
   "outputs": [
    {
     "data": {
      "text/plain": [
       "(0, 9)"
      ]
     },
     "execution_count": 349,
     "metadata": {},
     "output_type": "execute_result"
    }
   ],
   "source": [
    "dt_table00.shape"
   ]
  },
  {
   "cell_type": "code",
   "execution_count": 350,
   "id": "2f01a471-ca28-49b7-a5e0-db218b98dd71",
   "metadata": {},
   "outputs": [
    {
     "data": {
      "text/plain": [
       "pandas.core.frame.DataFrame"
      ]
     },
     "execution_count": 350,
     "metadata": {},
     "output_type": "execute_result"
    }
   ],
   "source": [
    "type(dt_table00)"
   ]
  },
  {
   "cell_type": "code",
   "execution_count": 365,
   "id": "b9a4e162-4b97-4495-91f8-c5134a2995d3",
   "metadata": {},
   "outputs": [],
   "source": [
    "dt_table_ok = pd.concat([dt_table00, dt_table]) >> \\\n",
    "    da.replace_na(dict(known_drug = 0, genetic_association = 0, animal_model = 0, \n",
    "                       literature = 0, rna_expression = 0, \n",
    "                       affected_pathway = 0, somatic_mutation = 0))"
   ]
  },
  {
   "cell_type": "code",
   "execution_count": 367,
   "id": "cea2ad44-6251-41e5-8cc7-a3109fd76c38",
   "metadata": {},
   "outputs": [
    {
     "data": {
      "text/html": [
       "<div>\n",
       "<style scoped>\n",
       "    .dataframe tbody tr th:only-of-type {\n",
       "        vertical-align: middle;\n",
       "    }\n",
       "\n",
       "    .dataframe tbody tr th {\n",
       "        vertical-align: top;\n",
       "    }\n",
       "\n",
       "    .dataframe thead th {\n",
       "        text-align: right;\n",
       "    }\n",
       "</style>\n",
       "<table border=\"1\" class=\"dataframe\">\n",
       "  <thead>\n",
       "    <tr style=\"text-align: right;\">\n",
       "      <th></th>\n",
       "      <th>disease_ID</th>\n",
       "      <th>disease_name</th>\n",
       "      <th>known_drug</th>\n",
       "      <th>genetic_association</th>\n",
       "      <th>animal_model</th>\n",
       "      <th>literature</th>\n",
       "      <th>rna_expression</th>\n",
       "      <th>affected_pathway</th>\n",
       "      <th>somatic_mutation</th>\n",
       "    </tr>\n",
       "  </thead>\n",
       "  <tbody>\n",
       "    <tr>\n",
       "      <th style=\"font-style: italic;\" ></th>\n",
       "      <td style=\"font-style: italic;\" >&lt;object&gt;</td>\n",
       "      <td style=\"font-style: italic;\" >&lt;object&gt;</td>\n",
       "      <td style=\"font-style: italic;\" >&lt;float64&gt;</td>\n",
       "      <td style=\"font-style: italic;\" >&lt;float64&gt;</td>\n",
       "      <td style=\"font-style: italic;\" >&lt;float64&gt;</td>\n",
       "      <td style=\"font-style: italic;\" >&lt;float64&gt;</td>\n",
       "      <td style=\"font-style: italic;\" >&lt;float64&gt;</td>\n",
       "      <td style=\"font-style: italic;\" >&lt;float64&gt;</td>\n",
       "      <td style=\"font-style: italic;\" >&lt;float64&gt;</td>\n",
       "    </tr>\n",
       "    <tr>\n",
       "      <th>0</th>\n",
       "      <td>DOID_7551</td>\n",
       "      <td>gonorrhea</td>\n",
       "      <td>0.0</td>\n",
       "      <td>0.0</td>\n",
       "      <td>0.0</td>\n",
       "      <td>0.042555</td>\n",
       "      <td>0.0</td>\n",
       "      <td>0.000000</td>\n",
       "      <td>0.0</td>\n",
       "    </tr>\n",
       "    <tr>\n",
       "      <th>1</th>\n",
       "      <td>EFO_0000180</td>\n",
       "      <td>HIV-1 infection</td>\n",
       "      <td>0.0</td>\n",
       "      <td>0.0</td>\n",
       "      <td>0.0</td>\n",
       "      <td>0.205184</td>\n",
       "      <td>0.0</td>\n",
       "      <td>0.000000</td>\n",
       "      <td>0.0</td>\n",
       "    </tr>\n",
       "    <tr>\n",
       "      <th>2</th>\n",
       "      <td>EFO_0000181</td>\n",
       "      <td>head and neck squamous cell carcinoma</td>\n",
       "      <td>0.0</td>\n",
       "      <td>0.0</td>\n",
       "      <td>0.0</td>\n",
       "      <td>0.000000</td>\n",
       "      <td>0.0</td>\n",
       "      <td>0.330597</td>\n",
       "      <td>0.0</td>\n",
       "    </tr>\n",
       "    <tr>\n",
       "      <th>3</th>\n",
       "      <td>EFO_0000182</td>\n",
       "      <td>hepatocellular carcinoma</td>\n",
       "      <td>0.0</td>\n",
       "      <td>0.0</td>\n",
       "      <td>0.0</td>\n",
       "      <td>0.080995</td>\n",
       "      <td>0.0</td>\n",
       "      <td>0.000000</td>\n",
       "      <td>0.0</td>\n",
       "    </tr>\n",
       "    <tr>\n",
       "      <th>4</th>\n",
       "      <td>EFO_0000220</td>\n",
       "      <td>acute lymphoblastic leukemia</td>\n",
       "      <td>0.0</td>\n",
       "      <td>0.0</td>\n",
       "      <td>0.0</td>\n",
       "      <td>0.012159</td>\n",
       "      <td>0.0</td>\n",
       "      <td>0.000000</td>\n",
       "      <td>0.0</td>\n",
       "    </tr>\n",
       "  </tbody>\n",
       "</table>\n",
       "</div>\n"
      ],
      "text/plain": [
       "    disease_ID                           disease_name  known_drug  \\\n",
       "      <object>                               <object>   <float64>   \n",
       "0    DOID_7551                              gonorrhea         0.0   \n",
       "1  EFO_0000180                        HIV-1 infection         0.0   \n",
       "2  EFO_0000181  head and neck squamous cell carcinoma         0.0   \n",
       "3  EFO_0000182               hepatocellular carcinoma         0.0   \n",
       "4  EFO_0000220           acute lymphoblastic leukemia         0.0   \n",
       "\n",
       "   genetic_association  animal_model  literature  rna_expression  \\\n",
       "             <float64>     <float64>   <float64>       <float64>   \n",
       "0                  0.0           0.0    0.042555             0.0   \n",
       "1                  0.0           0.0    0.205184             0.0   \n",
       "2                  0.0           0.0    0.000000             0.0   \n",
       "3                  0.0           0.0    0.080995             0.0   \n",
       "4                  0.0           0.0    0.012159             0.0   \n",
       "\n",
       "   affected_pathway  somatic_mutation  \n",
       "          <float64>         <float64>  \n",
       "0          0.000000               0.0  \n",
       "1          0.000000               0.0  \n",
       "2          0.330597               0.0  \n",
       "3          0.000000               0.0  \n",
       "4          0.000000               0.0  "
      ]
     },
     "execution_count": 367,
     "metadata": {},
     "output_type": "execute_result"
    }
   ],
   "source": [
    "dt_table_ok.head()"
   ]
  },
  {
   "cell_type": "code",
   "execution_count": 368,
   "id": "6f8ea50e-8943-4bbc-9454-9ec75208bd5d",
   "metadata": {},
   "outputs": [
    {
     "data": {
      "text/plain": [
       "(274, 9)"
      ]
     },
     "execution_count": 368,
     "metadata": {},
     "output_type": "execute_result"
    }
   ],
   "source": [
    "dt_table_ok.shape"
   ]
  },
  {
   "cell_type": "code",
   "execution_count": 369,
   "id": "5a1711c0-84da-47b4-a604-19df1f2ba233",
   "metadata": {},
   "outputs": [
    {
     "data": {
      "text/plain": [
       "pandas.core.frame.DataFrame"
      ]
     },
     "execution_count": 369,
     "metadata": {},
     "output_type": "execute_result"
    }
   ],
   "source": [
    "type(dt_table_ok)"
   ]
  },
  {
   "cell_type": "markdown",
   "id": "c29fede9-47f7-4fb8-adf7-7958822ccc43",
   "metadata": {},
   "source": [
    "## datasource"
   ]
  },
  {
   "cell_type": "code",
   "execution_count": 370,
   "id": "9ff3a45b-ad9b-4b2f-bc91-5038fd4a9b8f",
   "metadata": {},
   "outputs": [],
   "source": [
    "query_associatedDiseases_scores_ds = \"\"\"\n",
    "    query target($ensemblId: String!, $size: Int!) {\n",
    "        target(ensemblId: $ensemblId) {\n",
    "            associatedDiseases(enableIndirect: false, page: {index: 0, size: $size}) {\n",
    "                rows {\n",
    "                    datasourceScores {\n",
    "                        id\n",
    "                        score\n",
    "                    }\n",
    "                    disease {\n",
    "                        id\n",
    "                        name\n",
    "                    }\n",
    "                }\n",
    "            }\n",
    "        }\n",
    "    }\n",
    "\"\"\""
   ]
  },
  {
   "cell_type": "code",
   "execution_count": 371,
   "id": "900e2d2b-9d03-4549-84cd-346d820b9ce1",
   "metadata": {},
   "outputs": [],
   "source": [
    "r04 = requests.post(base_url, json = {\"query\": query_associatedDiseases_scores_ds, \"variables\": variables02})"
   ]
  },
  {
   "cell_type": "code",
   "execution_count": 372,
   "id": "44997871-7938-4256-8908-3fc1de60a7de",
   "metadata": {},
   "outputs": [],
   "source": [
    "res04 = json.loads(r04.text)"
   ]
  },
  {
   "cell_type": "code",
   "execution_count": 376,
   "id": "f077011a-f23a-49a1-b92b-ea8d2017abdc",
   "metadata": {},
   "outputs": [],
   "source": [
    "ds_table = pd.DataFrame(list(flatsplode(res04[\"data\"][\"target\"][\"associatedDiseases\"]))) >> \\\n",
    "    da.select(\"rows.disease.id\", \"rows.disease.name\", \"rows.datasourceScores.id\", \"rows.datasourceScores.score\") >> \\\n",
    "    da.rename(disease_ID = \"rows.disease.id\", \n",
    "              disease_name = \"rows.disease.name\", \n",
    "              datasource = \"rows.datasourceScores.id\", \n",
    "              datasource_score = \"rows.datasourceScores.score\") >> \\\n",
    "    da.pivot_wider(names_from = da.f.datasource, values_from = da.f.datasource_score)"
   ]
  },
  {
   "cell_type": "code",
   "execution_count": 377,
   "id": "eb11d3a2-d9ba-4137-b56f-9613fb042194",
   "metadata": {},
   "outputs": [
    {
     "data": {
      "text/html": [
       "<div>\n",
       "<style scoped>\n",
       "    .dataframe tbody tr th:only-of-type {\n",
       "        vertical-align: middle;\n",
       "    }\n",
       "\n",
       "    .dataframe tbody tr th {\n",
       "        vertical-align: top;\n",
       "    }\n",
       "\n",
       "    .dataframe thead th {\n",
       "        text-align: right;\n",
       "    }\n",
       "</style>\n",
       "<table border=\"1\" class=\"dataframe\">\n",
       "  <thead>\n",
       "    <tr style=\"text-align: right;\">\n",
       "      <th></th>\n",
       "      <th>disease_ID</th>\n",
       "      <th>disease_name</th>\n",
       "      <th>europepmc</th>\n",
       "      <th>eva</th>\n",
       "      <th>expression_atlas</th>\n",
       "      <th>impc</th>\n",
       "      <th>ot_genetics_portal</th>\n",
       "      <th>slapenrich</th>\n",
       "    </tr>\n",
       "  </thead>\n",
       "  <tbody>\n",
       "    <tr>\n",
       "      <th style=\"font-style: italic;\" ></th>\n",
       "      <td style=\"font-style: italic;\" >&lt;object&gt;</td>\n",
       "      <td style=\"font-style: italic;\" >&lt;object&gt;</td>\n",
       "      <td style=\"font-style: italic;\" >&lt;float64&gt;</td>\n",
       "      <td style=\"font-style: italic;\" >&lt;float64&gt;</td>\n",
       "      <td style=\"font-style: italic;\" >&lt;float64&gt;</td>\n",
       "      <td style=\"font-style: italic;\" >&lt;float64&gt;</td>\n",
       "      <td style=\"font-style: italic;\" >&lt;float64&gt;</td>\n",
       "      <td style=\"font-style: italic;\" >&lt;float64&gt;</td>\n",
       "    </tr>\n",
       "    <tr>\n",
       "      <th>0</th>\n",
       "      <td>DOID_7551</td>\n",
       "      <td>gonorrhea</td>\n",
       "      <td>0.042555</td>\n",
       "      <td>NaN</td>\n",
       "      <td>NaN</td>\n",
       "      <td>NaN</td>\n",
       "      <td>NaN</td>\n",
       "      <td>NaN</td>\n",
       "    </tr>\n",
       "    <tr>\n",
       "      <th>1</th>\n",
       "      <td>EFO_0000180</td>\n",
       "      <td>HIV-1 infection</td>\n",
       "      <td>0.205184</td>\n",
       "      <td>NaN</td>\n",
       "      <td>NaN</td>\n",
       "      <td>NaN</td>\n",
       "      <td>NaN</td>\n",
       "      <td>NaN</td>\n",
       "    </tr>\n",
       "    <tr>\n",
       "      <th>2</th>\n",
       "      <td>EFO_0000181</td>\n",
       "      <td>head and neck squamous cell carcinoma</td>\n",
       "      <td>NaN</td>\n",
       "      <td>NaN</td>\n",
       "      <td>NaN</td>\n",
       "      <td>NaN</td>\n",
       "      <td>NaN</td>\n",
       "      <td>0.330597</td>\n",
       "    </tr>\n",
       "    <tr>\n",
       "      <th>3</th>\n",
       "      <td>EFO_0000182</td>\n",
       "      <td>hepatocellular carcinoma</td>\n",
       "      <td>0.080995</td>\n",
       "      <td>NaN</td>\n",
       "      <td>NaN</td>\n",
       "      <td>NaN</td>\n",
       "      <td>NaN</td>\n",
       "      <td>NaN</td>\n",
       "    </tr>\n",
       "    <tr>\n",
       "      <th>4</th>\n",
       "      <td>EFO_0000220</td>\n",
       "      <td>acute lymphoblastic leukemia</td>\n",
       "      <td>0.012159</td>\n",
       "      <td>NaN</td>\n",
       "      <td>NaN</td>\n",
       "      <td>NaN</td>\n",
       "      <td>NaN</td>\n",
       "      <td>NaN</td>\n",
       "    </tr>\n",
       "  </tbody>\n",
       "</table>\n",
       "</div>\n"
      ],
      "text/plain": [
       "    disease_ID                           disease_name  europepmc       eva  \\\n",
       "      <object>                               <object>  <float64> <float64>   \n",
       "0    DOID_7551                              gonorrhea   0.042555       NaN   \n",
       "1  EFO_0000180                        HIV-1 infection   0.205184       NaN   \n",
       "2  EFO_0000181  head and neck squamous cell carcinoma        NaN       NaN   \n",
       "3  EFO_0000182               hepatocellular carcinoma   0.080995       NaN   \n",
       "4  EFO_0000220           acute lymphoblastic leukemia   0.012159       NaN   \n",
       "\n",
       "   expression_atlas      impc  ot_genetics_portal  slapenrich  \n",
       "          <float64> <float64>           <float64>   <float64>  \n",
       "0               NaN       NaN                 NaN         NaN  \n",
       "1               NaN       NaN                 NaN         NaN  \n",
       "2               NaN       NaN                 NaN    0.330597  \n",
       "3               NaN       NaN                 NaN         NaN  \n",
       "4               NaN       NaN                 NaN         NaN  "
      ]
     },
     "execution_count": 377,
     "metadata": {},
     "output_type": "execute_result"
    }
   ],
   "source": [
    "ds_table.head()"
   ]
  },
  {
   "cell_type": "code",
   "execution_count": 378,
   "id": "93c775e0-75ae-45fc-9ca6-fa442a00ab53",
   "metadata": {},
   "outputs": [
    {
     "data": {
      "text/plain": [
       "(274, 8)"
      ]
     },
     "execution_count": 378,
     "metadata": {},
     "output_type": "execute_result"
    }
   ],
   "source": [
    "ds_table.shape"
   ]
  },
  {
   "cell_type": "code",
   "execution_count": 379,
   "id": "48f1ab7a-84b9-4a5f-9923-2fb4db23e6b6",
   "metadata": {},
   "outputs": [
    {
     "data": {
      "text/plain": [
       "datar.core.tibble.Tibble"
      ]
     },
     "execution_count": 379,
     "metadata": {},
     "output_type": "execute_result"
    }
   ],
   "source": [
    "type(ds_table)"
   ]
  },
  {
   "cell_type": "code",
   "execution_count": 385,
   "id": "a923e9f2-9694-461c-b046-051b72d2520a",
   "metadata": {},
   "outputs": [],
   "source": [
    "ds_table00 = pd.DataFrame({\n",
    "    \"disease_ID\": pd.Series([], dtype = object), \n",
    "    \"disease_name\": pd.Series([], dtype = object), \n",
    "    \n",
    "    \"chembl\": pd.Series([], dtype = np.float64), \n",
    "    \n",
    "    \"ot_genetics_portal\": pd.Series([], dtype = np.float64), \n",
    "    \"phewas_catalog\": pd.Series([], dtype = np.float64), \n",
    "    \n",
    "    \"eva\": pd.Series([], dtype = np.float64), \n",
    "    \"genomics_england\": pd.Series([], dtype = np.float64), \n",
    "    \"genephenotype\": pd.Series([], dtype = np.float64), \n",
    "    \"uniprot_literature\": pd.Series([], dtype = np.float64), \n",
    "    \"uniprot_variants\": pd.Series([], dtype = np.float64), \n",
    "    \"clingen\": pd.Series([], dtype = np.float64), \n",
    "    \"orphanet\": pd.Series([], dtype = np.float64), \n",
    "    \n",
    "    \"impc\": pd.Series([], dtype = np.float64), \n",
    "    \n",
    "    \"europepmc\": pd.Series([], dtype = np.float64), \n",
    "    \n",
    "    \"expression_atlas\": pd.Series([], dtype = np.float64), \n",
    "    \n",
    "    \"crispr\": pd.Series([], dtype = np.float64), \n",
    "    \"cancer_biomarkers\": pd.Series([], dtype = np.float64), \n",
    "    \"slapenrich\": pd.Series([], dtype = np.float64), \n",
    "    \"progeny\": pd.Series([], dtype = np.float64), \n",
    "    \n",
    "    \"reactome\": pd.Series([], dtype = np.float64), \n",
    "    \"sysbio\": pd.Series([], dtype = np.float64), \n",
    "    \n",
    "    \"cancer_gene_census\": pd.Series([], dtype = np.float64), \n",
    "    \"intogen\": pd.Series([], dtype = np.float64), \n",
    "    \"eva_somatic\": pd.Series([], dtype = np.float64)\n",
    "    }\n",
    ")"
   ]
  },
  {
   "cell_type": "code",
   "execution_count": 386,
   "id": "f51d70a6-13fb-4d08-88ec-e88afd34bab8",
   "metadata": {},
   "outputs": [
    {
     "data": {
      "text/html": [
       "<div>\n",
       "<style scoped>\n",
       "    .dataframe tbody tr th:only-of-type {\n",
       "        vertical-align: middle;\n",
       "    }\n",
       "\n",
       "    .dataframe tbody tr th {\n",
       "        vertical-align: top;\n",
       "    }\n",
       "\n",
       "    .dataframe thead th {\n",
       "        text-align: right;\n",
       "    }\n",
       "</style>\n",
       "<table border=\"1\" class=\"dataframe\">\n",
       "  <thead>\n",
       "    <tr style=\"text-align: right;\">\n",
       "      <th></th>\n",
       "      <th>disease_ID</th>\n",
       "      <th>disease_name</th>\n",
       "      <th>chembl</th>\n",
       "      <th>ot_genetics_portal</th>\n",
       "      <th>phewas_catalog</th>\n",
       "      <th>eva</th>\n",
       "      <th>genomics_england</th>\n",
       "      <th>genephenotype</th>\n",
       "      <th>uniprot_literature</th>\n",
       "      <th>uniprot_variants</th>\n",
       "      <th>...</th>\n",
       "      <th>expression_atlas</th>\n",
       "      <th>crispr</th>\n",
       "      <th>cancer_biomarkers</th>\n",
       "      <th>slapenrich</th>\n",
       "      <th>progeny</th>\n",
       "      <th>reactome</th>\n",
       "      <th>sysbio</th>\n",
       "      <th>cancer_gene_census</th>\n",
       "      <th>intogen</th>\n",
       "      <th>eva_somatic</th>\n",
       "    </tr>\n",
       "  </thead>\n",
       "  <tbody>\n",
       "    <tr>\n",
       "      <th style=\"font-style: italic;\" ></th>\n",
       "      <td style=\"font-style: italic;\" >&lt;object&gt;</td>\n",
       "      <td style=\"font-style: italic;\" >&lt;object&gt;</td>\n",
       "      <td style=\"font-style: italic;\" >&lt;float64&gt;</td>\n",
       "      <td style=\"font-style: italic;\" >&lt;float64&gt;</td>\n",
       "      <td style=\"font-style: italic;\" >&lt;float64&gt;</td>\n",
       "      <td style=\"font-style: italic;\" >&lt;float64&gt;</td>\n",
       "      <td style=\"font-style: italic;\" >&lt;float64&gt;</td>\n",
       "      <td style=\"font-style: italic;\" >&lt;float64&gt;</td>\n",
       "      <td style=\"font-style: italic;\" >&lt;float64&gt;</td>\n",
       "      <td style=\"font-style: italic;\" >&lt;float64&gt;</td>\n",
       "      <td style=\"font-style: italic;\" >...</td>\n",
       "      <td style=\"font-style: italic;\" >&lt;float64&gt;</td>\n",
       "      <td style=\"font-style: italic;\" >&lt;float64&gt;</td>\n",
       "      <td style=\"font-style: italic;\" >&lt;float64&gt;</td>\n",
       "      <td style=\"font-style: italic;\" >&lt;float64&gt;</td>\n",
       "      <td style=\"font-style: italic;\" >&lt;float64&gt;</td>\n",
       "      <td style=\"font-style: italic;\" >&lt;float64&gt;</td>\n",
       "      <td style=\"font-style: italic;\" >&lt;float64&gt;</td>\n",
       "      <td style=\"font-style: italic;\" >&lt;float64&gt;</td>\n",
       "      <td style=\"font-style: italic;\" >&lt;float64&gt;</td>\n",
       "      <td style=\"font-style: italic;\" >&lt;float64&gt;</td>\n",
       "    </tr>\n",
       "  </tbody>\n",
       "</table>\n",
       "<p>0 rows × 24 columns</p>\n",
       "</div>\n"
      ],
      "text/plain": [
       "Empty DataFrame\n",
       "Columns: [disease_ID, disease_name, chembl, ot_genetics_portal, phewas_catalog, eva, genomics_england, genephenotype, uniprot_literature, uniprot_variants, clingen, orphanet, impc, europepmc, expression_atlas, crispr, cancer_biomarkers, slapenrich, progeny, reactome, sysbio, cancer_gene_census, intogen, eva_somatic]\n",
       "Index: []\n",
       "\n",
       "[0 rows x 24 columns]"
      ]
     },
     "execution_count": 386,
     "metadata": {},
     "output_type": "execute_result"
    }
   ],
   "source": [
    "ds_table00"
   ]
  },
  {
   "cell_type": "code",
   "execution_count": 383,
   "id": "09a91441-2863-4d54-b5d7-76150cd568df",
   "metadata": {},
   "outputs": [
    {
     "data": {
      "text/plain": [
       "(0, 24)"
      ]
     },
     "execution_count": 383,
     "metadata": {},
     "output_type": "execute_result"
    }
   ],
   "source": [
    "ds_table00.shape"
   ]
  },
  {
   "cell_type": "code",
   "execution_count": 384,
   "id": "1726ac03-e944-4df9-80cf-d73026d554e2",
   "metadata": {},
   "outputs": [
    {
     "data": {
      "text/plain": [
       "pandas.core.frame.DataFrame"
      ]
     },
     "execution_count": 384,
     "metadata": {},
     "output_type": "execute_result"
    }
   ],
   "source": [
    "type(ds_table00)"
   ]
  },
  {
   "cell_type": "code",
   "execution_count": 387,
   "id": "5d0a81cf-4b3c-4f67-ae18-08ceefd71733",
   "metadata": {},
   "outputs": [],
   "source": [
    "ds_table_ok = pd.concat([ds_table00, ds_table]) >> \\\n",
    "    da.replace_na(dict(chembl = 0, \n",
    "                       ot_genetics_portal = 0, phewas_catalog = 0, \n",
    "                       eva = 0, genomics_england = 0, genephenotype = 0, uniprot_literature = 0, \n",
    "                       uniprot_variants = 0, clingen = 0, orphanet = 0, \n",
    "                       impc = 0, \n",
    "                       europepmc = 0, \n",
    "                       expression_atlas = 0, \n",
    "                       crispr = 0, cancer_biomarkers = 0, slapenrich = 0, progeny = 0, \n",
    "                       reactome = 0, sysbio = 0, \n",
    "                       cancer_gene_census = 0, intogen = 0, eva_somatic = 0))"
   ]
  },
  {
   "cell_type": "code",
   "execution_count": 388,
   "id": "3d0a3123-2cab-4264-b48e-6bf29aec89cb",
   "metadata": {},
   "outputs": [
    {
     "data": {
      "text/html": [
       "<div>\n",
       "<style scoped>\n",
       "    .dataframe tbody tr th:only-of-type {\n",
       "        vertical-align: middle;\n",
       "    }\n",
       "\n",
       "    .dataframe tbody tr th {\n",
       "        vertical-align: top;\n",
       "    }\n",
       "\n",
       "    .dataframe thead th {\n",
       "        text-align: right;\n",
       "    }\n",
       "</style>\n",
       "<table border=\"1\" class=\"dataframe\">\n",
       "  <thead>\n",
       "    <tr style=\"text-align: right;\">\n",
       "      <th></th>\n",
       "      <th>disease_ID</th>\n",
       "      <th>disease_name</th>\n",
       "      <th>chembl</th>\n",
       "      <th>ot_genetics_portal</th>\n",
       "      <th>phewas_catalog</th>\n",
       "      <th>eva</th>\n",
       "      <th>genomics_england</th>\n",
       "      <th>genephenotype</th>\n",
       "      <th>uniprot_literature</th>\n",
       "      <th>uniprot_variants</th>\n",
       "      <th>...</th>\n",
       "      <th>expression_atlas</th>\n",
       "      <th>crispr</th>\n",
       "      <th>cancer_biomarkers</th>\n",
       "      <th>slapenrich</th>\n",
       "      <th>progeny</th>\n",
       "      <th>reactome</th>\n",
       "      <th>sysbio</th>\n",
       "      <th>cancer_gene_census</th>\n",
       "      <th>intogen</th>\n",
       "      <th>eva_somatic</th>\n",
       "    </tr>\n",
       "  </thead>\n",
       "  <tbody>\n",
       "    <tr>\n",
       "      <th style=\"font-style: italic;\" ></th>\n",
       "      <td style=\"font-style: italic;\" >&lt;object&gt;</td>\n",
       "      <td style=\"font-style: italic;\" >&lt;object&gt;</td>\n",
       "      <td style=\"font-style: italic;\" >&lt;float64&gt;</td>\n",
       "      <td style=\"font-style: italic;\" >&lt;float64&gt;</td>\n",
       "      <td style=\"font-style: italic;\" >&lt;float64&gt;</td>\n",
       "      <td style=\"font-style: italic;\" >&lt;float64&gt;</td>\n",
       "      <td style=\"font-style: italic;\" >&lt;float64&gt;</td>\n",
       "      <td style=\"font-style: italic;\" >&lt;float64&gt;</td>\n",
       "      <td style=\"font-style: italic;\" >&lt;float64&gt;</td>\n",
       "      <td style=\"font-style: italic;\" >&lt;float64&gt;</td>\n",
       "      <td style=\"font-style: italic;\" >...</td>\n",
       "      <td style=\"font-style: italic;\" >&lt;float64&gt;</td>\n",
       "      <td style=\"font-style: italic;\" >&lt;float64&gt;</td>\n",
       "      <td style=\"font-style: italic;\" >&lt;float64&gt;</td>\n",
       "      <td style=\"font-style: italic;\" >&lt;float64&gt;</td>\n",
       "      <td style=\"font-style: italic;\" >&lt;float64&gt;</td>\n",
       "      <td style=\"font-style: italic;\" >&lt;float64&gt;</td>\n",
       "      <td style=\"font-style: italic;\" >&lt;float64&gt;</td>\n",
       "      <td style=\"font-style: italic;\" >&lt;float64&gt;</td>\n",
       "      <td style=\"font-style: italic;\" >&lt;float64&gt;</td>\n",
       "      <td style=\"font-style: italic;\" >&lt;float64&gt;</td>\n",
       "    </tr>\n",
       "    <tr>\n",
       "      <th>0</th>\n",
       "      <td>DOID_7551</td>\n",
       "      <td>gonorrhea</td>\n",
       "      <td>0.0</td>\n",
       "      <td>0.0</td>\n",
       "      <td>0.0</td>\n",
       "      <td>0.0</td>\n",
       "      <td>0.0</td>\n",
       "      <td>0.0</td>\n",
       "      <td>0.0</td>\n",
       "      <td>0.0</td>\n",
       "      <td>...</td>\n",
       "      <td>0.0</td>\n",
       "      <td>0.0</td>\n",
       "      <td>0.0</td>\n",
       "      <td>0.000000</td>\n",
       "      <td>0.0</td>\n",
       "      <td>0.0</td>\n",
       "      <td>0.0</td>\n",
       "      <td>0.0</td>\n",
       "      <td>0.0</td>\n",
       "      <td>0.0</td>\n",
       "    </tr>\n",
       "    <tr>\n",
       "      <th>1</th>\n",
       "      <td>EFO_0000180</td>\n",
       "      <td>HIV-1 infection</td>\n",
       "      <td>0.0</td>\n",
       "      <td>0.0</td>\n",
       "      <td>0.0</td>\n",
       "      <td>0.0</td>\n",
       "      <td>0.0</td>\n",
       "      <td>0.0</td>\n",
       "      <td>0.0</td>\n",
       "      <td>0.0</td>\n",
       "      <td>...</td>\n",
       "      <td>0.0</td>\n",
       "      <td>0.0</td>\n",
       "      <td>0.0</td>\n",
       "      <td>0.000000</td>\n",
       "      <td>0.0</td>\n",
       "      <td>0.0</td>\n",
       "      <td>0.0</td>\n",
       "      <td>0.0</td>\n",
       "      <td>0.0</td>\n",
       "      <td>0.0</td>\n",
       "    </tr>\n",
       "    <tr>\n",
       "      <th>2</th>\n",
       "      <td>EFO_0000181</td>\n",
       "      <td>head and neck squamous cell carcinoma</td>\n",
       "      <td>0.0</td>\n",
       "      <td>0.0</td>\n",
       "      <td>0.0</td>\n",
       "      <td>0.0</td>\n",
       "      <td>0.0</td>\n",
       "      <td>0.0</td>\n",
       "      <td>0.0</td>\n",
       "      <td>0.0</td>\n",
       "      <td>...</td>\n",
       "      <td>0.0</td>\n",
       "      <td>0.0</td>\n",
       "      <td>0.0</td>\n",
       "      <td>0.330597</td>\n",
       "      <td>0.0</td>\n",
       "      <td>0.0</td>\n",
       "      <td>0.0</td>\n",
       "      <td>0.0</td>\n",
       "      <td>0.0</td>\n",
       "      <td>0.0</td>\n",
       "    </tr>\n",
       "    <tr>\n",
       "      <th>3</th>\n",
       "      <td>EFO_0000182</td>\n",
       "      <td>hepatocellular carcinoma</td>\n",
       "      <td>0.0</td>\n",
       "      <td>0.0</td>\n",
       "      <td>0.0</td>\n",
       "      <td>0.0</td>\n",
       "      <td>0.0</td>\n",
       "      <td>0.0</td>\n",
       "      <td>0.0</td>\n",
       "      <td>0.0</td>\n",
       "      <td>...</td>\n",
       "      <td>0.0</td>\n",
       "      <td>0.0</td>\n",
       "      <td>0.0</td>\n",
       "      <td>0.000000</td>\n",
       "      <td>0.0</td>\n",
       "      <td>0.0</td>\n",
       "      <td>0.0</td>\n",
       "      <td>0.0</td>\n",
       "      <td>0.0</td>\n",
       "      <td>0.0</td>\n",
       "    </tr>\n",
       "    <tr>\n",
       "      <th>4</th>\n",
       "      <td>EFO_0000220</td>\n",
       "      <td>acute lymphoblastic leukemia</td>\n",
       "      <td>0.0</td>\n",
       "      <td>0.0</td>\n",
       "      <td>0.0</td>\n",
       "      <td>0.0</td>\n",
       "      <td>0.0</td>\n",
       "      <td>0.0</td>\n",
       "      <td>0.0</td>\n",
       "      <td>0.0</td>\n",
       "      <td>...</td>\n",
       "      <td>0.0</td>\n",
       "      <td>0.0</td>\n",
       "      <td>0.0</td>\n",
       "      <td>0.000000</td>\n",
       "      <td>0.0</td>\n",
       "      <td>0.0</td>\n",
       "      <td>0.0</td>\n",
       "      <td>0.0</td>\n",
       "      <td>0.0</td>\n",
       "      <td>0.0</td>\n",
       "    </tr>\n",
       "  </tbody>\n",
       "</table>\n",
       "<p>5 rows × 24 columns</p>\n",
       "</div>\n"
      ],
      "text/plain": [
       "    disease_ID                           disease_name    chembl  \\\n",
       "      <object>                               <object> <float64>   \n",
       "0    DOID_7551                              gonorrhea       0.0   \n",
       "1  EFO_0000180                        HIV-1 infection       0.0   \n",
       "2  EFO_0000181  head and neck squamous cell carcinoma       0.0   \n",
       "3  EFO_0000182               hepatocellular carcinoma       0.0   \n",
       "4  EFO_0000220           acute lymphoblastic leukemia       0.0   \n",
       "\n",
       "   ot_genetics_portal  phewas_catalog       eva  genomics_england  \\\n",
       "            <float64>       <float64> <float64>         <float64>   \n",
       "0                 0.0             0.0       0.0               0.0   \n",
       "1                 0.0             0.0       0.0               0.0   \n",
       "2                 0.0             0.0       0.0               0.0   \n",
       "3                 0.0             0.0       0.0               0.0   \n",
       "4                 0.0             0.0       0.0               0.0   \n",
       "\n",
       "   genephenotype  uniprot_literature  uniprot_variants  ...  expression_atlas  \\\n",
       "       <float64>           <float64>         <float64>  ...         <float64>   \n",
       "0            0.0                 0.0               0.0  ...               0.0   \n",
       "1            0.0                 0.0               0.0  ...               0.0   \n",
       "2            0.0                 0.0               0.0  ...               0.0   \n",
       "3            0.0                 0.0               0.0  ...               0.0   \n",
       "4            0.0                 0.0               0.0                    0.0   \n",
       "\n",
       "     crispr  cancer_biomarkers  slapenrich   progeny  reactome    sysbio  \\\n",
       "  <float64>          <float64>   <float64> <float64> <float64> <float64>   \n",
       "0       0.0                0.0    0.000000       0.0       0.0       0.0   \n",
       "1       0.0                0.0    0.000000       0.0       0.0       0.0   \n",
       "2       0.0                0.0    0.330597       0.0       0.0       0.0   \n",
       "3       0.0                0.0    0.000000       0.0       0.0       0.0   \n",
       "4       0.0                0.0    0.000000       0.0       0.0       0.0   \n",
       "\n",
       "   cancer_gene_census   intogen  eva_somatic  \n",
       "            <float64> <float64>    <float64>  \n",
       "0                 0.0       0.0          0.0  \n",
       "1                 0.0       0.0          0.0  \n",
       "2                 0.0       0.0          0.0  \n",
       "3                 0.0       0.0          0.0  \n",
       "4                 0.0       0.0          0.0  \n",
       "\n",
       "[5 rows x 24 columns]"
      ]
     },
     "execution_count": 388,
     "metadata": {},
     "output_type": "execute_result"
    }
   ],
   "source": [
    "ds_table_ok.head()"
   ]
  },
  {
   "cell_type": "code",
   "execution_count": 389,
   "id": "898fc22e-3135-4824-9bdf-e061357a236a",
   "metadata": {},
   "outputs": [
    {
     "data": {
      "text/plain": [
       "(274, 24)"
      ]
     },
     "execution_count": 389,
     "metadata": {},
     "output_type": "execute_result"
    }
   ],
   "source": [
    "ds_table_ok.shape"
   ]
  },
  {
   "cell_type": "code",
   "execution_count": 390,
   "id": "202512c5-b396-4f0a-9e79-7302302c6460",
   "metadata": {},
   "outputs": [
    {
     "data": {
      "text/plain": [
       "pandas.core.frame.DataFrame"
      ]
     },
     "execution_count": 390,
     "metadata": {},
     "output_type": "execute_result"
    }
   ],
   "source": [
    "type(ds_table_ok)"
   ]
  },
  {
   "cell_type": "code",
   "execution_count": null,
   "id": "75388c9f-bae3-4082-a2b0-4b43c672070d",
   "metadata": {},
   "outputs": [],
   "source": []
  }
 ],
 "metadata": {
  "kernelspec": {
   "display_name": "Python 3.10 test",
   "language": "python",
   "name": "ipy310"
  },
  "language_info": {
   "codemirror_mode": {
    "name": "ipython",
    "version": 3
   },
   "file_extension": ".py",
   "mimetype": "text/x-python",
   "name": "python",
   "nbconvert_exporter": "python",
   "pygments_lexer": "ipython3",
   "version": "3.10.4"
  },
  "toc-autonumbering": true
 },
 "nbformat": 4,
 "nbformat_minor": 5
}
