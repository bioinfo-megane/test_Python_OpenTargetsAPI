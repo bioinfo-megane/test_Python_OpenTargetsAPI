{
 "cells": [
  {
   "attachments": {},
   "cell_type": "markdown",
   "id": "a693de7a-c70d-4a5b-b025-40679207857b",
   "metadata": {},
   "source": [
    "# package\n"
   ]
  },
  {
   "cell_type": "code",
   "execution_count": 1,
   "id": "057b80d3-352c-432b-a74b-beb145ff0f96",
   "metadata": {},
   "outputs": [],
   "source": [
    "import json\n",
    "import math\n",
    "import time\n",
    "\n",
    "import mygene\n",
    "import numpy as np\n",
    "import pandas as pd\n",
    "import requests\n",
    "import sympy as sym\n",
    "from flatsplode import flatsplode"
   ]
  },
  {
   "attachments": {},
   "cell_type": "markdown",
   "id": "8deaf379-f7bd-4e83-bedd-f004a183ffbc",
   "metadata": {},
   "source": [
    "# geneinfo\n"
   ]
  },
  {
   "attachments": {},
   "cell_type": "markdown",
   "id": "86812adf-675a-4a0e-8809-c84ac78c8a84",
   "metadata": {},
   "source": [
    "## human\n"
   ]
  },
  {
   "cell_type": "code",
   "execution_count": 2,
   "id": "c06f8da6-588a-43f9-91c2-1bca97a3e68c",
   "metadata": {},
   "outputs": [],
   "source": [
    "# input_symbol = \"PTH1R\"\n",
    "input_symbol = \"IRF7\"\n",
    "# input_symbol = \"T\"\n",
    "# input_symbol = \"\""
   ]
  },
  {
   "cell_type": "code",
   "execution_count": 3,
   "id": "108b835c-96cd-4b77-870c-e393d1a36bb6",
   "metadata": {},
   "outputs": [],
   "source": [
    "mg = mygene.MyGeneInfo()"
   ]
  },
  {
   "cell_type": "code",
   "execution_count": 4,
   "id": "5e3aa728-ef79-4587-866c-d86614a70265",
   "metadata": {},
   "outputs": [],
   "source": [
    "genetable0 = mg.query(\n",
    "    \"symbol:\" + input_symbol,\n",
    "    fields=\"symbol, name, ensembl.gene, entrezgene, uniprot.Swiss-Prot, homologene.id\",\n",
    "    species=\"human\",\n",
    ")"
   ]
  },
  {
   "cell_type": "code",
   "execution_count": 5,
   "id": "da44d453-1d93-4bb6-9d55-1035ba34388a",
   "metadata": {},
   "outputs": [
    {
     "data": {
      "text/plain": [
       "{'took': 3,\n",
       " 'total': 1,\n",
       " 'max_score': 17.752981,\n",
       " 'hits': [{'_id': '3665',\n",
       "   '_score': 17.752981,\n",
       "   'ensembl': [{'gene': 'ENSG00000276561'}, {'gene': 'ENSG00000185507'}],\n",
       "   'entrezgene': '3665',\n",
       "   'homologene': {'id': 128624},\n",
       "   'name': 'interferon regulatory factor 7',\n",
       "   'symbol': 'IRF7',\n",
       "   'uniprot': {'Swiss-Prot': 'Q92985'}}]}"
      ]
     },
     "execution_count": 5,
     "metadata": {},
     "output_type": "execute_result"
    }
   ],
   "source": [
    "genetable0"
   ]
  },
  {
   "cell_type": "code",
   "execution_count": 6,
   "id": "afc5c346-8a00-459b-852d-e2c96020224c",
   "metadata": {},
   "outputs": [
    {
     "data": {
      "text/html": [
       "<div>\n",
       "<style scoped>\n",
       "    .dataframe tbody tr th:only-of-type {\n",
       "        vertical-align: middle;\n",
       "    }\n",
       "\n",
       "    .dataframe tbody tr th {\n",
       "        vertical-align: top;\n",
       "    }\n",
       "\n",
       "    .dataframe thead th {\n",
       "        text-align: right;\n",
       "    }\n",
       "</style>\n",
       "<table border=\"1\" class=\"dataframe\">\n",
       "  <thead>\n",
       "    <tr style=\"text-align: right;\">\n",
       "      <th></th>\n",
       "      <th>_id</th>\n",
       "      <th>_score</th>\n",
       "      <th>ensembl.gene</th>\n",
       "      <th>entrezgene</th>\n",
       "      <th>homologene.id</th>\n",
       "      <th>name</th>\n",
       "      <th>symbol</th>\n",
       "      <th>uniprot.Swiss-Prot</th>\n",
       "    </tr>\n",
       "  </thead>\n",
       "  <tbody>\n",
       "    <tr>\n",
       "      <th>0</th>\n",
       "      <td>3665</td>\n",
       "      <td>17.752981</td>\n",
       "      <td>ENSG00000276561</td>\n",
       "      <td>3665</td>\n",
       "      <td>128624</td>\n",
       "      <td>interferon regulatory factor 7</td>\n",
       "      <td>IRF7</td>\n",
       "      <td>Q92985</td>\n",
       "    </tr>\n",
       "    <tr>\n",
       "      <th>1</th>\n",
       "      <td>3665</td>\n",
       "      <td>17.752981</td>\n",
       "      <td>ENSG00000185507</td>\n",
       "      <td>3665</td>\n",
       "      <td>128624</td>\n",
       "      <td>interferon regulatory factor 7</td>\n",
       "      <td>IRF7</td>\n",
       "      <td>Q92985</td>\n",
       "    </tr>\n",
       "  </tbody>\n",
       "</table>\n",
       "</div>"
      ],
      "text/plain": [
       "    _id     _score     ensembl.gene entrezgene  homologene.id  \\\n",
       "0  3665  17.752981  ENSG00000276561       3665         128624   \n",
       "1  3665  17.752981  ENSG00000185507       3665         128624   \n",
       "\n",
       "                             name symbol uniprot.Swiss-Prot  \n",
       "0  interferon regulatory factor 7   IRF7             Q92985  \n",
       "1  interferon regulatory factor 7   IRF7             Q92985  "
      ]
     },
     "execution_count": 6,
     "metadata": {},
     "output_type": "execute_result"
    }
   ],
   "source": [
    "pd.DataFrame(list(flatsplode(genetable0[\"hits\"][0])))"
   ]
  },
  {
   "cell_type": "code",
   "execution_count": 7,
   "id": "913e2b5e-1862-41ff-b414-bcadc88f11a4",
   "metadata": {},
   "outputs": [],
   "source": [
    "if genetable0[\"total\"] == 0:\n",
    "    print(\"Please input the correct gene symbol.\")"
   ]
  },
  {
   "cell_type": "code",
   "execution_count": 8,
   "id": "c64b5eee-40fe-4e9d-91ae-931f6eb7f634",
   "metadata": {},
   "outputs": [],
   "source": [
    "genetable00 = pd.DataFrame(\n",
    "    {\n",
    "        \"symbol\": pd.Series([], dtype=object),\n",
    "        \"name\": pd.Series([], dtype=object),\n",
    "        \"ensembl.gene\": pd.Series([], dtype=object),\n",
    "        \"entrezgene\": pd.Series([], dtype=object),\n",
    "        \"uniprot.Swiss-Prot\": pd.Series([], dtype=object),\n",
    "        \"homologene.id\": pd.Series([], dtype=np.int64),\n",
    "    }\n",
    ")"
   ]
  },
  {
   "cell_type": "code",
   "execution_count": 9,
   "id": "b243e78e-a3f6-4947-8ad6-40af4da81772",
   "metadata": {},
   "outputs": [
    {
     "data": {
      "text/html": [
       "<div>\n",
       "<style scoped>\n",
       "    .dataframe tbody tr th:only-of-type {\n",
       "        vertical-align: middle;\n",
       "    }\n",
       "\n",
       "    .dataframe tbody tr th {\n",
       "        vertical-align: top;\n",
       "    }\n",
       "\n",
       "    .dataframe thead th {\n",
       "        text-align: right;\n",
       "    }\n",
       "</style>\n",
       "<table border=\"1\" class=\"dataframe\">\n",
       "  <thead>\n",
       "    <tr style=\"text-align: right;\">\n",
       "      <th></th>\n",
       "      <th>symbol</th>\n",
       "      <th>name</th>\n",
       "      <th>ensembl.gene</th>\n",
       "      <th>entrezgene</th>\n",
       "      <th>uniprot.Swiss-Prot</th>\n",
       "      <th>homologene.id</th>\n",
       "    </tr>\n",
       "  </thead>\n",
       "  <tbody>\n",
       "  </tbody>\n",
       "</table>\n",
       "</div>"
      ],
      "text/plain": [
       "Empty DataFrame\n",
       "Columns: [symbol, name, ensembl.gene, entrezgene, uniprot.Swiss-Prot, homologene.id]\n",
       "Index: []"
      ]
     },
     "metadata": {},
     "output_type": "display_data"
    },
    {
     "data": {
      "text/plain": [
       "(0, 6)"
      ]
     },
     "metadata": {},
     "output_type": "display_data"
    },
    {
     "data": {
      "text/plain": [
       "pandas.core.frame.DataFrame"
      ]
     },
     "metadata": {},
     "output_type": "display_data"
    }
   ],
   "source": [
    "display(genetable00)\n",
    "\n",
    "display(genetable00.shape)\n",
    "\n",
    "display(type(genetable00))"
   ]
  },
  {
   "cell_type": "code",
   "execution_count": 10,
   "id": "744e3f88-8324-45f9-aacf-73d44c099465",
   "metadata": {},
   "outputs": [],
   "source": [
    "genetable = (\n",
    "    pd.concat([genetable00, pd.DataFrame(list(flatsplode(genetable0[\"hits\"][0])))])\n",
    "    .filter(\n",
    "        [\n",
    "            \"symbol\",\n",
    "            \"name\",\n",
    "            \"ensembl.gene\",\n",
    "            \"entrezgene\",\n",
    "            \"uniprot.Swiss-Prot\",\n",
    "            \"homologene.id\",\n",
    "        ]\n",
    "    )\n",
    "    .rename(\n",
    "        columns={\n",
    "            \"ensembl.gene\": \"ensembl_gene_ID\",\n",
    "            \"entrezgene\": \"entrezgene_ID\",\n",
    "            \"uniprot.Swiss-Prot\": \"uniprot_ID\",\n",
    "            \"homologene.id\": \"homologene_ID\",\n",
    "        }\n",
    "    )\n",
    ")"
   ]
  },
  {
   "cell_type": "code",
   "execution_count": 11,
   "id": "33e33675-51d1-480c-82c7-3bc46488769a",
   "metadata": {},
   "outputs": [
    {
     "data": {
      "text/html": [
       "<div>\n",
       "<style scoped>\n",
       "    .dataframe tbody tr th:only-of-type {\n",
       "        vertical-align: middle;\n",
       "    }\n",
       "\n",
       "    .dataframe tbody tr th {\n",
       "        vertical-align: top;\n",
       "    }\n",
       "\n",
       "    .dataframe thead th {\n",
       "        text-align: right;\n",
       "    }\n",
       "</style>\n",
       "<table border=\"1\" class=\"dataframe\">\n",
       "  <thead>\n",
       "    <tr style=\"text-align: right;\">\n",
       "      <th></th>\n",
       "      <th>symbol</th>\n",
       "      <th>name</th>\n",
       "      <th>ensembl_gene_ID</th>\n",
       "      <th>entrezgene_ID</th>\n",
       "      <th>uniprot_ID</th>\n",
       "      <th>homologene_ID</th>\n",
       "    </tr>\n",
       "  </thead>\n",
       "  <tbody>\n",
       "    <tr>\n",
       "      <th>0</th>\n",
       "      <td>IRF7</td>\n",
       "      <td>interferon regulatory factor 7</td>\n",
       "      <td>ENSG00000276561</td>\n",
       "      <td>3665</td>\n",
       "      <td>Q92985</td>\n",
       "      <td>128624</td>\n",
       "    </tr>\n",
       "    <tr>\n",
       "      <th>1</th>\n",
       "      <td>IRF7</td>\n",
       "      <td>interferon regulatory factor 7</td>\n",
       "      <td>ENSG00000185507</td>\n",
       "      <td>3665</td>\n",
       "      <td>Q92985</td>\n",
       "      <td>128624</td>\n",
       "    </tr>\n",
       "  </tbody>\n",
       "</table>\n",
       "</div>"
      ],
      "text/plain": [
       "  symbol                            name  ensembl_gene_ID entrezgene_ID  \\\n",
       "0   IRF7  interferon regulatory factor 7  ENSG00000276561          3665   \n",
       "1   IRF7  interferon regulatory factor 7  ENSG00000185507          3665   \n",
       "\n",
       "  uniprot_ID  homologene_ID  \n",
       "0     Q92985         128624  \n",
       "1     Q92985         128624  "
      ]
     },
     "metadata": {},
     "output_type": "display_data"
    },
    {
     "data": {
      "text/plain": [
       "(2, 6)"
      ]
     },
     "metadata": {},
     "output_type": "display_data"
    },
    {
     "data": {
      "text/plain": [
       "pandas.core.frame.DataFrame"
      ]
     },
     "metadata": {},
     "output_type": "display_data"
    }
   ],
   "source": [
    "display(genetable)\n",
    "display(genetable.shape)\n",
    "display(type(genetable))"
   ]
  },
  {
   "cell_type": "code",
   "execution_count": 12,
   "id": "2d58bac2-e9ae-4e3d-8a0a-cf9984252492",
   "metadata": {},
   "outputs": [],
   "source": [
    "gene_ensembls = genetable.ensembl_gene_ID.tolist()"
   ]
  },
  {
   "cell_type": "code",
   "execution_count": 13,
   "id": "15198528-67fb-4872-864c-a100fb92c568",
   "metadata": {},
   "outputs": [
    {
     "data": {
      "text/plain": [
       "['ENSG00000276561', 'ENSG00000185507']"
      ]
     },
     "metadata": {},
     "output_type": "display_data"
    },
    {
     "data": {
      "text/plain": [
       "2"
      ]
     },
     "metadata": {},
     "output_type": "display_data"
    },
    {
     "data": {
      "text/plain": [
       "list"
      ]
     },
     "metadata": {},
     "output_type": "display_data"
    }
   ],
   "source": [
    "display(gene_ensembls)\n",
    "display(len(gene_ensembls))\n",
    "display(type(gene_ensembls))"
   ]
  },
  {
   "cell_type": "code",
   "execution_count": 14,
   "id": "a02b247a-bd6a-4925-8165-938e6733053c",
   "metadata": {},
   "outputs": [],
   "source": [
    "base_url = \"https://api.platform.opentargets.org/api/v4/graphql\""
   ]
  },
  {
   "cell_type": "code",
   "execution_count": 15,
   "id": "6ba56807-6738-4b87-bb7c-f17511bdaf32",
   "metadata": {},
   "outputs": [],
   "source": [
    "query_geneinfo = \"\"\"\n",
    "    query target ($ensemblId: String!) {\n",
    "        target (ensemblId: $ensemblId) {\n",
    "            id\n",
    "            approvedSymbol\n",
    "            approvedName\n",
    "        }\n",
    "    }\n",
    "\"\"\""
   ]
  },
  {
   "cell_type": "code",
   "execution_count": 16,
   "id": "5d3fdb5c-a42a-4427-bc25-1a42a341660d",
   "metadata": {},
   "outputs": [],
   "source": [
    "for gene_ensembl in gene_ensembls:\n",
    "    variables0 = {\"ensemblId\": gene_ensembl}\n",
    "\n",
    "    r0 = requests.post(\n",
    "        base_url, json={\"query\": query_geneinfo, \"variables\": variables0}\n",
    "    )\n",
    "\n",
    "    res0 = json.loads(r0.text)\n",
    "\n",
    "    if res0[\"data\"][\"target\"] == None:\n",
    "        continue\n",
    "    else:\n",
    "        break"
   ]
  },
  {
   "cell_type": "code",
   "execution_count": 17,
   "id": "d04aa2e5-5e95-4a5c-8168-e96a6c0d916a",
   "metadata": {},
   "outputs": [],
   "source": [
    "ensembl_gene_ok = pd.DataFrame(list(flatsplode(res0[\"data\"][\"target\"])))[\"id\"][0]"
   ]
  },
  {
   "cell_type": "code",
   "execution_count": 18,
   "id": "548ee354-f8f2-4e97-83ec-9591f7e2a021",
   "metadata": {},
   "outputs": [
    {
     "data": {
      "text/plain": [
       "'ENSG00000185507'"
      ]
     },
     "metadata": {},
     "output_type": "display_data"
    },
    {
     "data": {
      "text/plain": [
       "15"
      ]
     },
     "metadata": {},
     "output_type": "display_data"
    },
    {
     "data": {
      "text/plain": [
       "str"
      ]
     },
     "metadata": {},
     "output_type": "display_data"
    }
   ],
   "source": [
    "display(ensembl_gene_ok)\n",
    "display(len(ensembl_gene_ok))\n",
    "display(type(ensembl_gene_ok))"
   ]
  },
  {
   "cell_type": "code",
   "execution_count": 19,
   "id": "eaa43d1f-1b34-41f4-919f-df0df54129f4",
   "metadata": {},
   "outputs": [],
   "source": [
    "genetable_ok = genetable.query(\"ensembl_gene_ID == @ensembl_gene_ok\").reset_index(\n",
    "    drop=True\n",
    ")"
   ]
  },
  {
   "cell_type": "code",
   "execution_count": 20,
   "id": "971ffd3a-3ddc-484c-965e-90b89de4cac3",
   "metadata": {},
   "outputs": [
    {
     "data": {
      "text/html": [
       "<div>\n",
       "<style scoped>\n",
       "    .dataframe tbody tr th:only-of-type {\n",
       "        vertical-align: middle;\n",
       "    }\n",
       "\n",
       "    .dataframe tbody tr th {\n",
       "        vertical-align: top;\n",
       "    }\n",
       "\n",
       "    .dataframe thead th {\n",
       "        text-align: right;\n",
       "    }\n",
       "</style>\n",
       "<table border=\"1\" class=\"dataframe\">\n",
       "  <thead>\n",
       "    <tr style=\"text-align: right;\">\n",
       "      <th></th>\n",
       "      <th>symbol</th>\n",
       "      <th>name</th>\n",
       "      <th>ensembl_gene_ID</th>\n",
       "      <th>entrezgene_ID</th>\n",
       "      <th>uniprot_ID</th>\n",
       "      <th>homologene_ID</th>\n",
       "    </tr>\n",
       "  </thead>\n",
       "  <tbody>\n",
       "    <tr>\n",
       "      <th>0</th>\n",
       "      <td>IRF7</td>\n",
       "      <td>interferon regulatory factor 7</td>\n",
       "      <td>ENSG00000185507</td>\n",
       "      <td>3665</td>\n",
       "      <td>Q92985</td>\n",
       "      <td>128624</td>\n",
       "    </tr>\n",
       "  </tbody>\n",
       "</table>\n",
       "</div>"
      ],
      "text/plain": [
       "  symbol                            name  ensembl_gene_ID entrezgene_ID  \\\n",
       "0   IRF7  interferon regulatory factor 7  ENSG00000185507          3665   \n",
       "\n",
       "  uniprot_ID  homologene_ID  \n",
       "0     Q92985         128624  "
      ]
     },
     "metadata": {},
     "output_type": "display_data"
    },
    {
     "data": {
      "text/plain": [
       "(1, 6)"
      ]
     },
     "metadata": {},
     "output_type": "display_data"
    },
    {
     "data": {
      "text/plain": [
       "pandas.core.frame.DataFrame"
      ]
     },
     "metadata": {},
     "output_type": "display_data"
    }
   ],
   "source": [
    "display(genetable_ok)\n",
    "display(genetable_ok.shape)\n",
    "display(type(genetable_ok))"
   ]
  },
  {
   "cell_type": "code",
   "execution_count": 21,
   "id": "600e8561-7d73-4e60-a5ab-68c4246962cd",
   "metadata": {},
   "outputs": [],
   "source": [
    "# input_symbol = \"PTH1R\"\n",
    "input_symbol = \"IRF7\"\n",
    "# input_symbol = \"T\"\n",
    "# input_symbol = \"\"\n",
    "\n",
    "mg = mygene.MyGeneInfo()\n",
    "\n",
    "genetable0 = mg.query(\n",
    "    \"symbol:\" + input_symbol,\n",
    "    fields=\"symbol, name, ensembl.gene, entrezgene, uniprot.Swiss-Prot, homologene.id\",\n",
    "    species=\"human\",\n",
    ")\n",
    "\n",
    "if genetable0[\"total\"] == 0:\n",
    "    print(\"Please input the correct gene symbol.\")\n",
    "else:\n",
    "    genetable00 = pd.DataFrame(\n",
    "        {\n",
    "            \"symbol\": pd.Series([], dtype=object),\n",
    "            \"name\": pd.Series([], dtype=object),\n",
    "            \"ensembl.gene\": pd.Series([], dtype=object),\n",
    "            \"entrezgene\": pd.Series([], dtype=object),\n",
    "            \"uniprot.Swiss-Prot\": pd.Series([], dtype=object),\n",
    "            \"homologene.id\": pd.Series([], dtype=np.int64),\n",
    "        }\n",
    "    )\n",
    "\n",
    "    genetable = (\n",
    "        pd.concat([genetable00, pd.DataFrame(list(flatsplode(genetable0[\"hits\"][0])))])\n",
    "        .filter(\n",
    "            [\n",
    "                \"symbol\",\n",
    "                \"name\",\n",
    "                \"ensembl.gene\",\n",
    "                \"entrezgene\",\n",
    "                \"uniprot.Swiss-Prot\",\n",
    "                \"homologene.id\",\n",
    "            ]\n",
    "        )\n",
    "        .rename(\n",
    "            columns={\n",
    "                \"ensembl.gene\": \"ensembl_gene_ID\",\n",
    "                \"entrezgene\": \"entrezgene_ID\",\n",
    "                \"uniprot.Swiss-Prot\": \"uniprot_ID\",\n",
    "                \"homologene.id\": \"homologene_ID\",\n",
    "            }\n",
    "        )\n",
    "    )\n",
    "\n",
    "    gene_ensembls = genetable.ensembl_gene_ID.tolist()\n",
    "\n",
    "    base_url = \"https://api.platform.opentargets.org/api/v4/graphql\"\n",
    "\n",
    "    query_geneinfo = \"\"\"\n",
    "        query target ($ensemblId: String!) {\n",
    "            target (ensemblId: $ensemblId) {\n",
    "                id\n",
    "                approvedSymbol\n",
    "                approvedName\n",
    "            }\n",
    "        }\n",
    "    \"\"\"\n",
    "\n",
    "    res0 = {}\n",
    "\n",
    "    for gene_ensembl in gene_ensembls:\n",
    "        variables0 = {\"ensemblId\": gene_ensembl}\n",
    "\n",
    "        r0 = requests.post(\n",
    "            base_url, json={\"query\": query_geneinfo, \"variables\": variables0}\n",
    "        )\n",
    "\n",
    "        res0 = json.loads(r0.text)\n",
    "\n",
    "        if res0[\"data\"][\"target\"] == None:\n",
    "            continue\n",
    "        else:\n",
    "            break\n",
    "\n",
    "    ensembl_gene_ok = pd.DataFrame(list(flatsplode(res0[\"data\"][\"target\"])))[\"id\"][0]\n",
    "\n",
    "    genetable_ok = genetable.query(\"ensembl_gene_ID == @ensembl_gene_ok\").reset_index(\n",
    "        drop=True\n",
    "    )"
   ]
  },
  {
   "cell_type": "code",
   "execution_count": 22,
   "id": "fa7cd896-5408-4038-8d6c-77e4fdd71d25",
   "metadata": {},
   "outputs": [
    {
     "data": {
      "text/plain": [
       "'ENSG00000185507'"
      ]
     },
     "execution_count": 22,
     "metadata": {},
     "output_type": "execute_result"
    }
   ],
   "source": [
    "ensembl_gene_ok"
   ]
  },
  {
   "cell_type": "code",
   "execution_count": 23,
   "id": "e4c406b2-036f-4482-b812-cce64721556f",
   "metadata": {},
   "outputs": [
    {
     "data": {
      "text/html": [
       "<div>\n",
       "<style scoped>\n",
       "    .dataframe tbody tr th:only-of-type {\n",
       "        vertical-align: middle;\n",
       "    }\n",
       "\n",
       "    .dataframe tbody tr th {\n",
       "        vertical-align: top;\n",
       "    }\n",
       "\n",
       "    .dataframe thead th {\n",
       "        text-align: right;\n",
       "    }\n",
       "</style>\n",
       "<table border=\"1\" class=\"dataframe\">\n",
       "  <thead>\n",
       "    <tr style=\"text-align: right;\">\n",
       "      <th></th>\n",
       "      <th>symbol</th>\n",
       "      <th>name</th>\n",
       "      <th>ensembl_gene_ID</th>\n",
       "      <th>entrezgene_ID</th>\n",
       "      <th>uniprot_ID</th>\n",
       "      <th>homologene_ID</th>\n",
       "    </tr>\n",
       "  </thead>\n",
       "  <tbody>\n",
       "    <tr>\n",
       "      <th>0</th>\n",
       "      <td>IRF7</td>\n",
       "      <td>interferon regulatory factor 7</td>\n",
       "      <td>ENSG00000185507</td>\n",
       "      <td>3665</td>\n",
       "      <td>Q92985</td>\n",
       "      <td>128624</td>\n",
       "    </tr>\n",
       "  </tbody>\n",
       "</table>\n",
       "</div>"
      ],
      "text/plain": [
       "  symbol                            name  ensembl_gene_ID entrezgene_ID  \\\n",
       "0   IRF7  interferon regulatory factor 7  ENSG00000185507          3665   \n",
       "\n",
       "  uniprot_ID  homologene_ID  \n",
       "0     Q92985         128624  "
      ]
     },
     "metadata": {},
     "output_type": "display_data"
    },
    {
     "data": {
      "text/plain": [
       "(1, 6)"
      ]
     },
     "metadata": {},
     "output_type": "display_data"
    },
    {
     "data": {
      "text/plain": [
       "pandas.core.frame.DataFrame"
      ]
     },
     "metadata": {},
     "output_type": "display_data"
    }
   ],
   "source": [
    "display(genetable_ok)\n",
    "display(genetable_ok.shape)\n",
    "display(type(genetable_ok))"
   ]
  },
  {
   "attachments": {},
   "cell_type": "markdown",
   "id": "c5281979-f2b0-4ac6-8d3c-e1bdf98ea049",
   "metadata": {},
   "source": [
    "## homologene\n"
   ]
  },
  {
   "cell_type": "code",
   "execution_count": 24,
   "id": "f93fb882-f0a5-43f2-954f-0be791b43844",
   "metadata": {},
   "outputs": [
    {
     "data": {
      "text/plain": [
       "128624"
      ]
     },
     "metadata": {},
     "output_type": "display_data"
    },
    {
     "data": {
      "text/plain": [
       "1"
      ]
     },
     "metadata": {},
     "output_type": "display_data"
    },
    {
     "data": {
      "text/plain": [
       "int"
      ]
     },
     "metadata": {},
     "output_type": "display_data"
    },
    {
     "data": {
      "text/plain": [
       "False"
      ]
     },
     "metadata": {},
     "output_type": "display_data"
    }
   ],
   "source": [
    "display(genetable_ok.homologene_ID.tolist()[0])\n",
    "display(len(genetable_ok.homologene_ID.tolist()))\n",
    "display(type(genetable_ok.homologene_ID.tolist()[0]))\n",
    "display(np.isnan(genetable_ok.homologene_ID.tolist()[0]))"
   ]
  },
  {
   "attachments": {},
   "cell_type": "markdown",
   "id": "3e8b369c-0e0c-478b-a0ef-e3eb5e3ef3c9",
   "metadata": {},
   "source": [
    "### mouse\n"
   ]
  },
  {
   "cell_type": "code",
   "execution_count": 25,
   "id": "3e061f92-3b02-427f-a733-99f69397f829",
   "metadata": {},
   "outputs": [],
   "source": [
    "genetable_m0 = mg.query(\n",
    "    \"homologene.id: \" + str(genetable_ok.homologene_ID.tolist()[0]),\n",
    "    fields=\"symbol, name, ensembl.gene, entrezgene, uniprot.Swiss-Prot, homologene.id\",\n",
    "    species=\"mouse\",\n",
    ")"
   ]
  },
  {
   "cell_type": "code",
   "execution_count": 26,
   "id": "e84e298e-3318-4280-9d6e-8d835ae921c4",
   "metadata": {},
   "outputs": [
    {
     "data": {
      "text/plain": [
       "{'took': 5,\n",
       " 'total': 1,\n",
       " 'max_score': 1.3,\n",
       " 'hits': [{'_id': '54123',\n",
       "   '_score': 1.3,\n",
       "   'ensembl': {'gene': 'ENSMUSG00000025498'},\n",
       "   'entrezgene': '54123',\n",
       "   'homologene': {'id': 128624},\n",
       "   'name': 'interferon regulatory factor 7',\n",
       "   'symbol': 'Irf7',\n",
       "   'uniprot': {'Swiss-Prot': 'P70434'}}]}"
      ]
     },
     "execution_count": 26,
     "metadata": {},
     "output_type": "execute_result"
    }
   ],
   "source": [
    "genetable_m0"
   ]
  },
  {
   "cell_type": "code",
   "execution_count": 27,
   "id": "b403c502-8af7-4ea3-b4b3-9c6cd6767b50",
   "metadata": {},
   "outputs": [
    {
     "data": {
      "text/html": [
       "<div>\n",
       "<style scoped>\n",
       "    .dataframe tbody tr th:only-of-type {\n",
       "        vertical-align: middle;\n",
       "    }\n",
       "\n",
       "    .dataframe tbody tr th {\n",
       "        vertical-align: top;\n",
       "    }\n",
       "\n",
       "    .dataframe thead th {\n",
       "        text-align: right;\n",
       "    }\n",
       "</style>\n",
       "<table border=\"1\" class=\"dataframe\">\n",
       "  <thead>\n",
       "    <tr style=\"text-align: right;\">\n",
       "      <th></th>\n",
       "      <th>_id</th>\n",
       "      <th>_score</th>\n",
       "      <th>ensembl.gene</th>\n",
       "      <th>entrezgene</th>\n",
       "      <th>homologene.id</th>\n",
       "      <th>name</th>\n",
       "      <th>symbol</th>\n",
       "      <th>uniprot.Swiss-Prot</th>\n",
       "    </tr>\n",
       "  </thead>\n",
       "  <tbody>\n",
       "    <tr>\n",
       "      <th>0</th>\n",
       "      <td>54123</td>\n",
       "      <td>1.3</td>\n",
       "      <td>ENSMUSG00000025498</td>\n",
       "      <td>54123</td>\n",
       "      <td>128624</td>\n",
       "      <td>interferon regulatory factor 7</td>\n",
       "      <td>Irf7</td>\n",
       "      <td>P70434</td>\n",
       "    </tr>\n",
       "  </tbody>\n",
       "</table>\n",
       "</div>"
      ],
      "text/plain": [
       "     _id  _score        ensembl.gene entrezgene  homologene.id  \\\n",
       "0  54123     1.3  ENSMUSG00000025498      54123         128624   \n",
       "\n",
       "                             name symbol uniprot.Swiss-Prot  \n",
       "0  interferon regulatory factor 7   Irf7             P70434  "
      ]
     },
     "execution_count": 27,
     "metadata": {},
     "output_type": "execute_result"
    }
   ],
   "source": [
    "pd.DataFrame(list(flatsplode(genetable_m0[\"hits\"][0])))"
   ]
  },
  {
   "cell_type": "code",
   "execution_count": 28,
   "id": "7bb615b2-5393-494f-8ead-53d8a2e3b596",
   "metadata": {},
   "outputs": [
    {
     "data": {
      "text/plain": [
       "False"
      ]
     },
     "execution_count": 28,
     "metadata": {},
     "output_type": "execute_result"
    }
   ],
   "source": [
    "genetable_m0[\"total\"] == 0"
   ]
  },
  {
   "cell_type": "code",
   "execution_count": 29,
   "id": "04fafae9-5214-48e1-b478-eed5479950f9",
   "metadata": {},
   "outputs": [],
   "source": [
    "genetable_m = (\n",
    "    pd.concat([genetable00, pd.DataFrame(list(flatsplode(genetable_m0[\"hits\"][0])))])\n",
    "    .filter(\n",
    "        [\n",
    "            \"symbol\",\n",
    "            \"name\",\n",
    "            \"ensembl.gene\",\n",
    "            \"entrezgene\",\n",
    "            \"uniprot.Swiss-Prot\",\n",
    "            \"homologene.id\",\n",
    "        ]\n",
    "    )\n",
    "    .rename(\n",
    "        columns={\n",
    "            \"ensembl.gene\": \"ensembl_gene_ID\",\n",
    "            \"entrezgene\": \"entrezgene_ID\",\n",
    "            \"uniprot.Swiss-Prot\": \"uniprot_ID\",\n",
    "            \"homologene.id\": \"homologene_ID\",\n",
    "        }\n",
    "    )\n",
    ")"
   ]
  },
  {
   "cell_type": "code",
   "execution_count": 30,
   "id": "d738b644-399f-40b0-8b81-deb5211823f6",
   "metadata": {},
   "outputs": [
    {
     "data": {
      "text/html": [
       "<div>\n",
       "<style scoped>\n",
       "    .dataframe tbody tr th:only-of-type {\n",
       "        vertical-align: middle;\n",
       "    }\n",
       "\n",
       "    .dataframe tbody tr th {\n",
       "        vertical-align: top;\n",
       "    }\n",
       "\n",
       "    .dataframe thead th {\n",
       "        text-align: right;\n",
       "    }\n",
       "</style>\n",
       "<table border=\"1\" class=\"dataframe\">\n",
       "  <thead>\n",
       "    <tr style=\"text-align: right;\">\n",
       "      <th></th>\n",
       "      <th>symbol</th>\n",
       "      <th>name</th>\n",
       "      <th>ensembl_gene_ID</th>\n",
       "      <th>entrezgene_ID</th>\n",
       "      <th>uniprot_ID</th>\n",
       "      <th>homologene_ID</th>\n",
       "    </tr>\n",
       "  </thead>\n",
       "  <tbody>\n",
       "    <tr>\n",
       "      <th>0</th>\n",
       "      <td>Irf7</td>\n",
       "      <td>interferon regulatory factor 7</td>\n",
       "      <td>ENSMUSG00000025498</td>\n",
       "      <td>54123</td>\n",
       "      <td>P70434</td>\n",
       "      <td>128624</td>\n",
       "    </tr>\n",
       "  </tbody>\n",
       "</table>\n",
       "</div>"
      ],
      "text/plain": [
       "  symbol                            name     ensembl_gene_ID entrezgene_ID  \\\n",
       "0   Irf7  interferon regulatory factor 7  ENSMUSG00000025498         54123   \n",
       "\n",
       "  uniprot_ID  homologene_ID  \n",
       "0     P70434         128624  "
      ]
     },
     "metadata": {},
     "output_type": "display_data"
    },
    {
     "data": {
      "text/plain": [
       "(1, 6)"
      ]
     },
     "metadata": {},
     "output_type": "display_data"
    },
    {
     "data": {
      "text/plain": [
       "pandas.core.frame.DataFrame"
      ]
     },
     "metadata": {},
     "output_type": "display_data"
    }
   ],
   "source": [
    "display(genetable_m)\n",
    "display(genetable_m.shape)\n",
    "display(type(genetable_m))"
   ]
  },
  {
   "cell_type": "code",
   "execution_count": 31,
   "id": "85a9979c-51b9-4880-9197-c1170e11100c",
   "metadata": {},
   "outputs": [],
   "source": [
    "genetable_m0 = mg.query(\n",
    "    \"homologene.id: \" + str(genetable_ok.homologene_ID.tolist()[0]),\n",
    "    fields=\"symbol, name, ensembl.gene, entrezgene, uniprot.Swiss-Prot, homologene.id\",\n",
    "    species=\"mouse\",\n",
    ")\n",
    "\n",
    "genetable_m = (\n",
    "    pd.concat([genetable00, pd.DataFrame(list(flatsplode(genetable_m0[\"hits\"][0])))])\n",
    "    .filter(\n",
    "        [\n",
    "            \"symbol\",\n",
    "            \"name\",\n",
    "            \"ensembl.gene\",\n",
    "            \"entrezgene\",\n",
    "            \"uniprot.Swiss-Prot\",\n",
    "            \"homologene.id\",\n",
    "        ]\n",
    "    )\n",
    "    .rename(\n",
    "        columns={\n",
    "            \"ensembl.gene\": \"ensembl_gene_ID\",\n",
    "            \"entrezgene\": \"entrezgene_ID\",\n",
    "            \"uniprot.Swiss-Prot\": \"uniprot_ID\",\n",
    "            \"homologene.id\": \"homologene_ID\",\n",
    "        }\n",
    "    )\n",
    ")"
   ]
  },
  {
   "cell_type": "code",
   "execution_count": 32,
   "id": "82df2d91-f5e1-47f9-a255-f6e6016f434d",
   "metadata": {},
   "outputs": [
    {
     "data": {
      "text/html": [
       "<div>\n",
       "<style scoped>\n",
       "    .dataframe tbody tr th:only-of-type {\n",
       "        vertical-align: middle;\n",
       "    }\n",
       "\n",
       "    .dataframe tbody tr th {\n",
       "        vertical-align: top;\n",
       "    }\n",
       "\n",
       "    .dataframe thead th {\n",
       "        text-align: right;\n",
       "    }\n",
       "</style>\n",
       "<table border=\"1\" class=\"dataframe\">\n",
       "  <thead>\n",
       "    <tr style=\"text-align: right;\">\n",
       "      <th></th>\n",
       "      <th>symbol</th>\n",
       "      <th>name</th>\n",
       "      <th>ensembl_gene_ID</th>\n",
       "      <th>entrezgene_ID</th>\n",
       "      <th>uniprot_ID</th>\n",
       "      <th>homologene_ID</th>\n",
       "    </tr>\n",
       "  </thead>\n",
       "  <tbody>\n",
       "    <tr>\n",
       "      <th>0</th>\n",
       "      <td>Irf7</td>\n",
       "      <td>interferon regulatory factor 7</td>\n",
       "      <td>ENSMUSG00000025498</td>\n",
       "      <td>54123</td>\n",
       "      <td>P70434</td>\n",
       "      <td>128624</td>\n",
       "    </tr>\n",
       "  </tbody>\n",
       "</table>\n",
       "</div>"
      ],
      "text/plain": [
       "  symbol                            name     ensembl_gene_ID entrezgene_ID  \\\n",
       "0   Irf7  interferon regulatory factor 7  ENSMUSG00000025498         54123   \n",
       "\n",
       "  uniprot_ID  homologene_ID  \n",
       "0     P70434         128624  "
      ]
     },
     "metadata": {},
     "output_type": "display_data"
    },
    {
     "data": {
      "text/plain": [
       "(1, 6)"
      ]
     },
     "metadata": {},
     "output_type": "display_data"
    },
    {
     "data": {
      "text/plain": [
       "pandas.core.frame.DataFrame"
      ]
     },
     "metadata": {},
     "output_type": "display_data"
    }
   ],
   "source": [
    "display(genetable_m)\n",
    "display(genetable_m.shape)\n",
    "display(type(genetable_m))"
   ]
  },
  {
   "attachments": {},
   "cell_type": "markdown",
   "id": "6549aae5-0968-406b-8737-f450783d86d2",
   "metadata": {},
   "source": [
    "### rat\n"
   ]
  },
  {
   "cell_type": "code",
   "execution_count": 33,
   "id": "108b2094-885f-42c3-9ab4-ab43c8dadacf",
   "metadata": {},
   "outputs": [],
   "source": [
    "genetable_r0 = mg.query(\n",
    "    \"homologene.id: \" + str(genetable_ok.homologene_ID.tolist()[0]),\n",
    "    fields=\"symbol, name, ensembl.gene, entrezgene, uniprot.Swiss-Prot, homologene.id\",\n",
    "    species=\"rat\",\n",
    ")"
   ]
  },
  {
   "cell_type": "code",
   "execution_count": 34,
   "id": "c7cbf16a-fe80-44ed-b2ab-f157c2a7ef2f",
   "metadata": {},
   "outputs": [
    {
     "data": {
      "text/plain": [
       "{'took': 3,\n",
       " 'total': 1,\n",
       " 'max_score': 1.1,\n",
       " 'hits': [{'_id': '293624',\n",
       "   '_score': 1.1,\n",
       "   'ensembl': {'gene': 'ENSRNOG00000017414'},\n",
       "   'entrezgene': '293624',\n",
       "   'homologene': {'id': 128624},\n",
       "   'name': 'interferon regulatory factor 7',\n",
       "   'symbol': 'Irf7'}]}"
      ]
     },
     "execution_count": 34,
     "metadata": {},
     "output_type": "execute_result"
    }
   ],
   "source": [
    "genetable_r0"
   ]
  },
  {
   "cell_type": "code",
   "execution_count": 35,
   "id": "a98902c3-52bd-474f-b654-ac4d30b8e515",
   "metadata": {},
   "outputs": [
    {
     "data": {
      "text/html": [
       "<div>\n",
       "<style scoped>\n",
       "    .dataframe tbody tr th:only-of-type {\n",
       "        vertical-align: middle;\n",
       "    }\n",
       "\n",
       "    .dataframe tbody tr th {\n",
       "        vertical-align: top;\n",
       "    }\n",
       "\n",
       "    .dataframe thead th {\n",
       "        text-align: right;\n",
       "    }\n",
       "</style>\n",
       "<table border=\"1\" class=\"dataframe\">\n",
       "  <thead>\n",
       "    <tr style=\"text-align: right;\">\n",
       "      <th></th>\n",
       "      <th>_id</th>\n",
       "      <th>_score</th>\n",
       "      <th>ensembl.gene</th>\n",
       "      <th>entrezgene</th>\n",
       "      <th>homologene.id</th>\n",
       "      <th>name</th>\n",
       "      <th>symbol</th>\n",
       "    </tr>\n",
       "  </thead>\n",
       "  <tbody>\n",
       "    <tr>\n",
       "      <th>0</th>\n",
       "      <td>293624</td>\n",
       "      <td>1.1</td>\n",
       "      <td>ENSRNOG00000017414</td>\n",
       "      <td>293624</td>\n",
       "      <td>128624</td>\n",
       "      <td>interferon regulatory factor 7</td>\n",
       "      <td>Irf7</td>\n",
       "    </tr>\n",
       "  </tbody>\n",
       "</table>\n",
       "</div>"
      ],
      "text/plain": [
       "      _id  _score        ensembl.gene entrezgene  homologene.id  \\\n",
       "0  293624     1.1  ENSRNOG00000017414     293624         128624   \n",
       "\n",
       "                             name symbol  \n",
       "0  interferon regulatory factor 7   Irf7  "
      ]
     },
     "execution_count": 35,
     "metadata": {},
     "output_type": "execute_result"
    }
   ],
   "source": [
    "pd.DataFrame(list(flatsplode(genetable_r0[\"hits\"][0])))"
   ]
  },
  {
   "cell_type": "code",
   "execution_count": 36,
   "id": "c61e6ed2-cc4f-4d68-89c6-6ae41bd8280c",
   "metadata": {},
   "outputs": [
    {
     "data": {
      "text/plain": [
       "False"
      ]
     },
     "execution_count": 36,
     "metadata": {},
     "output_type": "execute_result"
    }
   ],
   "source": [
    "genetable_r0[\"total\"] == 0"
   ]
  },
  {
   "cell_type": "code",
   "execution_count": 37,
   "id": "63f621d4-c92a-4917-a8d3-5d467e200409",
   "metadata": {},
   "outputs": [],
   "source": [
    "genetable_r = (\n",
    "    pd.concat([genetable00, pd.DataFrame(list(flatsplode(genetable_r0[\"hits\"][0])))])\n",
    "    .filter(\n",
    "        [\n",
    "            \"symbol\",\n",
    "            \"name\",\n",
    "            \"ensembl.gene\",\n",
    "            \"entrezgene\",\n",
    "            \"uniprot.Swiss-Prot\",\n",
    "            \"homologene.id\",\n",
    "        ]\n",
    "    )\n",
    "    .rename(\n",
    "        columns={\n",
    "            \"ensembl.gene\": \"ensembl_gene_ID\",\n",
    "            \"entrezgene\": \"entrezgene_ID\",\n",
    "            \"uniprot.Swiss-Prot\": \"uniprot_ID\",\n",
    "            \"homologene.id\": \"homologene_ID\",\n",
    "        }\n",
    "    )\n",
    ")"
   ]
  },
  {
   "cell_type": "code",
   "execution_count": 38,
   "id": "0f7448f5-ff64-424f-8da0-6f268ebc7b99",
   "metadata": {},
   "outputs": [
    {
     "data": {
      "text/html": [
       "<div>\n",
       "<style scoped>\n",
       "    .dataframe tbody tr th:only-of-type {\n",
       "        vertical-align: middle;\n",
       "    }\n",
       "\n",
       "    .dataframe tbody tr th {\n",
       "        vertical-align: top;\n",
       "    }\n",
       "\n",
       "    .dataframe thead th {\n",
       "        text-align: right;\n",
       "    }\n",
       "</style>\n",
       "<table border=\"1\" class=\"dataframe\">\n",
       "  <thead>\n",
       "    <tr style=\"text-align: right;\">\n",
       "      <th></th>\n",
       "      <th>symbol</th>\n",
       "      <th>name</th>\n",
       "      <th>ensembl_gene_ID</th>\n",
       "      <th>entrezgene_ID</th>\n",
       "      <th>uniprot_ID</th>\n",
       "      <th>homologene_ID</th>\n",
       "    </tr>\n",
       "  </thead>\n",
       "  <tbody>\n",
       "    <tr>\n",
       "      <th>0</th>\n",
       "      <td>Irf7</td>\n",
       "      <td>interferon regulatory factor 7</td>\n",
       "      <td>ENSRNOG00000017414</td>\n",
       "      <td>293624</td>\n",
       "      <td>NaN</td>\n",
       "      <td>128624</td>\n",
       "    </tr>\n",
       "  </tbody>\n",
       "</table>\n",
       "</div>"
      ],
      "text/plain": [
       "  symbol                            name     ensembl_gene_ID entrezgene_ID  \\\n",
       "0   Irf7  interferon regulatory factor 7  ENSRNOG00000017414        293624   \n",
       "\n",
       "  uniprot_ID  homologene_ID  \n",
       "0        NaN         128624  "
      ]
     },
     "metadata": {},
     "output_type": "display_data"
    },
    {
     "data": {
      "text/plain": [
       "(1, 6)"
      ]
     },
     "metadata": {},
     "output_type": "display_data"
    },
    {
     "data": {
      "text/plain": [
       "pandas.core.frame.DataFrame"
      ]
     },
     "metadata": {},
     "output_type": "display_data"
    }
   ],
   "source": [
    "display(genetable_r)\n",
    "display(genetable_r.shape)\n",
    "display(type(genetable_r))"
   ]
  },
  {
   "cell_type": "code",
   "execution_count": 39,
   "id": "17590af7-2f8e-485b-9e6e-f9b1bb206b05",
   "metadata": {},
   "outputs": [],
   "source": [
    "genetable_r0 = mg.query(\n",
    "    \"homologene.id: \" + str(genetable_ok.homologene_ID.tolist()[0]),\n",
    "    fields=\"symbol, name, ensembl.gene, entrezgene, uniprot.Swiss-Prot, homologene.id\",\n",
    "    species=\"rat\",\n",
    ")\n",
    "\n",
    "genetable_r = (\n",
    "    pd.concat([genetable00, pd.DataFrame(list(flatsplode(genetable_r0[\"hits\"][0])))])\n",
    "    .filter(\n",
    "        [\n",
    "            \"symbol\",\n",
    "            \"name\",\n",
    "            \"ensembl.gene\",\n",
    "            \"entrezgene\",\n",
    "            \"uniprot.Swiss-Prot\",\n",
    "            \"homologene.id\",\n",
    "        ]\n",
    "    )\n",
    "    .rename(\n",
    "        columns={\n",
    "            \"ensembl.gene\": \"ensembl_gene_ID\",\n",
    "            \"entrezgene\": \"entrezgene_ID\",\n",
    "            \"uniprot.Swiss-Prot\": \"uniprot_ID\",\n",
    "            \"homologene.id\": \"homologene_ID\",\n",
    "        }\n",
    "    )\n",
    ")"
   ]
  },
  {
   "cell_type": "code",
   "execution_count": 40,
   "id": "438a35c7-aebb-4114-8466-8c1b1b432d26",
   "metadata": {},
   "outputs": [
    {
     "data": {
      "text/html": [
       "<div>\n",
       "<style scoped>\n",
       "    .dataframe tbody tr th:only-of-type {\n",
       "        vertical-align: middle;\n",
       "    }\n",
       "\n",
       "    .dataframe tbody tr th {\n",
       "        vertical-align: top;\n",
       "    }\n",
       "\n",
       "    .dataframe thead th {\n",
       "        text-align: right;\n",
       "    }\n",
       "</style>\n",
       "<table border=\"1\" class=\"dataframe\">\n",
       "  <thead>\n",
       "    <tr style=\"text-align: right;\">\n",
       "      <th></th>\n",
       "      <th>symbol</th>\n",
       "      <th>name</th>\n",
       "      <th>ensembl_gene_ID</th>\n",
       "      <th>entrezgene_ID</th>\n",
       "      <th>uniprot_ID</th>\n",
       "      <th>homologene_ID</th>\n",
       "    </tr>\n",
       "  </thead>\n",
       "  <tbody>\n",
       "    <tr>\n",
       "      <th>0</th>\n",
       "      <td>Irf7</td>\n",
       "      <td>interferon regulatory factor 7</td>\n",
       "      <td>ENSRNOG00000017414</td>\n",
       "      <td>293624</td>\n",
       "      <td>NaN</td>\n",
       "      <td>128624</td>\n",
       "    </tr>\n",
       "  </tbody>\n",
       "</table>\n",
       "</div>"
      ],
      "text/plain": [
       "  symbol                            name     ensembl_gene_ID entrezgene_ID  \\\n",
       "0   Irf7  interferon regulatory factor 7  ENSRNOG00000017414        293624   \n",
       "\n",
       "  uniprot_ID  homologene_ID  \n",
       "0        NaN         128624  "
      ]
     },
     "metadata": {},
     "output_type": "display_data"
    },
    {
     "data": {
      "text/plain": [
       "(1, 6)"
      ]
     },
     "metadata": {},
     "output_type": "display_data"
    },
    {
     "data": {
      "text/plain": [
       "pandas.core.frame.DataFrame"
      ]
     },
     "metadata": {},
     "output_type": "display_data"
    }
   ],
   "source": [
    "display(genetable_r)\n",
    "display(genetable_r.shape)\n",
    "display(type(genetable_r))"
   ]
  },
  {
   "attachments": {},
   "cell_type": "markdown",
   "id": "f04b22ae-7229-47b2-9906-b16a2895c62e",
   "metadata": {},
   "source": [
    "# score\n"
   ]
  },
  {
   "attachments": {},
   "cell_type": "markdown",
   "id": "6fbc0a81-eace-42c3-828a-2fcc95b05f28",
   "metadata": {},
   "source": [
    "## disease size\n"
   ]
  },
  {
   "cell_type": "code",
   "execution_count": 41,
   "id": "cf1db14f-d22f-409f-96b3-5e54a6157305",
   "metadata": {},
   "outputs": [],
   "source": [
    "query_associatedDiseases_info = \"\"\"\n",
    "    query target ($ensemblId: String!) {\n",
    "        target (ensemblId: $ensemblId) {\n",
    "            associatedDiseases (enableIndirect: false) {\n",
    "                count\n",
    "            }\n",
    "        }\n",
    "    }\n",
    "\"\"\""
   ]
  },
  {
   "cell_type": "code",
   "execution_count": 42,
   "id": "d5d65a86-47f4-4c84-9287-628c8741ae77",
   "metadata": {},
   "outputs": [],
   "source": [
    "variables01 = {\"ensemblId\": ensembl_gene_ok}"
   ]
  },
  {
   "cell_type": "code",
   "execution_count": 43,
   "id": "2fdb8ea3-aea4-47dc-a18a-c401cf62fffe",
   "metadata": {},
   "outputs": [],
   "source": [
    "r01 = requests.post(\n",
    "    base_url, json={\"query\": query_associatedDiseases_info, \"variables\": variables01}\n",
    ")"
   ]
  },
  {
   "cell_type": "code",
   "execution_count": 44,
   "id": "d8c9c909-c3a5-4c6e-b879-f066a55b5e69",
   "metadata": {},
   "outputs": [],
   "source": [
    "res01 = json.loads(r01.text)"
   ]
  },
  {
   "cell_type": "code",
   "execution_count": 45,
   "id": "9ab87097-dcb3-47ec-a969-34d24b08dcd3",
   "metadata": {},
   "outputs": [],
   "source": [
    "disease_size = res01[\"data\"][\"target\"][\"associatedDiseases\"][\"count\"]"
   ]
  },
  {
   "cell_type": "code",
   "execution_count": 46,
   "id": "5bf7b5c7-c72c-499d-a78a-ac607386d58b",
   "metadata": {},
   "outputs": [
    {
     "data": {
      "text/plain": [
       "245"
      ]
     },
     "metadata": {},
     "output_type": "display_data"
    },
    {
     "data": {
      "text/plain": [
       "int"
      ]
     },
     "metadata": {},
     "output_type": "display_data"
    }
   ],
   "source": [
    "display(disease_size)\n",
    "display(type(disease_size))"
   ]
  },
  {
   "attachments": {},
   "cell_type": "markdown",
   "id": "1f5312c6-ecf8-423e-b119-a615592b04ad",
   "metadata": {},
   "source": [
    "## overall\n"
   ]
  },
  {
   "cell_type": "code",
   "execution_count": 47,
   "id": "780b5a3c-5477-42e8-865b-6a031df4fea9",
   "metadata": {},
   "outputs": [],
   "source": [
    "query_associatedDiseases_scores = \"\"\"\n",
    "    query target ($ensemblId: String!, $size: Int!) {\n",
    "        target (ensemblId: $ensemblId) {\n",
    "            associatedDiseases (enableIndirect: false, page: {index: 0, size: $size}) {\n",
    "                rows {\n",
    "                    score\n",
    "                    disease {\n",
    "                        id\n",
    "                        name\n",
    "                    }\n",
    "                }\n",
    "            }\n",
    "        }\n",
    "    }\n",
    "\"\"\""
   ]
  },
  {
   "cell_type": "code",
   "execution_count": 48,
   "id": "0c4c6768-d3da-4a4e-bf68-9d0f2eb56e18",
   "metadata": {},
   "outputs": [],
   "source": [
    "variables02 = {\"ensemblId\": ensembl_gene_ok, \"size\": disease_size}"
   ]
  },
  {
   "cell_type": "code",
   "execution_count": 49,
   "id": "4a9d6048-9daa-4ba6-95b0-74a08750acab",
   "metadata": {},
   "outputs": [],
   "source": [
    "r02 = requests.post(\n",
    "    base_url, json={\"query\": query_associatedDiseases_scores, \"variables\": variables02}\n",
    ")"
   ]
  },
  {
   "cell_type": "code",
   "execution_count": 50,
   "id": "d0f2b553-1720-41b2-b1c7-afe4bf41591a",
   "metadata": {},
   "outputs": [],
   "source": [
    "res02 = json.loads(r02.text)"
   ]
  },
  {
   "cell_type": "code",
   "execution_count": 51,
   "id": "e9528690-5518-4ba5-a84c-ca5c4278a116",
   "metadata": {},
   "outputs": [],
   "source": [
    "overall_table = (\n",
    "    pd.DataFrame(list(flatsplode(res02[\"data\"][\"target\"][\"associatedDiseases\"])))\n",
    "    .filter([\"rows.disease.id\", \"rows.disease.name\", \"rows.score\"])\n",
    "    .rename(\n",
    "        columns={\n",
    "            \"rows.disease.id\": \"disease_ID\",\n",
    "            \"rows.disease.name\": \"disease_name\",\n",
    "            \"rows.score\": \"overall_score\",\n",
    "        }\n",
    "    )\n",
    ")"
   ]
  },
  {
   "cell_type": "code",
   "execution_count": 52,
   "id": "027f8fc8-c874-41dd-89fc-400ca606b1ac",
   "metadata": {},
   "outputs": [
    {
     "data": {
      "text/html": [
       "<div>\n",
       "<style scoped>\n",
       "    .dataframe tbody tr th:only-of-type {\n",
       "        vertical-align: middle;\n",
       "    }\n",
       "\n",
       "    .dataframe tbody tr th {\n",
       "        vertical-align: top;\n",
       "    }\n",
       "\n",
       "    .dataframe thead th {\n",
       "        text-align: right;\n",
       "    }\n",
       "</style>\n",
       "<table border=\"1\" class=\"dataframe\">\n",
       "  <thead>\n",
       "    <tr style=\"text-align: right;\">\n",
       "      <th></th>\n",
       "      <th>disease_ID</th>\n",
       "      <th>disease_name</th>\n",
       "      <th>overall_score</th>\n",
       "    </tr>\n",
       "  </thead>\n",
       "  <tbody>\n",
       "    <tr>\n",
       "      <th>0</th>\n",
       "      <td>MONDO_0015823</td>\n",
       "      <td>primary immunodeficiency due to a defect in ad...</td>\n",
       "      <td>0.482153</td>\n",
       "    </tr>\n",
       "    <tr>\n",
       "      <th>1</th>\n",
       "      <td>MONDO_0007915</td>\n",
       "      <td>systemic lupus erythematosus</td>\n",
       "      <td>0.342453</td>\n",
       "    </tr>\n",
       "    <tr>\n",
       "      <th>2</th>\n",
       "      <td>EFO_0004705</td>\n",
       "      <td>hypothyroidism</td>\n",
       "      <td>0.218722</td>\n",
       "    </tr>\n",
       "    <tr>\n",
       "      <th>3</th>\n",
       "      <td>EFO_0000571</td>\n",
       "      <td>lung adenocarcinoma</td>\n",
       "      <td>0.189006</td>\n",
       "    </tr>\n",
       "    <tr>\n",
       "      <th>4</th>\n",
       "      <td>MONDO_0011962</td>\n",
       "      <td>endometrial cancer</td>\n",
       "      <td>0.184790</td>\n",
       "    </tr>\n",
       "  </tbody>\n",
       "</table>\n",
       "</div>"
      ],
      "text/plain": [
       "      disease_ID                                       disease_name  \\\n",
       "0  MONDO_0015823  primary immunodeficiency due to a defect in ad...   \n",
       "1  MONDO_0007915                       systemic lupus erythematosus   \n",
       "2    EFO_0004705                                     hypothyroidism   \n",
       "3    EFO_0000571                                lung adenocarcinoma   \n",
       "4  MONDO_0011962                                 endometrial cancer   \n",
       "\n",
       "   overall_score  \n",
       "0       0.482153  \n",
       "1       0.342453  \n",
       "2       0.218722  \n",
       "3       0.189006  \n",
       "4       0.184790  "
      ]
     },
     "metadata": {},
     "output_type": "display_data"
    },
    {
     "data": {
      "text/plain": [
       "(245, 3)"
      ]
     },
     "metadata": {},
     "output_type": "display_data"
    },
    {
     "data": {
      "text/plain": [
       "pandas.core.frame.DataFrame"
      ]
     },
     "metadata": {},
     "output_type": "display_data"
    }
   ],
   "source": [
    "display(overall_table.head())\n",
    "display(overall_table.shape)\n",
    "display(type(overall_table))"
   ]
  },
  {
   "attachments": {},
   "cell_type": "markdown",
   "id": "96cef43f-25b4-41d5-a9a0-d3d855cf61e9",
   "metadata": {},
   "source": [
    "## datatype\n"
   ]
  },
  {
   "cell_type": "code",
   "execution_count": 53,
   "id": "fc02413b-5c06-48c9-81a3-25ba6ec35878",
   "metadata": {},
   "outputs": [],
   "source": [
    "query_associatedDiseases_scores_dt = \"\"\"\n",
    "    query target ($ensemblId: String!, $size: Int!) {\n",
    "        target (ensemblId: $ensemblId) {\n",
    "            associatedDiseases (enableIndirect: false, page: {index: 0, size: $size}) {\n",
    "                rows {\n",
    "                    datatypeScores {\n",
    "                        id\n",
    "                        score\n",
    "                    }\n",
    "                    disease {\n",
    "                        id\n",
    "                        name\n",
    "                    }\n",
    "                }\n",
    "            }\n",
    "        }\n",
    "    }\n",
    "\"\"\""
   ]
  },
  {
   "cell_type": "code",
   "execution_count": 54,
   "id": "c82838ee-66cc-4929-8e77-a0813cc59ca6",
   "metadata": {},
   "outputs": [],
   "source": [
    "r03 = requests.post(\n",
    "    base_url,\n",
    "    json={\"query\": query_associatedDiseases_scores_dt, \"variables\": variables02},\n",
    ")"
   ]
  },
  {
   "cell_type": "code",
   "execution_count": 55,
   "id": "e1804c46-cef6-45a6-9492-854f3847b811",
   "metadata": {},
   "outputs": [],
   "source": [
    "res03 = json.loads(r03.text)"
   ]
  },
  {
   "cell_type": "code",
   "execution_count": 56,
   "id": "635dac49-ea79-485e-8721-0e1bdff1a19c",
   "metadata": {},
   "outputs": [],
   "source": [
    "dt_table0 = (\n",
    "    pd.DataFrame(list(flatsplode(res03[\"data\"][\"target\"][\"associatedDiseases\"])))\n",
    "    .filter(\n",
    "        [\n",
    "            \"rows.disease.id\",\n",
    "            \"rows.disease.name\",\n",
    "            \"rows.datatypeScores.id\",\n",
    "            \"rows.datatypeScores.score\",\n",
    "        ]\n",
    "    )\n",
    "    .rename(\n",
    "        columns={\n",
    "            \"rows.disease.id\": \"disease_ID\",\n",
    "            \"rows.disease.name\": \"disease_name\",\n",
    "            \"rows.datatypeScores.id\": \"datatype\",\n",
    "            \"rows.datatypeScores.score\": \"datatype_score\",\n",
    "        }\n",
    "    )\n",
    "    .set_index([\"disease_ID\", \"disease_name\", \"datatype\"])[\"datatype_score\"]\n",
    "    .unstack()\n",
    "    .reset_index()\n",
    ")"
   ]
  },
  {
   "cell_type": "code",
   "execution_count": 57,
   "id": "d032d7a9-5a10-41cb-88d1-8c1a97c767f8",
   "metadata": {},
   "outputs": [
    {
     "data": {
      "text/html": [
       "<div>\n",
       "<style scoped>\n",
       "    .dataframe tbody tr th:only-of-type {\n",
       "        vertical-align: middle;\n",
       "    }\n",
       "\n",
       "    .dataframe tbody tr th {\n",
       "        vertical-align: top;\n",
       "    }\n",
       "\n",
       "    .dataframe thead th {\n",
       "        text-align: right;\n",
       "    }\n",
       "</style>\n",
       "<table border=\"1\" class=\"dataframe\">\n",
       "  <thead>\n",
       "    <tr style=\"text-align: right;\">\n",
       "      <th>datatype</th>\n",
       "      <th>disease_ID</th>\n",
       "      <th>disease_name</th>\n",
       "      <th>affected_pathway</th>\n",
       "      <th>animal_model</th>\n",
       "      <th>genetic_association</th>\n",
       "      <th>literature</th>\n",
       "      <th>rna_expression</th>\n",
       "    </tr>\n",
       "  </thead>\n",
       "  <tbody>\n",
       "    <tr>\n",
       "      <th>0</th>\n",
       "      <td>EFO_0000180</td>\n",
       "      <td>HIV-1 infection</td>\n",
       "      <td>NaN</td>\n",
       "      <td>NaN</td>\n",
       "      <td>NaN</td>\n",
       "      <td>0.128679</td>\n",
       "      <td>NaN</td>\n",
       "    </tr>\n",
       "    <tr>\n",
       "      <th>1</th>\n",
       "      <td>EFO_0000181</td>\n",
       "      <td>head and neck squamous cell carcinoma</td>\n",
       "      <td>0.330597</td>\n",
       "      <td>NaN</td>\n",
       "      <td>NaN</td>\n",
       "      <td>0.034956</td>\n",
       "      <td>NaN</td>\n",
       "    </tr>\n",
       "    <tr>\n",
       "      <th>2</th>\n",
       "      <td>EFO_0000182</td>\n",
       "      <td>hepatocellular carcinoma</td>\n",
       "      <td>NaN</td>\n",
       "      <td>NaN</td>\n",
       "      <td>NaN</td>\n",
       "      <td>0.286361</td>\n",
       "      <td>NaN</td>\n",
       "    </tr>\n",
       "    <tr>\n",
       "      <th>3</th>\n",
       "      <td>EFO_0000198</td>\n",
       "      <td>myelodysplastic syndrome</td>\n",
       "      <td>NaN</td>\n",
       "      <td>NaN</td>\n",
       "      <td>NaN</td>\n",
       "      <td>0.018238</td>\n",
       "      <td>NaN</td>\n",
       "    </tr>\n",
       "    <tr>\n",
       "      <th>4</th>\n",
       "      <td>EFO_0000199</td>\n",
       "      <td>oral squamous cell carcinoma</td>\n",
       "      <td>NaN</td>\n",
       "      <td>NaN</td>\n",
       "      <td>NaN</td>\n",
       "      <td>0.036476</td>\n",
       "      <td>NaN</td>\n",
       "    </tr>\n",
       "  </tbody>\n",
       "</table>\n",
       "</div>"
      ],
      "text/plain": [
       "datatype   disease_ID                           disease_name  \\\n",
       "0         EFO_0000180                        HIV-1 infection   \n",
       "1         EFO_0000181  head and neck squamous cell carcinoma   \n",
       "2         EFO_0000182               hepatocellular carcinoma   \n",
       "3         EFO_0000198               myelodysplastic syndrome   \n",
       "4         EFO_0000199           oral squamous cell carcinoma   \n",
       "\n",
       "datatype  affected_pathway  animal_model  genetic_association  literature  \\\n",
       "0                      NaN           NaN                  NaN    0.128679   \n",
       "1                 0.330597           NaN                  NaN    0.034956   \n",
       "2                      NaN           NaN                  NaN    0.286361   \n",
       "3                      NaN           NaN                  NaN    0.018238   \n",
       "4                      NaN           NaN                  NaN    0.036476   \n",
       "\n",
       "datatype  rna_expression  \n",
       "0                    NaN  \n",
       "1                    NaN  \n",
       "2                    NaN  \n",
       "3                    NaN  \n",
       "4                    NaN  "
      ]
     },
     "metadata": {},
     "output_type": "display_data"
    },
    {
     "data": {
      "text/plain": [
       "(245, 7)"
      ]
     },
     "metadata": {},
     "output_type": "display_data"
    },
    {
     "data": {
      "text/plain": [
       "pandas.core.frame.DataFrame"
      ]
     },
     "metadata": {},
     "output_type": "display_data"
    }
   ],
   "source": [
    "display(dt_table0.head())\n",
    "display(dt_table0.shape)\n",
    "display(type(dt_table0))"
   ]
  },
  {
   "cell_type": "code",
   "execution_count": 58,
   "id": "a3b50854-10ca-4287-a6cc-4bb588272449",
   "metadata": {},
   "outputs": [],
   "source": [
    "dt_table00 = pd.DataFrame(\n",
    "    {\n",
    "        \"disease_ID\": pd.Series([], dtype=object),\n",
    "        \"disease_name\": pd.Series([], dtype=object),\n",
    "        \"known_drug\": pd.Series([], dtype=np.float64),\n",
    "        \"genetic_association\": pd.Series([], dtype=np.float64),\n",
    "        \"animal_model\": pd.Series([], dtype=np.float64),\n",
    "        \"literature\": pd.Series([], dtype=np.float64),\n",
    "        \"rna_expression\": pd.Series([], dtype=np.float64),\n",
    "        \"affected_pathway\": pd.Series([], dtype=np.float64),\n",
    "        \"somatic_mutation\": pd.Series([], dtype=np.float64),\n",
    "    }\n",
    ")"
   ]
  },
  {
   "cell_type": "code",
   "execution_count": 59,
   "id": "06f8c5da-a620-4f13-a1a4-ec32d7a64d47",
   "metadata": {},
   "outputs": [
    {
     "data": {
      "text/html": [
       "<div>\n",
       "<style scoped>\n",
       "    .dataframe tbody tr th:only-of-type {\n",
       "        vertical-align: middle;\n",
       "    }\n",
       "\n",
       "    .dataframe tbody tr th {\n",
       "        vertical-align: top;\n",
       "    }\n",
       "\n",
       "    .dataframe thead th {\n",
       "        text-align: right;\n",
       "    }\n",
       "</style>\n",
       "<table border=\"1\" class=\"dataframe\">\n",
       "  <thead>\n",
       "    <tr style=\"text-align: right;\">\n",
       "      <th></th>\n",
       "      <th>disease_ID</th>\n",
       "      <th>disease_name</th>\n",
       "      <th>known_drug</th>\n",
       "      <th>genetic_association</th>\n",
       "      <th>animal_model</th>\n",
       "      <th>literature</th>\n",
       "      <th>rna_expression</th>\n",
       "      <th>affected_pathway</th>\n",
       "      <th>somatic_mutation</th>\n",
       "    </tr>\n",
       "  </thead>\n",
       "  <tbody>\n",
       "  </tbody>\n",
       "</table>\n",
       "</div>"
      ],
      "text/plain": [
       "Empty DataFrame\n",
       "Columns: [disease_ID, disease_name, known_drug, genetic_association, animal_model, literature, rna_expression, affected_pathway, somatic_mutation]\n",
       "Index: []"
      ]
     },
     "metadata": {},
     "output_type": "display_data"
    },
    {
     "data": {
      "text/plain": [
       "(0, 9)"
      ]
     },
     "metadata": {},
     "output_type": "display_data"
    },
    {
     "data": {
      "text/plain": [
       "pandas.core.frame.DataFrame"
      ]
     },
     "metadata": {},
     "output_type": "display_data"
    }
   ],
   "source": [
    "display(dt_table00)\n",
    "display(dt_table00.shape)\n",
    "display(type(dt_table00))"
   ]
  },
  {
   "cell_type": "code",
   "execution_count": 60,
   "id": "0546f69b-7607-41df-835d-f10760d4e634",
   "metadata": {},
   "outputs": [],
   "source": [
    "dt_table = pd.concat([dt_table00, dt_table0]).fillna(\n",
    "    {\n",
    "        \"known_drug\": 0,\n",
    "        \"genetic_association\": 0,\n",
    "        \"animal_model\": 0,\n",
    "        \"literature\": 0,\n",
    "        \"rna_expression\": 0,\n",
    "        \"affected_pathway\": 0,\n",
    "        \"somatic_mutation\": 0,\n",
    "    }\n",
    ")"
   ]
  },
  {
   "cell_type": "code",
   "execution_count": 61,
   "id": "32ccb526-5ac2-4c5e-91fe-fbadb6de7b76",
   "metadata": {},
   "outputs": [
    {
     "data": {
      "text/html": [
       "<div>\n",
       "<style scoped>\n",
       "    .dataframe tbody tr th:only-of-type {\n",
       "        vertical-align: middle;\n",
       "    }\n",
       "\n",
       "    .dataframe tbody tr th {\n",
       "        vertical-align: top;\n",
       "    }\n",
       "\n",
       "    .dataframe thead th {\n",
       "        text-align: right;\n",
       "    }\n",
       "</style>\n",
       "<table border=\"1\" class=\"dataframe\">\n",
       "  <thead>\n",
       "    <tr style=\"text-align: right;\">\n",
       "      <th></th>\n",
       "      <th>disease_ID</th>\n",
       "      <th>disease_name</th>\n",
       "      <th>known_drug</th>\n",
       "      <th>genetic_association</th>\n",
       "      <th>animal_model</th>\n",
       "      <th>literature</th>\n",
       "      <th>rna_expression</th>\n",
       "      <th>affected_pathway</th>\n",
       "      <th>somatic_mutation</th>\n",
       "    </tr>\n",
       "  </thead>\n",
       "  <tbody>\n",
       "    <tr>\n",
       "      <th>0</th>\n",
       "      <td>EFO_0000180</td>\n",
       "      <td>HIV-1 infection</td>\n",
       "      <td>0.0</td>\n",
       "      <td>0.0</td>\n",
       "      <td>0.0</td>\n",
       "      <td>0.128679</td>\n",
       "      <td>0.0</td>\n",
       "      <td>0.000000</td>\n",
       "      <td>0.0</td>\n",
       "    </tr>\n",
       "    <tr>\n",
       "      <th>1</th>\n",
       "      <td>EFO_0000181</td>\n",
       "      <td>head and neck squamous cell carcinoma</td>\n",
       "      <td>0.0</td>\n",
       "      <td>0.0</td>\n",
       "      <td>0.0</td>\n",
       "      <td>0.034956</td>\n",
       "      <td>0.0</td>\n",
       "      <td>0.330597</td>\n",
       "      <td>0.0</td>\n",
       "    </tr>\n",
       "    <tr>\n",
       "      <th>2</th>\n",
       "      <td>EFO_0000182</td>\n",
       "      <td>hepatocellular carcinoma</td>\n",
       "      <td>0.0</td>\n",
       "      <td>0.0</td>\n",
       "      <td>0.0</td>\n",
       "      <td>0.286361</td>\n",
       "      <td>0.0</td>\n",
       "      <td>0.000000</td>\n",
       "      <td>0.0</td>\n",
       "    </tr>\n",
       "    <tr>\n",
       "      <th>3</th>\n",
       "      <td>EFO_0000198</td>\n",
       "      <td>myelodysplastic syndrome</td>\n",
       "      <td>0.0</td>\n",
       "      <td>0.0</td>\n",
       "      <td>0.0</td>\n",
       "      <td>0.018238</td>\n",
       "      <td>0.0</td>\n",
       "      <td>0.000000</td>\n",
       "      <td>0.0</td>\n",
       "    </tr>\n",
       "    <tr>\n",
       "      <th>4</th>\n",
       "      <td>EFO_0000199</td>\n",
       "      <td>oral squamous cell carcinoma</td>\n",
       "      <td>0.0</td>\n",
       "      <td>0.0</td>\n",
       "      <td>0.0</td>\n",
       "      <td>0.036476</td>\n",
       "      <td>0.0</td>\n",
       "      <td>0.000000</td>\n",
       "      <td>0.0</td>\n",
       "    </tr>\n",
       "  </tbody>\n",
       "</table>\n",
       "</div>"
      ],
      "text/plain": [
       "    disease_ID                           disease_name  known_drug  \\\n",
       "0  EFO_0000180                        HIV-1 infection         0.0   \n",
       "1  EFO_0000181  head and neck squamous cell carcinoma         0.0   \n",
       "2  EFO_0000182               hepatocellular carcinoma         0.0   \n",
       "3  EFO_0000198               myelodysplastic syndrome         0.0   \n",
       "4  EFO_0000199           oral squamous cell carcinoma         0.0   \n",
       "\n",
       "   genetic_association  animal_model  literature  rna_expression  \\\n",
       "0                  0.0           0.0    0.128679             0.0   \n",
       "1                  0.0           0.0    0.034956             0.0   \n",
       "2                  0.0           0.0    0.286361             0.0   \n",
       "3                  0.0           0.0    0.018238             0.0   \n",
       "4                  0.0           0.0    0.036476             0.0   \n",
       "\n",
       "   affected_pathway  somatic_mutation  \n",
       "0          0.000000               0.0  \n",
       "1          0.330597               0.0  \n",
       "2          0.000000               0.0  \n",
       "3          0.000000               0.0  \n",
       "4          0.000000               0.0  "
      ]
     },
     "metadata": {},
     "output_type": "display_data"
    },
    {
     "data": {
      "text/plain": [
       "(245, 9)"
      ]
     },
     "metadata": {},
     "output_type": "display_data"
    },
    {
     "data": {
      "text/plain": [
       "pandas.core.frame.DataFrame"
      ]
     },
     "metadata": {},
     "output_type": "display_data"
    }
   ],
   "source": [
    "display(dt_table.head())\n",
    "display(dt_table.shape)\n",
    "display(type(dt_table))"
   ]
  },
  {
   "attachments": {},
   "cell_type": "markdown",
   "id": "c29fede9-47f7-4fb8-adf7-7958822ccc43",
   "metadata": {},
   "source": [
    "## datasource\n"
   ]
  },
  {
   "cell_type": "code",
   "execution_count": 62,
   "id": "9ff3a45b-ad9b-4b2f-bc91-5038fd4a9b8f",
   "metadata": {},
   "outputs": [],
   "source": [
    "query_associatedDiseases_scores_ds = \"\"\"\n",
    "    query target ($ensemblId: String!, $size: Int!) {\n",
    "        target (ensemblId: $ensemblId) {\n",
    "            associatedDiseases (enableIndirect: false, page: {index: 0, size: $size}) {\n",
    "                rows {\n",
    "                    datasourceScores {\n",
    "                        id\n",
    "                        score\n",
    "                    }\n",
    "                    disease {\n",
    "                        id\n",
    "                        name\n",
    "                    }\n",
    "                }\n",
    "            }\n",
    "        }\n",
    "    }\n",
    "\"\"\""
   ]
  },
  {
   "cell_type": "code",
   "execution_count": 63,
   "id": "900e2d2b-9d03-4549-84cd-346d820b9ce1",
   "metadata": {},
   "outputs": [],
   "source": [
    "r04 = requests.post(\n",
    "    base_url,\n",
    "    json={\"query\": query_associatedDiseases_scores_ds, \"variables\": variables02},\n",
    ")"
   ]
  },
  {
   "cell_type": "code",
   "execution_count": 64,
   "id": "44997871-7938-4256-8908-3fc1de60a7de",
   "metadata": {},
   "outputs": [],
   "source": [
    "res04 = json.loads(r04.text)"
   ]
  },
  {
   "cell_type": "code",
   "execution_count": 65,
   "id": "d1f63dd8-19df-4a3e-bbf8-b31862df2293",
   "metadata": {},
   "outputs": [],
   "source": [
    "ds_table0 = (\n",
    "    pd.DataFrame(list(flatsplode(res04[\"data\"][\"target\"][\"associatedDiseases\"])))\n",
    "    .filter(\n",
    "        [\n",
    "            \"rows.disease.id\",\n",
    "            \"rows.disease.name\",\n",
    "            \"rows.datasourceScores.id\",\n",
    "            \"rows.datasourceScores.score\",\n",
    "        ]\n",
    "    )\n",
    "    .rename(\n",
    "        columns={\n",
    "            \"rows.disease.id\": \"disease_ID\",\n",
    "            \"rows.disease.name\": \"disease_name\",\n",
    "            \"rows.datasourceScores.id\": \"datasource\",\n",
    "            \"rows.datasourceScores.score\": \"datasource_score\",\n",
    "        }\n",
    "    )\n",
    "    .set_index([\"disease_ID\", \"disease_name\", \"datasource\"])[\"datasource_score\"]\n",
    "    .unstack()\n",
    "    .reset_index()\n",
    ")"
   ]
  },
  {
   "cell_type": "code",
   "execution_count": 66,
   "id": "0963b308-7492-423c-af12-ca4d408d6270",
   "metadata": {},
   "outputs": [
    {
     "data": {
      "text/html": [
       "<div>\n",
       "<style scoped>\n",
       "    .dataframe tbody tr th:only-of-type {\n",
       "        vertical-align: middle;\n",
       "    }\n",
       "\n",
       "    .dataframe tbody tr th {\n",
       "        vertical-align: top;\n",
       "    }\n",
       "\n",
       "    .dataframe thead th {\n",
       "        text-align: right;\n",
       "    }\n",
       "</style>\n",
       "<table border=\"1\" class=\"dataframe\">\n",
       "  <thead>\n",
       "    <tr style=\"text-align: right;\">\n",
       "      <th>datasource</th>\n",
       "      <th>disease_ID</th>\n",
       "      <th>disease_name</th>\n",
       "      <th>europepmc</th>\n",
       "      <th>eva</th>\n",
       "      <th>expression_atlas</th>\n",
       "      <th>impc</th>\n",
       "      <th>ot_genetics_portal</th>\n",
       "      <th>slapenrich</th>\n",
       "    </tr>\n",
       "  </thead>\n",
       "  <tbody>\n",
       "    <tr>\n",
       "      <th>0</th>\n",
       "      <td>EFO_0000180</td>\n",
       "      <td>HIV-1 infection</td>\n",
       "      <td>0.128679</td>\n",
       "      <td>NaN</td>\n",
       "      <td>NaN</td>\n",
       "      <td>NaN</td>\n",
       "      <td>NaN</td>\n",
       "      <td>NaN</td>\n",
       "    </tr>\n",
       "    <tr>\n",
       "      <th>1</th>\n",
       "      <td>EFO_0000181</td>\n",
       "      <td>head and neck squamous cell carcinoma</td>\n",
       "      <td>0.034956</td>\n",
       "      <td>NaN</td>\n",
       "      <td>NaN</td>\n",
       "      <td>NaN</td>\n",
       "      <td>NaN</td>\n",
       "      <td>0.330597</td>\n",
       "    </tr>\n",
       "    <tr>\n",
       "      <th>2</th>\n",
       "      <td>EFO_0000182</td>\n",
       "      <td>hepatocellular carcinoma</td>\n",
       "      <td>0.286361</td>\n",
       "      <td>NaN</td>\n",
       "      <td>NaN</td>\n",
       "      <td>NaN</td>\n",
       "      <td>NaN</td>\n",
       "      <td>NaN</td>\n",
       "    </tr>\n",
       "    <tr>\n",
       "      <th>3</th>\n",
       "      <td>EFO_0000198</td>\n",
       "      <td>myelodysplastic syndrome</td>\n",
       "      <td>0.018238</td>\n",
       "      <td>NaN</td>\n",
       "      <td>NaN</td>\n",
       "      <td>NaN</td>\n",
       "      <td>NaN</td>\n",
       "      <td>NaN</td>\n",
       "    </tr>\n",
       "    <tr>\n",
       "      <th>4</th>\n",
       "      <td>EFO_0000199</td>\n",
       "      <td>oral squamous cell carcinoma</td>\n",
       "      <td>0.036476</td>\n",
       "      <td>NaN</td>\n",
       "      <td>NaN</td>\n",
       "      <td>NaN</td>\n",
       "      <td>NaN</td>\n",
       "      <td>NaN</td>\n",
       "    </tr>\n",
       "  </tbody>\n",
       "</table>\n",
       "</div>"
      ],
      "text/plain": [
       "datasource   disease_ID                           disease_name  europepmc  \\\n",
       "0           EFO_0000180                        HIV-1 infection   0.128679   \n",
       "1           EFO_0000181  head and neck squamous cell carcinoma   0.034956   \n",
       "2           EFO_0000182               hepatocellular carcinoma   0.286361   \n",
       "3           EFO_0000198               myelodysplastic syndrome   0.018238   \n",
       "4           EFO_0000199           oral squamous cell carcinoma   0.036476   \n",
       "\n",
       "datasource  eva  expression_atlas  impc  ot_genetics_portal  slapenrich  \n",
       "0           NaN               NaN   NaN                 NaN         NaN  \n",
       "1           NaN               NaN   NaN                 NaN    0.330597  \n",
       "2           NaN               NaN   NaN                 NaN         NaN  \n",
       "3           NaN               NaN   NaN                 NaN         NaN  \n",
       "4           NaN               NaN   NaN                 NaN         NaN  "
      ]
     },
     "metadata": {},
     "output_type": "display_data"
    },
    {
     "data": {
      "text/plain": [
       "(245, 8)"
      ]
     },
     "metadata": {},
     "output_type": "display_data"
    },
    {
     "data": {
      "text/plain": [
       "pandas.core.frame.DataFrame"
      ]
     },
     "metadata": {},
     "output_type": "display_data"
    }
   ],
   "source": [
    "display(ds_table0.head())\n",
    "display(ds_table0.shape)\n",
    "display(type(ds_table0))"
   ]
  },
  {
   "cell_type": "code",
   "execution_count": 67,
   "id": "a923e9f2-9694-461c-b046-051b72d2520a",
   "metadata": {},
   "outputs": [],
   "source": [
    "ds_table00 = pd.DataFrame(\n",
    "    {\n",
    "        \"disease_ID\": pd.Series([], dtype=object),\n",
    "        \"disease_name\": pd.Series([], dtype=object),\n",
    "        \"chembl\": pd.Series([], dtype=np.float64),\n",
    "        \"ot_genetics_portal\": pd.Series([], dtype=np.float64),\n",
    "        \"phewas_catalog\": pd.Series([], dtype=np.float64),\n",
    "        \"eva\": pd.Series([], dtype=np.float64),\n",
    "        \"genomics_england\": pd.Series([], dtype=np.float64),\n",
    "        \"gene2phenotype\": pd.Series([], dtype=np.float64),\n",
    "        \"uniprot_literature\": pd.Series([], dtype=np.float64),\n",
    "        \"uniprot_variants\": pd.Series([], dtype=np.float64),\n",
    "        \"clingen\": pd.Series([], dtype=np.float64),\n",
    "        \"orphanet\": pd.Series([], dtype=np.float64),\n",
    "        \"impc\": pd.Series([], dtype=np.float64),\n",
    "        \"europepmc\": pd.Series([], dtype=np.float64),\n",
    "        \"expression_atlas\": pd.Series([], dtype=np.float64),\n",
    "        \"crispr\": pd.Series([], dtype=np.float64),\n",
    "        \"cancer_biomarkers\": pd.Series([], dtype=np.float64),\n",
    "        \"slapenrich\": pd.Series([], dtype=np.float64),\n",
    "        \"progeny\": pd.Series([], dtype=np.float64),\n",
    "        \"reactome\": pd.Series([], dtype=np.float64),\n",
    "        \"sysbio\": pd.Series([], dtype=np.float64),\n",
    "        \"cancer_gene_census\": pd.Series([], dtype=np.float64),\n",
    "        \"intogen\": pd.Series([], dtype=np.float64),\n",
    "        \"eva_somatic\": pd.Series([], dtype=np.float64),\n",
    "    }\n",
    ")"
   ]
  },
  {
   "cell_type": "code",
   "execution_count": 68,
   "id": "f51d70a6-13fb-4d08-88ec-e88afd34bab8",
   "metadata": {},
   "outputs": [
    {
     "data": {
      "text/html": [
       "<div>\n",
       "<style scoped>\n",
       "    .dataframe tbody tr th:only-of-type {\n",
       "        vertical-align: middle;\n",
       "    }\n",
       "\n",
       "    .dataframe tbody tr th {\n",
       "        vertical-align: top;\n",
       "    }\n",
       "\n",
       "    .dataframe thead th {\n",
       "        text-align: right;\n",
       "    }\n",
       "</style>\n",
       "<table border=\"1\" class=\"dataframe\">\n",
       "  <thead>\n",
       "    <tr style=\"text-align: right;\">\n",
       "      <th></th>\n",
       "      <th>disease_ID</th>\n",
       "      <th>disease_name</th>\n",
       "      <th>chembl</th>\n",
       "      <th>ot_genetics_portal</th>\n",
       "      <th>phewas_catalog</th>\n",
       "      <th>eva</th>\n",
       "      <th>genomics_england</th>\n",
       "      <th>gene2phenotype</th>\n",
       "      <th>uniprot_literature</th>\n",
       "      <th>uniprot_variants</th>\n",
       "      <th>...</th>\n",
       "      <th>expression_atlas</th>\n",
       "      <th>crispr</th>\n",
       "      <th>cancer_biomarkers</th>\n",
       "      <th>slapenrich</th>\n",
       "      <th>progeny</th>\n",
       "      <th>reactome</th>\n",
       "      <th>sysbio</th>\n",
       "      <th>cancer_gene_census</th>\n",
       "      <th>intogen</th>\n",
       "      <th>eva_somatic</th>\n",
       "    </tr>\n",
       "  </thead>\n",
       "  <tbody>\n",
       "  </tbody>\n",
       "</table>\n",
       "<p>0 rows × 24 columns</p>\n",
       "</div>"
      ],
      "text/plain": [
       "Empty DataFrame\n",
       "Columns: [disease_ID, disease_name, chembl, ot_genetics_portal, phewas_catalog, eva, genomics_england, gene2phenotype, uniprot_literature, uniprot_variants, clingen, orphanet, impc, europepmc, expression_atlas, crispr, cancer_biomarkers, slapenrich, progeny, reactome, sysbio, cancer_gene_census, intogen, eva_somatic]\n",
       "Index: []\n",
       "\n",
       "[0 rows x 24 columns]"
      ]
     },
     "metadata": {},
     "output_type": "display_data"
    },
    {
     "data": {
      "text/plain": [
       "(0, 24)"
      ]
     },
     "metadata": {},
     "output_type": "display_data"
    },
    {
     "data": {
      "text/plain": [
       "pandas.core.frame.DataFrame"
      ]
     },
     "metadata": {},
     "output_type": "display_data"
    }
   ],
   "source": [
    "display(ds_table00)\n",
    "display(ds_table00.shape)\n",
    "display(type(ds_table00))"
   ]
  },
  {
   "cell_type": "code",
   "execution_count": 69,
   "id": "1724e783-3ae6-4a31-8cf0-fffeb22747b0",
   "metadata": {},
   "outputs": [],
   "source": [
    "ds_table = pd.concat([ds_table00, ds_table0]).fillna(\n",
    "    {\n",
    "        \"chembl\": 0,\n",
    "        \"ot_genetics_portal\": 0,\n",
    "        \"phewas_catalog\": 0,\n",
    "        \"eva\": 0,\n",
    "        \"genomics_england\": 0,\n",
    "        \"gene2phenotype\": 0,\n",
    "        \"uniprot_literature\": 0,\n",
    "        \"uniprot_variants\": 0,\n",
    "        \"clingen\": 0,\n",
    "        \"orphanet\": 0,\n",
    "        \"impc\": 0,\n",
    "        \"europepmc\": 0,\n",
    "        \"expression_atlas\": 0,\n",
    "        \"crispr\": 0,\n",
    "        \"cancer_biomarkers\": 0,\n",
    "        \"slapenrich\": 0,\n",
    "        \"progeny\": 0,\n",
    "        \"reactome\": 0,\n",
    "        \"sysbio\": 0,\n",
    "        \"cancer_gene_census\": 0,\n",
    "        \"intogen\": 0,\n",
    "        \"eva_somatic\": 0,\n",
    "    }\n",
    ")"
   ]
  },
  {
   "cell_type": "code",
   "execution_count": 70,
   "id": "2f92c913-c045-4d39-b38c-92332d253758",
   "metadata": {},
   "outputs": [
    {
     "data": {
      "text/html": [
       "<div>\n",
       "<style scoped>\n",
       "    .dataframe tbody tr th:only-of-type {\n",
       "        vertical-align: middle;\n",
       "    }\n",
       "\n",
       "    .dataframe tbody tr th {\n",
       "        vertical-align: top;\n",
       "    }\n",
       "\n",
       "    .dataframe thead th {\n",
       "        text-align: right;\n",
       "    }\n",
       "</style>\n",
       "<table border=\"1\" class=\"dataframe\">\n",
       "  <thead>\n",
       "    <tr style=\"text-align: right;\">\n",
       "      <th></th>\n",
       "      <th>disease_ID</th>\n",
       "      <th>disease_name</th>\n",
       "      <th>chembl</th>\n",
       "      <th>ot_genetics_portal</th>\n",
       "      <th>phewas_catalog</th>\n",
       "      <th>eva</th>\n",
       "      <th>genomics_england</th>\n",
       "      <th>gene2phenotype</th>\n",
       "      <th>uniprot_literature</th>\n",
       "      <th>uniprot_variants</th>\n",
       "      <th>...</th>\n",
       "      <th>expression_atlas</th>\n",
       "      <th>crispr</th>\n",
       "      <th>cancer_biomarkers</th>\n",
       "      <th>slapenrich</th>\n",
       "      <th>progeny</th>\n",
       "      <th>reactome</th>\n",
       "      <th>sysbio</th>\n",
       "      <th>cancer_gene_census</th>\n",
       "      <th>intogen</th>\n",
       "      <th>eva_somatic</th>\n",
       "    </tr>\n",
       "  </thead>\n",
       "  <tbody>\n",
       "    <tr>\n",
       "      <th>0</th>\n",
       "      <td>EFO_0000180</td>\n",
       "      <td>HIV-1 infection</td>\n",
       "      <td>0.0</td>\n",
       "      <td>0.0</td>\n",
       "      <td>0.0</td>\n",
       "      <td>0.0</td>\n",
       "      <td>0.0</td>\n",
       "      <td>0.0</td>\n",
       "      <td>0.0</td>\n",
       "      <td>0.0</td>\n",
       "      <td>...</td>\n",
       "      <td>0.0</td>\n",
       "      <td>0.0</td>\n",
       "      <td>0.0</td>\n",
       "      <td>0.000000</td>\n",
       "      <td>0.0</td>\n",
       "      <td>0.0</td>\n",
       "      <td>0.0</td>\n",
       "      <td>0.0</td>\n",
       "      <td>0.0</td>\n",
       "      <td>0.0</td>\n",
       "    </tr>\n",
       "    <tr>\n",
       "      <th>1</th>\n",
       "      <td>EFO_0000181</td>\n",
       "      <td>head and neck squamous cell carcinoma</td>\n",
       "      <td>0.0</td>\n",
       "      <td>0.0</td>\n",
       "      <td>0.0</td>\n",
       "      <td>0.0</td>\n",
       "      <td>0.0</td>\n",
       "      <td>0.0</td>\n",
       "      <td>0.0</td>\n",
       "      <td>0.0</td>\n",
       "      <td>...</td>\n",
       "      <td>0.0</td>\n",
       "      <td>0.0</td>\n",
       "      <td>0.0</td>\n",
       "      <td>0.330597</td>\n",
       "      <td>0.0</td>\n",
       "      <td>0.0</td>\n",
       "      <td>0.0</td>\n",
       "      <td>0.0</td>\n",
       "      <td>0.0</td>\n",
       "      <td>0.0</td>\n",
       "    </tr>\n",
       "    <tr>\n",
       "      <th>2</th>\n",
       "      <td>EFO_0000182</td>\n",
       "      <td>hepatocellular carcinoma</td>\n",
       "      <td>0.0</td>\n",
       "      <td>0.0</td>\n",
       "      <td>0.0</td>\n",
       "      <td>0.0</td>\n",
       "      <td>0.0</td>\n",
       "      <td>0.0</td>\n",
       "      <td>0.0</td>\n",
       "      <td>0.0</td>\n",
       "      <td>...</td>\n",
       "      <td>0.0</td>\n",
       "      <td>0.0</td>\n",
       "      <td>0.0</td>\n",
       "      <td>0.000000</td>\n",
       "      <td>0.0</td>\n",
       "      <td>0.0</td>\n",
       "      <td>0.0</td>\n",
       "      <td>0.0</td>\n",
       "      <td>0.0</td>\n",
       "      <td>0.0</td>\n",
       "    </tr>\n",
       "    <tr>\n",
       "      <th>3</th>\n",
       "      <td>EFO_0000198</td>\n",
       "      <td>myelodysplastic syndrome</td>\n",
       "      <td>0.0</td>\n",
       "      <td>0.0</td>\n",
       "      <td>0.0</td>\n",
       "      <td>0.0</td>\n",
       "      <td>0.0</td>\n",
       "      <td>0.0</td>\n",
       "      <td>0.0</td>\n",
       "      <td>0.0</td>\n",
       "      <td>...</td>\n",
       "      <td>0.0</td>\n",
       "      <td>0.0</td>\n",
       "      <td>0.0</td>\n",
       "      <td>0.000000</td>\n",
       "      <td>0.0</td>\n",
       "      <td>0.0</td>\n",
       "      <td>0.0</td>\n",
       "      <td>0.0</td>\n",
       "      <td>0.0</td>\n",
       "      <td>0.0</td>\n",
       "    </tr>\n",
       "    <tr>\n",
       "      <th>4</th>\n",
       "      <td>EFO_0000199</td>\n",
       "      <td>oral squamous cell carcinoma</td>\n",
       "      <td>0.0</td>\n",
       "      <td>0.0</td>\n",
       "      <td>0.0</td>\n",
       "      <td>0.0</td>\n",
       "      <td>0.0</td>\n",
       "      <td>0.0</td>\n",
       "      <td>0.0</td>\n",
       "      <td>0.0</td>\n",
       "      <td>...</td>\n",
       "      <td>0.0</td>\n",
       "      <td>0.0</td>\n",
       "      <td>0.0</td>\n",
       "      <td>0.000000</td>\n",
       "      <td>0.0</td>\n",
       "      <td>0.0</td>\n",
       "      <td>0.0</td>\n",
       "      <td>0.0</td>\n",
       "      <td>0.0</td>\n",
       "      <td>0.0</td>\n",
       "    </tr>\n",
       "  </tbody>\n",
       "</table>\n",
       "<p>5 rows × 24 columns</p>\n",
       "</div>"
      ],
      "text/plain": [
       "    disease_ID                           disease_name  chembl  \\\n",
       "0  EFO_0000180                        HIV-1 infection     0.0   \n",
       "1  EFO_0000181  head and neck squamous cell carcinoma     0.0   \n",
       "2  EFO_0000182               hepatocellular carcinoma     0.0   \n",
       "3  EFO_0000198               myelodysplastic syndrome     0.0   \n",
       "4  EFO_0000199           oral squamous cell carcinoma     0.0   \n",
       "\n",
       "   ot_genetics_portal  phewas_catalog  eva  genomics_england  gene2phenotype  \\\n",
       "0                 0.0             0.0  0.0               0.0             0.0   \n",
       "1                 0.0             0.0  0.0               0.0             0.0   \n",
       "2                 0.0             0.0  0.0               0.0             0.0   \n",
       "3                 0.0             0.0  0.0               0.0             0.0   \n",
       "4                 0.0             0.0  0.0               0.0             0.0   \n",
       "\n",
       "   uniprot_literature  uniprot_variants  ...  expression_atlas  crispr  \\\n",
       "0                 0.0               0.0  ...               0.0     0.0   \n",
       "1                 0.0               0.0  ...               0.0     0.0   \n",
       "2                 0.0               0.0  ...               0.0     0.0   \n",
       "3                 0.0               0.0  ...               0.0     0.0   \n",
       "4                 0.0               0.0  ...               0.0     0.0   \n",
       "\n",
       "   cancer_biomarkers  slapenrich  progeny  reactome  sysbio  \\\n",
       "0                0.0    0.000000      0.0       0.0     0.0   \n",
       "1                0.0    0.330597      0.0       0.0     0.0   \n",
       "2                0.0    0.000000      0.0       0.0     0.0   \n",
       "3                0.0    0.000000      0.0       0.0     0.0   \n",
       "4                0.0    0.000000      0.0       0.0     0.0   \n",
       "\n",
       "   cancer_gene_census  intogen  eva_somatic  \n",
       "0                 0.0      0.0          0.0  \n",
       "1                 0.0      0.0          0.0  \n",
       "2                 0.0      0.0          0.0  \n",
       "3                 0.0      0.0          0.0  \n",
       "4                 0.0      0.0          0.0  \n",
       "\n",
       "[5 rows x 24 columns]"
      ]
     },
     "metadata": {},
     "output_type": "display_data"
    },
    {
     "data": {
      "text/plain": [
       "(245, 24)"
      ]
     },
     "metadata": {},
     "output_type": "display_data"
    },
    {
     "data": {
      "text/plain": [
       "pandas.core.frame.DataFrame"
      ]
     },
     "metadata": {},
     "output_type": "display_data"
    }
   ],
   "source": [
    "display(ds_table.head())\n",
    "display(ds_table.shape)\n",
    "display(type(ds_table))"
   ]
  },
  {
   "attachments": {},
   "cell_type": "markdown",
   "id": "01836dc7-b44a-47af-bc84-882c65fc5dc5",
   "metadata": {},
   "source": [
    "# evidence\n"
   ]
  },
  {
   "cell_type": "code",
   "execution_count": 71,
   "id": "a2f034bb-831d-432e-9ae5-81b62029d242",
   "metadata": {},
   "outputs": [],
   "source": [
    "variables03 = {\n",
    "    \"ensemblId\": ensembl_gene_ok,\n",
    "    \"efoIds\": overall_table.disease_ID.tolist(),\n",
    "}"
   ]
  },
  {
   "attachments": {},
   "cell_type": "markdown",
   "id": "b1e79546-58f3-41d3-8425-2f4e71047121",
   "metadata": {},
   "source": [
    "## literature\n"
   ]
  },
  {
   "attachments": {},
   "cell_type": "markdown",
   "id": "a58b5ead-7f4e-42f7-807d-9e40f925818f",
   "metadata": {},
   "source": [
    "### europepmc\n"
   ]
  },
  {
   "cell_type": "code",
   "execution_count": 72,
   "id": "a2fcb7c3-dccb-4929-82e5-061ae0e14d62",
   "metadata": {},
   "outputs": [],
   "source": [
    "query_evidence_europepmc = \"\"\"\n",
    "    query target ($ensemblId: String!, $efoIds: [String!]!) {\n",
    "        target (ensemblId: $ensemblId) {\n",
    "            evidences (efoIds: $efoIds, datasourceIds: \"europepmc\", size: 10000) {\n",
    "                count\n",
    "                rows {\n",
    "                    datatypeId\n",
    "                    datasourceId\n",
    "                    disease {\n",
    "                        id\n",
    "                        name\n",
    "                    }\n",
    "                    score\n",
    "                    textMiningSentences {\n",
    "                        dEnd\n",
    "                        tEnd\n",
    "                        dStart\n",
    "                        tStart\n",
    "                        section\n",
    "                        text\n",
    "                    }\n",
    "                    literature\n",
    "                }\n",
    "            }\n",
    "        }\n",
    "    }\n",
    "\"\"\""
   ]
  },
  {
   "cell_type": "code",
   "execution_count": 73,
   "id": "d7c59e69-76b1-4c4f-9a59-ca17fc0c3362",
   "metadata": {},
   "outputs": [],
   "source": [
    "r401 = requests.post(\n",
    "    base_url, json={\"query\": query_evidence_europepmc, \"variables\": variables03}\n",
    ")"
   ]
  },
  {
   "cell_type": "code",
   "execution_count": 74,
   "id": "e9af28d3-8cc1-4b90-a27c-2386582b25d8",
   "metadata": {},
   "outputs": [],
   "source": [
    "res401 = json.loads(r401.text)"
   ]
  },
  {
   "cell_type": "code",
   "execution_count": 75,
   "id": "e7274d9b-55c9-4a8d-b7b5-d629d44246ee",
   "metadata": {},
   "outputs": [],
   "source": [
    "europepmctable = (\n",
    "    pd.DataFrame(list(flatsplode(res401[\"data\"][\"target\"][\"evidences\"])))\n",
    "    .rename(\n",
    "        columns={\n",
    "            \"rows.datatypeId\": \"datatype_ID\",\n",
    "            \"rows.datasourceId\": \"datasource_ID\",\n",
    "            \"rows.disease.id\": \"disease_ID\",\n",
    "            \"rows.disease.name\": \"disease_name\",\n",
    "            \"rows.score\": \"score\",\n",
    "            \"rows.literature\": \"literature_ID\",\n",
    "            \"rows.textMiningSentences.dEnd\": \"dEnd\",\n",
    "            \"rows.textMiningSentences.tEnd\": \"tEnd\",\n",
    "            \"rows.textMiningSentences.dStart\": \"dStart\",\n",
    "            \"rows.textMiningSentences.tStart\": \"tStart\",\n",
    "            \"rows.textMiningSentences.section\": \"section\",\n",
    "            \"rows.textMiningSentences.text\": \"text\",\n",
    "        }\n",
    "    )\n",
    "    .filter(\n",
    "        [\n",
    "            \"datatype_ID\",\n",
    "            \"datasource_ID\",\n",
    "            \"disease_ID\",\n",
    "            \"disease_name\",\n",
    "            \"score\",\n",
    "            \"literature_ID\",\n",
    "            \"section\",\n",
    "            \"text\",\n",
    "            \"tStart\",\n",
    "            \"tEnd\",\n",
    "            \"dStart\",\n",
    "            \"dEnd\",\n",
    "        ]\n",
    "    )\n",
    "    .assign(\n",
    "        literature_ID=lambda x: np.where(\n",
    "            x.literature_ID.str.isdecimal(),\n",
    "            \"MED:\" + x.literature_ID,\n",
    "            x.literature_ID,\n",
    "        )\n",
    "    )\n",
    "    .assign(\n",
    "        literature_ID=lambda x: np.where(\n",
    "            x.literature_ID.str.startswith(\"PMC\"),\n",
    "            \"PMC:\" + x.literature_ID,\n",
    "            x.literature_ID,\n",
    "        )\n",
    "    )\n",
    "    .assign(\n",
    "        literature_ID=lambda x: np.where(\n",
    "            x.literature_ID.str.startswith(\"PPR\"),\n",
    "            \"PPR:\" + x.literature_ID,\n",
    "            x.literature_ID,\n",
    "        )\n",
    "    )\n",
    "    .assign(\n",
    "        literature_ID=lambda x: np.where(\n",
    "            x.literature_ID.str.startswith(\"WO\"),\n",
    "            \"PAT:\" + x.literature_ID,\n",
    "            x.literature_ID,\n",
    "        )\n",
    "    )\n",
    "    .assign(\n",
    "        literature_ID=lambda x: np.where(\n",
    "            x.literature_ID.str.startswith(\"EP\"),\n",
    "            \"PAT:\" + x.literature_ID,\n",
    "            x.literature_ID,\n",
    "        )\n",
    "    )\n",
    "    .assign(\n",
    "        text=lambda x: x.apply(\n",
    "            lambda y: y.text[: y.tStart]\n",
    "            + \"<T>\"\n",
    "            + y.text[y.tStart : y.tEnd]\n",
    "            + \"</T>\"\n",
    "            + y.text[y.tEnd :],\n",
    "            axis=1,\n",
    "        )\n",
    "    )\n",
    "    .assign(dStart=lambda x: np.where(x.tStart < x.dStart, x.dStart + 7, x.dStart))\n",
    "    .assign(dEnd=lambda x: np.where(x.tEnd < x.dEnd, x.dEnd + 7, x.dEnd))\n",
    "    .assign(\n",
    "        text=lambda x: x.apply(\n",
    "            lambda y: y.text[: y.dStart]\n",
    "            + \"<D>\"\n",
    "            + y.text[y.dStart : y.dEnd]\n",
    "            + \"</D>\"\n",
    "            + y.text[y.dEnd :],\n",
    "            axis=1,\n",
    "        )\n",
    "    )\n",
    "    .filter(\n",
    "        [\n",
    "            \"datatype_ID\",\n",
    "            \"datasource_ID\",\n",
    "            \"disease_ID\",\n",
    "            \"disease_name\",\n",
    "            \"score\",\n",
    "            \"literature_ID\",\n",
    "            \"section\",\n",
    "            \"text\",\n",
    "        ]\n",
    "    )\n",
    "    .sort_values([\"disease_ID\", \"score\"], ascending=[True, False])\n",
    "    .reset_index(drop=True)\n",
    ")"
   ]
  },
  {
   "cell_type": "code",
   "execution_count": 76,
   "id": "80af4bd6-16cc-4081-bd43-1067e809ad81",
   "metadata": {},
   "outputs": [
    {
     "data": {
      "text/html": [
       "<div>\n",
       "<style scoped>\n",
       "    .dataframe tbody tr th:only-of-type {\n",
       "        vertical-align: middle;\n",
       "    }\n",
       "\n",
       "    .dataframe tbody tr th {\n",
       "        vertical-align: top;\n",
       "    }\n",
       "\n",
       "    .dataframe thead th {\n",
       "        text-align: right;\n",
       "    }\n",
       "</style>\n",
       "<table border=\"1\" class=\"dataframe\">\n",
       "  <thead>\n",
       "    <tr style=\"text-align: right;\">\n",
       "      <th></th>\n",
       "      <th>datatype_ID</th>\n",
       "      <th>datasource_ID</th>\n",
       "      <th>disease_ID</th>\n",
       "      <th>disease_name</th>\n",
       "      <th>score</th>\n",
       "      <th>literature_ID</th>\n",
       "      <th>section</th>\n",
       "      <th>text</th>\n",
       "    </tr>\n",
       "  </thead>\n",
       "  <tbody>\n",
       "    <tr>\n",
       "      <th>0</th>\n",
       "      <td>literature</td>\n",
       "      <td>europepmc</td>\n",
       "      <td>EFO_0000180</td>\n",
       "      <td>HIV-1 infection</td>\n",
       "      <td>0.18</td>\n",
       "      <td>MED:34388205</td>\n",
       "      <td>discuss</td>\n",
       "      <td>Our monocyte methylation data in AHI further h...</td>\n",
       "    </tr>\n",
       "    <tr>\n",
       "      <th>1</th>\n",
       "      <td>literature</td>\n",
       "      <td>europepmc</td>\n",
       "      <td>EFO_0000180</td>\n",
       "      <td>HIV-1 infection</td>\n",
       "      <td>0.18</td>\n",
       "      <td>MED:34388205</td>\n",
       "      <td>discuss</td>\n",
       "      <td>Our monocyte methylation data in AHI further h...</td>\n",
       "    </tr>\n",
       "    <tr>\n",
       "      <th>2</th>\n",
       "      <td>literature</td>\n",
       "      <td>europepmc</td>\n",
       "      <td>EFO_0000180</td>\n",
       "      <td>HIV-1 infection</td>\n",
       "      <td>0.18</td>\n",
       "      <td>MED:34388205</td>\n",
       "      <td>discuss</td>\n",
       "      <td>Our monocyte methylation data in AHI further h...</td>\n",
       "    </tr>\n",
       "    <tr>\n",
       "      <th>3</th>\n",
       "      <td>literature</td>\n",
       "      <td>europepmc</td>\n",
       "      <td>EFO_0000180</td>\n",
       "      <td>HIV-1 infection</td>\n",
       "      <td>0.10</td>\n",
       "      <td>MED:26121689</td>\n",
       "      <td>results</td>\n",
       "      <td>Before &lt;D&gt;HIV-1 infection&lt;/D&gt;, we found a 60% ...</td>\n",
       "    </tr>\n",
       "    <tr>\n",
       "      <th>4</th>\n",
       "      <td>literature</td>\n",
       "      <td>europepmc</td>\n",
       "      <td>EFO_0000180</td>\n",
       "      <td>HIV-1 infection</td>\n",
       "      <td>0.06</td>\n",
       "      <td>MED:33690734</td>\n",
       "      <td>discuss</td>\n",
       "      <td>However, it remains unclear how m6A modificati...</td>\n",
       "    </tr>\n",
       "  </tbody>\n",
       "</table>\n",
       "</div>"
      ],
      "text/plain": [
       "  datatype_ID datasource_ID   disease_ID     disease_name  score  \\\n",
       "0  literature     europepmc  EFO_0000180  HIV-1 infection   0.18   \n",
       "1  literature     europepmc  EFO_0000180  HIV-1 infection   0.18   \n",
       "2  literature     europepmc  EFO_0000180  HIV-1 infection   0.18   \n",
       "3  literature     europepmc  EFO_0000180  HIV-1 infection   0.10   \n",
       "4  literature     europepmc  EFO_0000180  HIV-1 infection   0.06   \n",
       "\n",
       "  literature_ID  section                                               text  \n",
       "0  MED:34388205  discuss  Our monocyte methylation data in AHI further h...  \n",
       "1  MED:34388205  discuss  Our monocyte methylation data in AHI further h...  \n",
       "2  MED:34388205  discuss  Our monocyte methylation data in AHI further h...  \n",
       "3  MED:26121689  results  Before <D>HIV-1 infection</D>, we found a 60% ...  \n",
       "4  MED:33690734  discuss  However, it remains unclear how m6A modificati...  "
      ]
     },
     "metadata": {},
     "output_type": "display_data"
    },
    {
     "data": {
      "text/plain": [
       "(1928, 8)"
      ]
     },
     "metadata": {},
     "output_type": "display_data"
    },
    {
     "data": {
      "text/plain": [
       "pandas.core.frame.DataFrame"
      ]
     },
     "metadata": {},
     "output_type": "display_data"
    }
   ],
   "source": [
    "display(europepmctable.head())\n",
    "display(europepmctable.shape)\n",
    "display(type(europepmctable))"
   ]
  },
  {
   "cell_type": "code",
   "execution_count": 77,
   "id": "48a0f9d0-d8c1-4983-8f4f-ed1a8f1e2835",
   "metadata": {},
   "outputs": [
    {
     "data": {
      "text/plain": [
       "'Conclusions  CCR7, ETS1, RUNX3, CCR1, C3AR1, LAMB1, <T>IRF7</T>, LGALS3 and CDKN3 both are DEGs and regulated by DMRs in OSCC, which are quite associated with the progression of OSCC and the survival of <D>HNSCC</D> patients.'"
      ]
     },
     "execution_count": 77,
     "metadata": {},
     "output_type": "execute_result"
    }
   ],
   "source": [
    "europepmctable.text[6]"
   ]
  },
  {
   "attachments": {},
   "cell_type": "markdown",
   "id": "76e4e3c9-1ad9-49b6-90b5-71d2e448d714",
   "metadata": {},
   "source": [
    "#### europepmc api\n"
   ]
  },
  {
   "cell_type": "code",
   "execution_count": 78,
   "id": "627f7937-b8c2-4dea-821f-5d11a28c7d0e",
   "metadata": {},
   "outputs": [],
   "source": [
    "def split_list(l, n):\n",
    "    for idx in range(0, len(l), n):\n",
    "        yield l[idx : idx + n]"
   ]
  },
  {
   "cell_type": "code",
   "execution_count": 79,
   "id": "1fef1771-fd92-44cb-8ad1-51e7f17a8449",
   "metadata": {},
   "outputs": [],
   "source": [
    "lit_ID = europepmctable.literature_ID.unique().tolist()"
   ]
  },
  {
   "cell_type": "code",
   "execution_count": 80,
   "id": "86620839-2d4c-490d-93c4-3d885d2b5a70",
   "metadata": {},
   "outputs": [
    {
     "data": {
      "text/plain": [
       "578"
      ]
     },
     "execution_count": 80,
     "metadata": {},
     "output_type": "execute_result"
    }
   ],
   "source": [
    "len(lit_ID)"
   ]
  },
  {
   "cell_type": "code",
   "execution_count": 81,
   "id": "fcdb0866-23c4-4376-b3b7-84aac8385b62",
   "metadata": {},
   "outputs": [],
   "source": [
    "lit_ID_list = list(split_list(lit_ID, 8))"
   ]
  },
  {
   "cell_type": "code",
   "execution_count": 82,
   "id": "afa7c0af-ac9d-495b-922c-fabed990828e",
   "metadata": {},
   "outputs": [
    {
     "data": {
      "text/plain": [
       "73"
      ]
     },
     "execution_count": 82,
     "metadata": {},
     "output_type": "execute_result"
    }
   ],
   "source": [
    "len(lit_ID_list)"
   ]
  },
  {
   "cell_type": "code",
   "execution_count": 83,
   "id": "eb346d37-9d0a-471b-97fd-743b6714ed4a",
   "metadata": {},
   "outputs": [
    {
     "data": {
      "text/plain": [
       "['MED:34388205',\n",
       " 'MED:26121689',\n",
       " 'MED:33690734',\n",
       " 'MED:35418195',\n",
       " 'PPR:PPR167926',\n",
       " 'MED:33520407',\n",
       " 'MED:19858727',\n",
       " 'MED:31429854']"
      ]
     },
     "execution_count": 83,
     "metadata": {},
     "output_type": "execute_result"
    }
   ],
   "source": [
    "lit_ID_list[0]"
   ]
  },
  {
   "cell_type": "code",
   "execution_count": 84,
   "id": "2fbeb6d0-3a1f-4173-8bac-a4b11c98bf7a",
   "metadata": {},
   "outputs": [],
   "source": [
    "epmc_table00 = pd.DataFrame(\n",
    "    {\n",
    "        \"source\": pd.Series([], dtype=object),\n",
    "        \"extId\": pd.Series([], dtype=object),\n",
    "        \"pmcid\": pd.Series([], dtype=object),\n",
    "        \"annotations.exact\": pd.Series([], dtype=object),\n",
    "        \"annotations.tags.name\": pd.Series([], dtype=object),\n",
    "        \"annotations.tags.uri\": pd.Series([], dtype=object),\n",
    "        \"annotations.id\": pd.Series([], dtype=object),\n",
    "        \"annotations.type\": pd.Series([], dtype=object),\n",
    "        \"annotations.section\": pd.Series([], dtype=object),\n",
    "        \"annotations.provider\": pd.Series([], dtype=object),\n",
    "        \"fullTextIdList\": pd.Series([], dtype=object),\n",
    "        \"annotations.prefix\": pd.Series([], dtype=object),\n",
    "        \"annotations.postfix\": pd.Series([], dtype=object),\n",
    "        \"annotations.subType\": pd.Series([], dtype=object),\n",
    "    }\n",
    ")"
   ]
  },
  {
   "cell_type": "code",
   "execution_count": 85,
   "id": "775c4640-6c2c-41c3-98ae-0d41f2510d57",
   "metadata": {},
   "outputs": [],
   "source": [
    "epmc_table = epmc_table00.copy()\n",
    "\n",
    "epmc_url = \"https://www.ebi.ac.uk/europepmc/annotations_api/annotationsByArticleIds\"\n",
    "\n",
    "for i in range(len(lit_ID_list)):\n",
    "    epmc_r = requests.get(\n",
    "        epmc_url, params={\"articleIds\": lit_ID_list[i], \"format\": \"JSON\"}\n",
    "    )\n",
    "    epmc_res = json.loads(epmc_r.text)\n",
    "\n",
    "    epmc_table0 = epmc_table00.copy()\n",
    "\n",
    "    for j in range(len(lit_ID_list[i])):\n",
    "        try:\n",
    "            epmc_table0 = pd.concat(\n",
    "                [epmc_table0, pd.DataFrame(list(flatsplode(epmc_res[j])))]\n",
    "            )\n",
    "        except:\n",
    "            pass\n",
    "\n",
    "    epmc_table = pd.concat([epmc_table, epmc_table0])\n",
    "\n",
    "    time.sleep(10)"
   ]
  },
  {
   "cell_type": "code",
   "execution_count": 86,
   "id": "987fb5d6-ac5c-476b-a550-b31b02194726",
   "metadata": {},
   "outputs": [
    {
     "data": {
      "text/html": [
       "<div>\n",
       "<style scoped>\n",
       "    .dataframe tbody tr th:only-of-type {\n",
       "        vertical-align: middle;\n",
       "    }\n",
       "\n",
       "    .dataframe tbody tr th {\n",
       "        vertical-align: top;\n",
       "    }\n",
       "\n",
       "    .dataframe thead th {\n",
       "        text-align: right;\n",
       "    }\n",
       "</style>\n",
       "<table border=\"1\" class=\"dataframe\">\n",
       "  <thead>\n",
       "    <tr style=\"text-align: right;\">\n",
       "      <th></th>\n",
       "      <th>source</th>\n",
       "      <th>extId</th>\n",
       "      <th>pmcid</th>\n",
       "      <th>annotations.exact</th>\n",
       "      <th>annotations.tags.name</th>\n",
       "      <th>annotations.tags.uri</th>\n",
       "      <th>annotations.id</th>\n",
       "      <th>annotations.type</th>\n",
       "      <th>annotations.section</th>\n",
       "      <th>annotations.provider</th>\n",
       "      <th>fullTextIdList</th>\n",
       "      <th>annotations.prefix</th>\n",
       "      <th>annotations.postfix</th>\n",
       "      <th>annotations.subType</th>\n",
       "      <th>annotations.frequency</th>\n",
       "    </tr>\n",
       "  </thead>\n",
       "  <tbody>\n",
       "    <tr>\n",
       "      <th>0</th>\n",
       "      <td>MED</td>\n",
       "      <td>34388205</td>\n",
       "      <td>PMC8386872</td>\n",
       "      <td>methylation</td>\n",
       "      <td>methylation</td>\n",
       "      <td>http://identifiers.org/go/GO:0032259</td>\n",
       "      <td>http://europepmc.org/article/MED/34388205#euro...</td>\n",
       "      <td>Gene Ontology</td>\n",
       "      <td>Title (http://purl.org/dc/elements/1.1/title)</td>\n",
       "      <td>Europe PMC</td>\n",
       "      <td>PMC8386872</td>\n",
       "      <td>l-type specific DNA</td>\n",
       "      <td>profiles in blood d</td>\n",
       "      <td>NaN</td>\n",
       "      <td>NaN</td>\n",
       "    </tr>\n",
       "    <tr>\n",
       "      <th>1</th>\n",
       "      <td>MED</td>\n",
       "      <td>34388205</td>\n",
       "      <td>PMC8386872</td>\n",
       "      <td>HIV</td>\n",
       "      <td>HIV</td>\n",
       "      <td>http://identifiers.org/taxonomy/11676</td>\n",
       "      <td>http://europepmc.org/article/MED/34388205#euro...</td>\n",
       "      <td>Organisms</td>\n",
       "      <td>Title (http://purl.org/dc/elements/1.1/title)</td>\n",
       "      <td>Europe PMC</td>\n",
       "      <td>PMC8386872</td>\n",
       "      <td>blood during acute</td>\n",
       "      <td>infection persists</td>\n",
       "      <td>NaN</td>\n",
       "      <td>NaN</td>\n",
       "    </tr>\n",
       "    <tr>\n",
       "      <th>2</th>\n",
       "      <td>MED</td>\n",
       "      <td>34388205</td>\n",
       "      <td>PMC8386872</td>\n",
       "      <td>infection</td>\n",
       "      <td>infection</td>\n",
       "      <td>http://linkedlifedata.com/resource/umls-concep...</td>\n",
       "      <td>http://europepmc.org/article/MED/34388205#euro...</td>\n",
       "      <td>Diseases</td>\n",
       "      <td>Title (http://purl.org/dc/elements/1.1/title)</td>\n",
       "      <td>Europe PMC</td>\n",
       "      <td>PMC8386872</td>\n",
       "      <td>od during acute HIV</td>\n",
       "      <td>persists despite pr</td>\n",
       "      <td>NaN</td>\n",
       "      <td>NaN</td>\n",
       "    </tr>\n",
       "    <tr>\n",
       "      <th>3</th>\n",
       "      <td>MED</td>\n",
       "      <td>34388205</td>\n",
       "      <td>PMC8386872</td>\n",
       "      <td>HIV-1</td>\n",
       "      <td>HIV-1</td>\n",
       "      <td>http://identifiers.org/taxonomy/11676</td>\n",
       "      <td>http://europepmc.org/article/MED/34388205#euro...</td>\n",
       "      <td>Organisms</td>\n",
       "      <td>Abstract (http://purl.org/dc/terms/abstract)</td>\n",
       "      <td>Europe PMC</td>\n",
       "      <td>PMC8386872</td>\n",
       "      <td></td>\n",
       "      <td>disrupts the host epigenetic landscape</td>\n",
       "      <td>NaN</td>\n",
       "      <td>NaN</td>\n",
       "    </tr>\n",
       "    <tr>\n",
       "      <th>4</th>\n",
       "      <td>MED</td>\n",
       "      <td>34388205</td>\n",
       "      <td>PMC8386872</td>\n",
       "      <td>pathogenesis</td>\n",
       "      <td>pathogenesis</td>\n",
       "      <td>http://identifiers.org/go/GO:0009405</td>\n",
       "      <td>http://europepmc.org/article/MED/34388205#euro...</td>\n",
       "      <td>Gene Ontology</td>\n",
       "      <td>Abstract (http://purl.org/dc/terms/abstract)</td>\n",
       "      <td>Europe PMC</td>\n",
       "      <td>PMC8386872</td>\n",
       "      <td>quences for disease</td>\n",
       "      <td>, viral persistence,</td>\n",
       "      <td>NaN</td>\n",
       "      <td>NaN</td>\n",
       "    </tr>\n",
       "  </tbody>\n",
       "</table>\n",
       "</div>"
      ],
      "text/plain": [
       "  source     extId       pmcid annotations.exact annotations.tags.name  \\\n",
       "0    MED  34388205  PMC8386872       methylation           methylation   \n",
       "1    MED  34388205  PMC8386872               HIV                   HIV   \n",
       "2    MED  34388205  PMC8386872         infection             infection   \n",
       "3    MED  34388205  PMC8386872             HIV-1                 HIV-1   \n",
       "4    MED  34388205  PMC8386872      pathogenesis          pathogenesis   \n",
       "\n",
       "                                annotations.tags.uri  \\\n",
       "0               http://identifiers.org/go/GO:0032259   \n",
       "1              http://identifiers.org/taxonomy/11676   \n",
       "2  http://linkedlifedata.com/resource/umls-concep...   \n",
       "3              http://identifiers.org/taxonomy/11676   \n",
       "4               http://identifiers.org/go/GO:0009405   \n",
       "\n",
       "                                      annotations.id annotations.type  \\\n",
       "0  http://europepmc.org/article/MED/34388205#euro...    Gene Ontology   \n",
       "1  http://europepmc.org/article/MED/34388205#euro...        Organisms   \n",
       "2  http://europepmc.org/article/MED/34388205#euro...         Diseases   \n",
       "3  http://europepmc.org/article/MED/34388205#euro...        Organisms   \n",
       "4  http://europepmc.org/article/MED/34388205#euro...    Gene Ontology   \n",
       "\n",
       "                             annotations.section annotations.provider  \\\n",
       "0  Title (http://purl.org/dc/elements/1.1/title)           Europe PMC   \n",
       "1  Title (http://purl.org/dc/elements/1.1/title)           Europe PMC   \n",
       "2  Title (http://purl.org/dc/elements/1.1/title)           Europe PMC   \n",
       "3   Abstract (http://purl.org/dc/terms/abstract)           Europe PMC   \n",
       "4   Abstract (http://purl.org/dc/terms/abstract)           Europe PMC   \n",
       "\n",
       "  fullTextIdList    annotations.prefix  \\\n",
       "0     PMC8386872  l-type specific DNA    \n",
       "1     PMC8386872   blood during acute    \n",
       "2     PMC8386872  od during acute HIV    \n",
       "3     PMC8386872                         \n",
       "4     PMC8386872  quences for disease    \n",
       "\n",
       "                        annotations.postfix annotations.subType  \\\n",
       "0                       profiles in blood d                 NaN   \n",
       "1                       infection persists                  NaN   \n",
       "2                       persists despite pr                 NaN   \n",
       "3   disrupts the host epigenetic landscape                  NaN   \n",
       "4                      , viral persistence,                 NaN   \n",
       "\n",
       "   annotations.frequency  \n",
       "0                    NaN  \n",
       "1                    NaN  \n",
       "2                    NaN  \n",
       "3                    NaN  \n",
       "4                    NaN  "
      ]
     },
     "metadata": {},
     "output_type": "display_data"
    },
    {
     "data": {
      "text/html": [
       "<div>\n",
       "<style scoped>\n",
       "    .dataframe tbody tr th:only-of-type {\n",
       "        vertical-align: middle;\n",
       "    }\n",
       "\n",
       "    .dataframe tbody tr th {\n",
       "        vertical-align: top;\n",
       "    }\n",
       "\n",
       "    .dataframe thead th {\n",
       "        text-align: right;\n",
       "    }\n",
       "</style>\n",
       "<table border=\"1\" class=\"dataframe\">\n",
       "  <thead>\n",
       "    <tr style=\"text-align: right;\">\n",
       "      <th></th>\n",
       "      <th>source</th>\n",
       "      <th>extId</th>\n",
       "      <th>pmcid</th>\n",
       "      <th>annotations.exact</th>\n",
       "      <th>annotations.tags.name</th>\n",
       "      <th>annotations.tags.uri</th>\n",
       "      <th>annotations.id</th>\n",
       "      <th>annotations.type</th>\n",
       "      <th>annotations.section</th>\n",
       "      <th>annotations.provider</th>\n",
       "      <th>fullTextIdList</th>\n",
       "      <th>annotations.prefix</th>\n",
       "      <th>annotations.postfix</th>\n",
       "      <th>annotations.subType</th>\n",
       "      <th>annotations.frequency</th>\n",
       "    </tr>\n",
       "  </thead>\n",
       "  <tbody>\n",
       "    <tr>\n",
       "      <th>36</th>\n",
       "      <td>MED</td>\n",
       "      <td>30713215</td>\n",
       "      <td>NaN</td>\n",
       "      <td>ISG15</td>\n",
       "      <td>ISG15</td>\n",
       "      <td>http://purl.uniprot.org/uniprot/O02741</td>\n",
       "      <td>http://europepmc.org/article/MED/30713215#euro...</td>\n",
       "      <td>Gene_Proteins</td>\n",
       "      <td>Abstract (http://purl.org/dc/terms/abstract)</td>\n",
       "      <td>Europe PMC</td>\n",
       "      <td>NaN</td>\n",
       "      <td>conclude that IRF7,</td>\n",
       "      <td>, MAS1, TMPRSS2, NPT</td>\n",
       "      <td>NaN</td>\n",
       "      <td>NaN</td>\n",
       "    </tr>\n",
       "    <tr>\n",
       "      <th>37</th>\n",
       "      <td>MED</td>\n",
       "      <td>30713215</td>\n",
       "      <td>NaN</td>\n",
       "      <td>MAS1</td>\n",
       "      <td>MAS1</td>\n",
       "      <td>http://purl.uniprot.org/uniprot/P04201</td>\n",
       "      <td>http://europepmc.org/article/MED/30713215#euro...</td>\n",
       "      <td>Gene_Proteins</td>\n",
       "      <td>Abstract (http://purl.org/dc/terms/abstract)</td>\n",
       "      <td>Europe PMC</td>\n",
       "      <td>NaN</td>\n",
       "      <td>e that IRF7, ISG15,</td>\n",
       "      <td>, TMPRSS2, NPTX1, XL</td>\n",
       "      <td>NaN</td>\n",
       "      <td>NaN</td>\n",
       "    </tr>\n",
       "    <tr>\n",
       "      <th>38</th>\n",
       "      <td>MED</td>\n",
       "      <td>30713215</td>\n",
       "      <td>NaN</td>\n",
       "      <td>TMPRSS2</td>\n",
       "      <td>TMPRSS2</td>\n",
       "      <td>http://purl.uniprot.org/uniprot/O15393</td>\n",
       "      <td>http://europepmc.org/article/MED/30713215#euro...</td>\n",
       "      <td>Gene_Proteins</td>\n",
       "      <td>Abstract (http://purl.org/dc/terms/abstract)</td>\n",
       "      <td>Europe PMC</td>\n",
       "      <td>NaN</td>\n",
       "      <td>IRF7, ISG15, MAS1,</td>\n",
       "      <td>, NPTX1, XLOC_016191</td>\n",
       "      <td>NaN</td>\n",
       "      <td>NaN</td>\n",
       "    </tr>\n",
       "    <tr>\n",
       "      <th>39</th>\n",
       "      <td>MED</td>\n",
       "      <td>30713215</td>\n",
       "      <td>NaN</td>\n",
       "      <td>NPTX1</td>\n",
       "      <td>NPTX1</td>\n",
       "      <td>http://purl.uniprot.org/uniprot/Q15818</td>\n",
       "      <td>http://europepmc.org/article/MED/30713215#euro...</td>\n",
       "      <td>Gene_Proteins</td>\n",
       "      <td>Abstract (http://purl.org/dc/terms/abstract)</td>\n",
       "      <td>Europe PMC</td>\n",
       "      <td>NaN</td>\n",
       "      <td>G15, MAS1, TMPRSS2,</td>\n",
       "      <td>, XLOC_016191, XLOC_</td>\n",
       "      <td>NaN</td>\n",
       "      <td>NaN</td>\n",
       "    </tr>\n",
       "    <tr>\n",
       "      <th>40</th>\n",
       "      <td>MED</td>\n",
       "      <td>30713215</td>\n",
       "      <td>NaN</td>\n",
       "      <td>pathogenesis</td>\n",
       "      <td>pathogenesis</td>\n",
       "      <td>http://identifiers.org/go/GO:0009405</td>\n",
       "      <td>http://europepmc.org/article/MED/30713215#euro...</td>\n",
       "      <td>Gene Ontology</td>\n",
       "      <td>Abstract (http://purl.org/dc/terms/abstract)</td>\n",
       "      <td>Europe PMC</td>\n",
       "      <td>NaN</td>\n",
       "      <td>ontribute critical roles in the</td>\n",
       "      <td>of PD.</td>\n",
       "      <td>NaN</td>\n",
       "      <td>NaN</td>\n",
       "    </tr>\n",
       "  </tbody>\n",
       "</table>\n",
       "</div>"
      ],
      "text/plain": [
       "   source     extId pmcid annotations.exact annotations.tags.name  \\\n",
       "36    MED  30713215   NaN             ISG15                 ISG15   \n",
       "37    MED  30713215   NaN              MAS1                  MAS1   \n",
       "38    MED  30713215   NaN           TMPRSS2               TMPRSS2   \n",
       "39    MED  30713215   NaN             NPTX1                 NPTX1   \n",
       "40    MED  30713215   NaN      pathogenesis          pathogenesis   \n",
       "\n",
       "                      annotations.tags.uri  \\\n",
       "36  http://purl.uniprot.org/uniprot/O02741   \n",
       "37  http://purl.uniprot.org/uniprot/P04201   \n",
       "38  http://purl.uniprot.org/uniprot/O15393   \n",
       "39  http://purl.uniprot.org/uniprot/Q15818   \n",
       "40    http://identifiers.org/go/GO:0009405   \n",
       "\n",
       "                                       annotations.id annotations.type  \\\n",
       "36  http://europepmc.org/article/MED/30713215#euro...    Gene_Proteins   \n",
       "37  http://europepmc.org/article/MED/30713215#euro...    Gene_Proteins   \n",
       "38  http://europepmc.org/article/MED/30713215#euro...    Gene_Proteins   \n",
       "39  http://europepmc.org/article/MED/30713215#euro...    Gene_Proteins   \n",
       "40  http://europepmc.org/article/MED/30713215#euro...    Gene Ontology   \n",
       "\n",
       "                             annotations.section annotations.provider  \\\n",
       "36  Abstract (http://purl.org/dc/terms/abstract)           Europe PMC   \n",
       "37  Abstract (http://purl.org/dc/terms/abstract)           Europe PMC   \n",
       "38  Abstract (http://purl.org/dc/terms/abstract)           Europe PMC   \n",
       "39  Abstract (http://purl.org/dc/terms/abstract)           Europe PMC   \n",
       "40  Abstract (http://purl.org/dc/terms/abstract)           Europe PMC   \n",
       "\n",
       "   fullTextIdList                annotations.prefix   annotations.postfix  \\\n",
       "36            NaN              conclude that IRF7,   , MAS1, TMPRSS2, NPT   \n",
       "37            NaN              e that IRF7, ISG15,   , TMPRSS2, NPTX1, XL   \n",
       "38            NaN               IRF7, ISG15, MAS1,   , NPTX1, XLOC_016191   \n",
       "39            NaN              G15, MAS1, TMPRSS2,   , XLOC_016191, XLOC_   \n",
       "40            NaN  ontribute critical roles in the                of PD.    \n",
       "\n",
       "   annotations.subType  annotations.frequency  \n",
       "36                 NaN                    NaN  \n",
       "37                 NaN                    NaN  \n",
       "38                 NaN                    NaN  \n",
       "39                 NaN                    NaN  \n",
       "40                 NaN                    NaN  "
      ]
     },
     "metadata": {},
     "output_type": "display_data"
    },
    {
     "data": {
      "text/plain": [
       "(334799, 15)"
      ]
     },
     "metadata": {},
     "output_type": "display_data"
    },
    {
     "data": {
      "text/plain": [
       "pandas.core.frame.DataFrame"
      ]
     },
     "metadata": {},
     "output_type": "display_data"
    }
   ],
   "source": [
    "display(epmc_table.head())\n",
    "display(epmc_table.tail())\n",
    "display(epmc_table.shape)\n",
    "display(type(epmc_table))"
   ]
  },
  {
   "cell_type": "code",
   "execution_count": 87,
   "id": "b96ed985-c056-4e42-8c2c-74d9168ccd4b",
   "metadata": {},
   "outputs": [
    {
     "data": {
      "text/plain": [
       "Gene_Proteins                         154933\n",
       "Organisms                              43479\n",
       "Diseases                               39253\n",
       "Gene Ontology                          29037\n",
       "Gene Disease Relationship              22754\n",
       "Chemicals                              12573\n",
       "Experimental Methods                   12052\n",
       "COVoc                                   9011\n",
       "Sequence                                2169\n",
       "Accession Numbers                       2145\n",
       "Cell Line                               1999\n",
       "Cell                                    1641\n",
       "Organ Tissue                            1587\n",
       "Resources                                347\n",
       "Clinical Drug                            313\n",
       "Phenotype                                262\n",
       "Gene Function                            207\n",
       "Anatomy                                  195\n",
       "State                                    192\n",
       "Pathway                                  131\n",
       "Gene Mutations                           105\n",
       "Treatment                                 96\n",
       "Molecule                                  93\n",
       "Biological Event                          34\n",
       "Molecular Process                         29\n",
       "Host                                      27\n",
       "Transcription factor - Target gene        24\n",
       "Sample-Material                           22\n",
       "Primer                                    19\n",
       "Gene                                      17\n",
       "Place                                     16\n",
       "Body-Site                                 13\n",
       "Kit                                        9\n",
       "Engineered                                 5\n",
       "Sequencing                                 3\n",
       "LS                                         3\n",
       "LCM                                        2\n",
       "Site                                       2\n",
       "Name: annotations.type, dtype: int64"
      ]
     },
     "execution_count": 87,
     "metadata": {},
     "output_type": "execute_result"
    }
   ],
   "source": [
    "epmc_table[\"annotations.type\"].value_counts()"
   ]
  },
  {
   "cell_type": "code",
   "execution_count": 88,
   "id": "d7c79c6e-61ed-4d41-956b-ee7b1ce54de0",
   "metadata": {},
   "outputs": [
    {
     "data": {
      "text/plain": [
       "576"
      ]
     },
     "execution_count": 88,
     "metadata": {},
     "output_type": "execute_result"
    }
   ],
   "source": [
    "len(epmc_table.extId.drop_duplicates())"
   ]
  },
  {
   "attachments": {},
   "cell_type": "markdown",
   "id": "4e5414bd-7ee6-4d53-8a97-959e152d2f17",
   "metadata": {},
   "source": [
    "##### gene proteins\n"
   ]
  },
  {
   "cell_type": "code",
   "execution_count": 89,
   "id": "b62fb097-64cc-47aa-ae6d-c6f7a4f76d0a",
   "metadata": {},
   "outputs": [],
   "source": [
    "epmc_gene_proteins1 = (\n",
    "    epmc_table.rename(\n",
    "        columns={\n",
    "            \"annotations.tags.uri\": \"uniprot_url\",\n",
    "            \"annotations.id\": \"annotations_id\",\n",
    "            \"annotations.type\": \"annotations_type\",\n",
    "        }\n",
    "    )\n",
    "    .assign(literature_ID=lambda x: x.source + \":\" + x.extId)\n",
    "    .filter([\"literature_ID\", \"annotations_type\", \"uniprot_url\"])\n",
    "    .query(\"annotations_type == 'Gene_Proteins'\")\n",
    "    .drop_duplicates()\n",
    "    .assign(\n",
    "        uniprot_ID=lambda x: x.uniprot_url.str.replace(\n",
    "            \"http://purl.uniprot.org/uniprot/\", \"\", regex=False\n",
    "        )\n",
    "    )\n",
    ")"
   ]
  },
  {
   "cell_type": "code",
   "execution_count": 90,
   "id": "c5d142cb-126e-42a8-b543-125b15e22d4f",
   "metadata": {},
   "outputs": [
    {
     "data": {
      "text/html": [
       "<div>\n",
       "<style scoped>\n",
       "    .dataframe tbody tr th:only-of-type {\n",
       "        vertical-align: middle;\n",
       "    }\n",
       "\n",
       "    .dataframe tbody tr th {\n",
       "        vertical-align: top;\n",
       "    }\n",
       "\n",
       "    .dataframe thead th {\n",
       "        text-align: right;\n",
       "    }\n",
       "</style>\n",
       "<table border=\"1\" class=\"dataframe\">\n",
       "  <thead>\n",
       "    <tr style=\"text-align: right;\">\n",
       "      <th></th>\n",
       "      <th>literature_ID</th>\n",
       "      <th>annotations_type</th>\n",
       "      <th>uniprot_url</th>\n",
       "      <th>uniprot_ID</th>\n",
       "    </tr>\n",
       "  </thead>\n",
       "  <tbody>\n",
       "    <tr>\n",
       "      <th>16</th>\n",
       "      <td>MED:34388205</td>\n",
       "      <td>Gene_Proteins</td>\n",
       "      <td>http://purl.uniprot.org/uniprot/P29259</td>\n",
       "      <td>P29259</td>\n",
       "    </tr>\n",
       "    <tr>\n",
       "      <th>46</th>\n",
       "      <td>MED:34388205</td>\n",
       "      <td>Gene_Proteins</td>\n",
       "      <td>http://purl.uniprot.org/uniprot/Q9CJ45</td>\n",
       "      <td>Q9CJ45</td>\n",
       "    </tr>\n",
       "    <tr>\n",
       "      <th>74</th>\n",
       "      <td>MED:34388205</td>\n",
       "      <td>Gene_Proteins</td>\n",
       "      <td>http://purl.uniprot.org/uniprot/P51527</td>\n",
       "      <td>P51527</td>\n",
       "    </tr>\n",
       "    <tr>\n",
       "      <th>96</th>\n",
       "      <td>MED:34388205</td>\n",
       "      <td>Gene_Proteins</td>\n",
       "      <td>http://purl.uniprot.org/uniprot/P21926</td>\n",
       "      <td>P21926</td>\n",
       "    </tr>\n",
       "    <tr>\n",
       "      <th>103</th>\n",
       "      <td>MED:34388205</td>\n",
       "      <td>Gene_Proteins</td>\n",
       "      <td>http://purl.uniprot.org/uniprot/O75973</td>\n",
       "      <td>O75973</td>\n",
       "    </tr>\n",
       "  </tbody>\n",
       "</table>\n",
       "</div>"
      ],
      "text/plain": [
       "    literature_ID annotations_type                             uniprot_url  \\\n",
       "16   MED:34388205    Gene_Proteins  http://purl.uniprot.org/uniprot/P29259   \n",
       "46   MED:34388205    Gene_Proteins  http://purl.uniprot.org/uniprot/Q9CJ45   \n",
       "74   MED:34388205    Gene_Proteins  http://purl.uniprot.org/uniprot/P51527   \n",
       "96   MED:34388205    Gene_Proteins  http://purl.uniprot.org/uniprot/P21926   \n",
       "103  MED:34388205    Gene_Proteins  http://purl.uniprot.org/uniprot/O75973   \n",
       "\n",
       "    uniprot_ID  \n",
       "16      P29259  \n",
       "46      Q9CJ45  \n",
       "74      P51527  \n",
       "96      P21926  \n",
       "103     O75973  "
      ]
     },
     "metadata": {},
     "output_type": "display_data"
    },
    {
     "data": {
      "text/plain": [
       "(26923, 4)"
      ]
     },
     "metadata": {},
     "output_type": "display_data"
    },
    {
     "data": {
      "text/plain": [
       "pandas.core.frame.DataFrame"
      ]
     },
     "metadata": {},
     "output_type": "display_data"
    }
   ],
   "source": [
    "display(epmc_gene_proteins1.head())\n",
    "display(epmc_gene_proteins1.shape)\n",
    "display(type(epmc_gene_proteins1))"
   ]
  },
  {
   "cell_type": "code",
   "execution_count": 91,
   "id": "e5b02098-f45f-4a84-9e32-b855c4800f4e",
   "metadata": {},
   "outputs": [],
   "source": [
    "epmc_gene_proteins2 = (\n",
    "    epmc_table.rename(\n",
    "        columns={\n",
    "            \"annotations.tags.uri\": \"uniprot_url\",\n",
    "            \"annotations.id\": \"annotations_id\",\n",
    "            \"annotations.type\": \"annotations_type\",\n",
    "        }\n",
    "    )\n",
    "    .assign(\n",
    "        literature_ID=lambda x: x.annotations_id.str.replace(\n",
    "            \"http://europepmc.org/article/\", \"\", regex=False\n",
    "        )\n",
    "    )\n",
    "    .assign(literature_ID=lambda x: x.literature_ID.str.replace(\"#.*\", \"\", regex=True))\n",
    "    .assign(literature_ID=lambda x: x.literature_ID.str.replace(\"/\", \":\", regex=False))\n",
    "    .filter([\"literature_ID\", \"annotations_type\", \"uniprot_url\"])\n",
    "    .query(\"annotations_type == 'Gene_Proteins'\")\n",
    "    .drop_duplicates()\n",
    "    .assign(\n",
    "        uniprot_ID=lambda x: x.uniprot_url.str.replace(\n",
    "            \"http://purl.uniprot.org/uniprot/\", \"\", regex=False\n",
    "        )\n",
    "    )\n",
    ")"
   ]
  },
  {
   "cell_type": "code",
   "execution_count": 92,
   "id": "8890fdb7-e210-4a3d-bff6-42dd3521025d",
   "metadata": {},
   "outputs": [
    {
     "data": {
      "text/html": [
       "<div>\n",
       "<style scoped>\n",
       "    .dataframe tbody tr th:only-of-type {\n",
       "        vertical-align: middle;\n",
       "    }\n",
       "\n",
       "    .dataframe tbody tr th {\n",
       "        vertical-align: top;\n",
       "    }\n",
       "\n",
       "    .dataframe thead th {\n",
       "        text-align: right;\n",
       "    }\n",
       "</style>\n",
       "<table border=\"1\" class=\"dataframe\">\n",
       "  <thead>\n",
       "    <tr style=\"text-align: right;\">\n",
       "      <th></th>\n",
       "      <th>literature_ID</th>\n",
       "      <th>annotations_type</th>\n",
       "      <th>uniprot_url</th>\n",
       "      <th>uniprot_ID</th>\n",
       "    </tr>\n",
       "  </thead>\n",
       "  <tbody>\n",
       "    <tr>\n",
       "      <th>16</th>\n",
       "      <td>MED:34388205</td>\n",
       "      <td>Gene_Proteins</td>\n",
       "      <td>http://purl.uniprot.org/uniprot/P29259</td>\n",
       "      <td>P29259</td>\n",
       "    </tr>\n",
       "    <tr>\n",
       "      <th>43</th>\n",
       "      <td>PMC:PMC8386872</td>\n",
       "      <td>Gene_Proteins</td>\n",
       "      <td>http://purl.uniprot.org/uniprot/P29259</td>\n",
       "      <td>P29259</td>\n",
       "    </tr>\n",
       "    <tr>\n",
       "      <th>46</th>\n",
       "      <td>PMC:PMC8386872</td>\n",
       "      <td>Gene_Proteins</td>\n",
       "      <td>http://purl.uniprot.org/uniprot/Q9CJ45</td>\n",
       "      <td>Q9CJ45</td>\n",
       "    </tr>\n",
       "    <tr>\n",
       "      <th>74</th>\n",
       "      <td>PMC:PMC8386872</td>\n",
       "      <td>Gene_Proteins</td>\n",
       "      <td>http://purl.uniprot.org/uniprot/P51527</td>\n",
       "      <td>P51527</td>\n",
       "    </tr>\n",
       "    <tr>\n",
       "      <th>96</th>\n",
       "      <td>PMC:PMC8386872</td>\n",
       "      <td>Gene_Proteins</td>\n",
       "      <td>http://purl.uniprot.org/uniprot/P21926</td>\n",
       "      <td>P21926</td>\n",
       "    </tr>\n",
       "  </tbody>\n",
       "</table>\n",
       "</div>"
      ],
      "text/plain": [
       "     literature_ID annotations_type                             uniprot_url  \\\n",
       "16    MED:34388205    Gene_Proteins  http://purl.uniprot.org/uniprot/P29259   \n",
       "43  PMC:PMC8386872    Gene_Proteins  http://purl.uniprot.org/uniprot/P29259   \n",
       "46  PMC:PMC8386872    Gene_Proteins  http://purl.uniprot.org/uniprot/Q9CJ45   \n",
       "74  PMC:PMC8386872    Gene_Proteins  http://purl.uniprot.org/uniprot/P51527   \n",
       "96  PMC:PMC8386872    Gene_Proteins  http://purl.uniprot.org/uniprot/P21926   \n",
       "\n",
       "   uniprot_ID  \n",
       "16     P29259  \n",
       "43     P29259  \n",
       "46     Q9CJ45  \n",
       "74     P51527  \n",
       "96     P21926  "
      ]
     },
     "metadata": {},
     "output_type": "display_data"
    },
    {
     "data": {
      "text/plain": [
       "(29048, 4)"
      ]
     },
     "metadata": {},
     "output_type": "display_data"
    },
    {
     "data": {
      "text/plain": [
       "pandas.core.frame.DataFrame"
      ]
     },
     "metadata": {},
     "output_type": "display_data"
    }
   ],
   "source": [
    "display(epmc_gene_proteins2.head())\n",
    "display(epmc_gene_proteins2.shape)\n",
    "display(type(epmc_gene_proteins2))"
   ]
  },
  {
   "cell_type": "code",
   "execution_count": 93,
   "id": "3ec8dbf7-a5c3-4839-a83b-9c1daee75c28",
   "metadata": {},
   "outputs": [],
   "source": [
    "epmc_gene_proteins3 = (\n",
    "    epmc_table.query(\"pmcid.notna()\")\n",
    "    .rename(\n",
    "        columns={\n",
    "            \"annotations.tags.uri\": \"uniprot_url\",\n",
    "            \"annotations.id\": \"annotations_id\",\n",
    "            \"annotations.type\": \"annotations_type\",\n",
    "        }\n",
    "    )\n",
    "    .assign(literature_ID=lambda x: \"PMC:\" + x.pmcid)\n",
    "    .filter([\"literature_ID\", \"annotations_type\", \"uniprot_url\"])\n",
    "    .query(\"annotations_type == 'Gene_Proteins'\")\n",
    "    .drop_duplicates()\n",
    "    .assign(\n",
    "        uniprot_ID=lambda x: x.uniprot_url.str.replace(\n",
    "            \"http://purl.uniprot.org/uniprot/\", \"\", regex=False\n",
    "        )\n",
    "    )\n",
    ")"
   ]
  },
  {
   "cell_type": "code",
   "execution_count": 94,
   "id": "6808f173-a124-4887-bd79-9e3da3fde2f1",
   "metadata": {},
   "outputs": [
    {
     "data": {
      "text/html": [
       "<div>\n",
       "<style scoped>\n",
       "    .dataframe tbody tr th:only-of-type {\n",
       "        vertical-align: middle;\n",
       "    }\n",
       "\n",
       "    .dataframe tbody tr th {\n",
       "        vertical-align: top;\n",
       "    }\n",
       "\n",
       "    .dataframe thead th {\n",
       "        text-align: right;\n",
       "    }\n",
       "</style>\n",
       "<table border=\"1\" class=\"dataframe\">\n",
       "  <thead>\n",
       "    <tr style=\"text-align: right;\">\n",
       "      <th></th>\n",
       "      <th>literature_ID</th>\n",
       "      <th>annotations_type</th>\n",
       "      <th>uniprot_url</th>\n",
       "      <th>uniprot_ID</th>\n",
       "    </tr>\n",
       "  </thead>\n",
       "  <tbody>\n",
       "    <tr>\n",
       "      <th>16</th>\n",
       "      <td>PMC:PMC8386872</td>\n",
       "      <td>Gene_Proteins</td>\n",
       "      <td>http://purl.uniprot.org/uniprot/P29259</td>\n",
       "      <td>P29259</td>\n",
       "    </tr>\n",
       "    <tr>\n",
       "      <th>46</th>\n",
       "      <td>PMC:PMC8386872</td>\n",
       "      <td>Gene_Proteins</td>\n",
       "      <td>http://purl.uniprot.org/uniprot/Q9CJ45</td>\n",
       "      <td>Q9CJ45</td>\n",
       "    </tr>\n",
       "    <tr>\n",
       "      <th>74</th>\n",
       "      <td>PMC:PMC8386872</td>\n",
       "      <td>Gene_Proteins</td>\n",
       "      <td>http://purl.uniprot.org/uniprot/P51527</td>\n",
       "      <td>P51527</td>\n",
       "    </tr>\n",
       "    <tr>\n",
       "      <th>96</th>\n",
       "      <td>PMC:PMC8386872</td>\n",
       "      <td>Gene_Proteins</td>\n",
       "      <td>http://purl.uniprot.org/uniprot/P21926</td>\n",
       "      <td>P21926</td>\n",
       "    </tr>\n",
       "    <tr>\n",
       "      <th>103</th>\n",
       "      <td>PMC:PMC8386872</td>\n",
       "      <td>Gene_Proteins</td>\n",
       "      <td>http://purl.uniprot.org/uniprot/O75973</td>\n",
       "      <td>O75973</td>\n",
       "    </tr>\n",
       "  </tbody>\n",
       "</table>\n",
       "</div>"
      ],
      "text/plain": [
       "      literature_ID annotations_type                             uniprot_url  \\\n",
       "16   PMC:PMC8386872    Gene_Proteins  http://purl.uniprot.org/uniprot/P29259   \n",
       "46   PMC:PMC8386872    Gene_Proteins  http://purl.uniprot.org/uniprot/Q9CJ45   \n",
       "74   PMC:PMC8386872    Gene_Proteins  http://purl.uniprot.org/uniprot/P51527   \n",
       "96   PMC:PMC8386872    Gene_Proteins  http://purl.uniprot.org/uniprot/P21926   \n",
       "103  PMC:PMC8386872    Gene_Proteins  http://purl.uniprot.org/uniprot/O75973   \n",
       "\n",
       "    uniprot_ID  \n",
       "16      P29259  \n",
       "46      Q9CJ45  \n",
       "74      P51527  \n",
       "96      P21926  \n",
       "103     O75973  "
      ]
     },
     "metadata": {},
     "output_type": "display_data"
    },
    {
     "data": {
      "text/plain": [
       "(25834, 4)"
      ]
     },
     "metadata": {},
     "output_type": "display_data"
    },
    {
     "data": {
      "text/plain": [
       "pandas.core.frame.DataFrame"
      ]
     },
     "metadata": {},
     "output_type": "display_data"
    }
   ],
   "source": [
    "display(epmc_gene_proteins3.head())\n",
    "display(epmc_gene_proteins3.shape)\n",
    "display(type(epmc_gene_proteins3))"
   ]
  },
  {
   "cell_type": "code",
   "execution_count": 95,
   "id": "55f9f76a-cce5-4a96-bdad-eb16fdb385dc",
   "metadata": {},
   "outputs": [],
   "source": [
    "epmc_gene_proteins = (\n",
    "    pd.concat([epmc_gene_proteins1, epmc_gene_proteins2, epmc_gene_proteins3])\n",
    "    .drop_duplicates()\n",
    "    .sort_values([\"literature_ID\", \"uniprot_ID\"])\n",
    "    .reset_index(drop=True)\n",
    ")"
   ]
  },
  {
   "cell_type": "code",
   "execution_count": 96,
   "id": "a85a4521-ced9-424f-af25-9518c68ddc2d",
   "metadata": {},
   "outputs": [
    {
     "data": {
      "text/html": [
       "<div>\n",
       "<style scoped>\n",
       "    .dataframe tbody tr th:only-of-type {\n",
       "        vertical-align: middle;\n",
       "    }\n",
       "\n",
       "    .dataframe tbody tr th {\n",
       "        vertical-align: top;\n",
       "    }\n",
       "\n",
       "    .dataframe thead th {\n",
       "        text-align: right;\n",
       "    }\n",
       "</style>\n",
       "<table border=\"1\" class=\"dataframe\">\n",
       "  <thead>\n",
       "    <tr style=\"text-align: right;\">\n",
       "      <th></th>\n",
       "      <th>literature_ID</th>\n",
       "      <th>annotations_type</th>\n",
       "      <th>uniprot_url</th>\n",
       "      <th>uniprot_ID</th>\n",
       "    </tr>\n",
       "  </thead>\n",
       "  <tbody>\n",
       "    <tr>\n",
       "      <th>0</th>\n",
       "      <td>MED:10692430</td>\n",
       "      <td>Gene_Proteins</td>\n",
       "      <td>http://purl.uniprot.org/uniprot/P28172</td>\n",
       "      <td>P28172</td>\n",
       "    </tr>\n",
       "    <tr>\n",
       "      <th>1</th>\n",
       "      <td>MED:10692430</td>\n",
       "      <td>Gene_Proteins</td>\n",
       "      <td>http://purl.uniprot.org/uniprot/P35849</td>\n",
       "      <td>P35849</td>\n",
       "    </tr>\n",
       "    <tr>\n",
       "      <th>2</th>\n",
       "      <td>MED:10692430</td>\n",
       "      <td>Gene_Proteins</td>\n",
       "      <td>http://purl.uniprot.org/uniprot/P42165</td>\n",
       "      <td>P42165</td>\n",
       "    </tr>\n",
       "    <tr>\n",
       "      <th>3</th>\n",
       "      <td>MED:10692430</td>\n",
       "      <td>Gene_Proteins</td>\n",
       "      <td>http://purl.uniprot.org/uniprot/P51527</td>\n",
       "      <td>P51527</td>\n",
       "    </tr>\n",
       "    <tr>\n",
       "      <th>4</th>\n",
       "      <td>MED:10692430</td>\n",
       "      <td>Gene_Proteins</td>\n",
       "      <td>http://purl.uniprot.org/uniprot/Q4JF28</td>\n",
       "      <td>Q4JF28</td>\n",
       "    </tr>\n",
       "  </tbody>\n",
       "</table>\n",
       "</div>"
      ],
      "text/plain": [
       "  literature_ID annotations_type                             uniprot_url  \\\n",
       "0  MED:10692430    Gene_Proteins  http://purl.uniprot.org/uniprot/P28172   \n",
       "1  MED:10692430    Gene_Proteins  http://purl.uniprot.org/uniprot/P35849   \n",
       "2  MED:10692430    Gene_Proteins  http://purl.uniprot.org/uniprot/P42165   \n",
       "3  MED:10692430    Gene_Proteins  http://purl.uniprot.org/uniprot/P51527   \n",
       "4  MED:10692430    Gene_Proteins  http://purl.uniprot.org/uniprot/Q4JF28   \n",
       "\n",
       "  uniprot_ID  \n",
       "0     P28172  \n",
       "1     P35849  \n",
       "2     P42165  \n",
       "3     P51527  \n",
       "4     Q4JF28  "
      ]
     },
     "metadata": {},
     "output_type": "display_data"
    },
    {
     "data": {
      "text/plain": [
       "(52844, 4)"
      ]
     },
     "metadata": {},
     "output_type": "display_data"
    },
    {
     "data": {
      "text/plain": [
       "pandas.core.frame.DataFrame"
      ]
     },
     "metadata": {},
     "output_type": "display_data"
    }
   ],
   "source": [
    "display(epmc_gene_proteins.head())\n",
    "display(epmc_gene_proteins.shape)\n",
    "display(type(epmc_gene_proteins))"
   ]
  },
  {
   "cell_type": "code",
   "execution_count": 97,
   "id": "5637e48e-c448-4e0c-9764-fb9466525717",
   "metadata": {},
   "outputs": [
    {
     "data": {
      "text/plain": [
       "1000"
      ]
     },
     "execution_count": 97,
     "metadata": {},
     "output_type": "execute_result"
    }
   ],
   "source": [
    "len(epmc_gene_proteins.literature_ID.drop_duplicates())"
   ]
  },
  {
   "cell_type": "code",
   "execution_count": 98,
   "id": "bf976e12-f456-4e46-8616-14d92077c14c",
   "metadata": {},
   "outputs": [
    {
     "data": {
      "text/plain": [
       "6199"
      ]
     },
     "execution_count": 98,
     "metadata": {},
     "output_type": "execute_result"
    }
   ],
   "source": [
    "len(epmc_gene_proteins.uniprot_ID.drop_duplicates())"
   ]
  },
  {
   "cell_type": "code",
   "execution_count": 99,
   "id": "d8bafb71-16b1-4e45-8f49-cd61b94ce673",
   "metadata": {},
   "outputs": [
    {
     "data": {
      "text/plain": [
       "Q92985    938\n",
       "P51527    836\n",
       "P28172    751\n",
       "P35849    548\n",
       "Q4JF28    497\n",
       "         ... \n",
       "Q69383      1\n",
       "P01571      1\n",
       "Q5R1P0      1\n",
       "Q80YQ2      1\n",
       "Q62714      1\n",
       "Name: uniprot_ID, Length: 6199, dtype: int64"
      ]
     },
     "execution_count": 99,
     "metadata": {},
     "output_type": "execute_result"
    }
   ],
   "source": [
    "epmc_gene_proteins.uniprot_ID.value_counts()"
   ]
  },
  {
   "cell_type": "code",
   "execution_count": 100,
   "id": "3235ea83-f5c1-4893-9ec9-7d6875e18907",
   "metadata": {},
   "outputs": [],
   "source": [
    "uniprot_url = (\n",
    "    \"https://rest.uniprot.org/uniprotkb/stream?format=json&query=%28%28gene%3A\"\n",
    "    + genetable_ok.symbol.tolist()[0]\n",
    "    + \"%29%29%20AND%20%28reviewed%3Atrue%29&fields=accession,id,gene_primary\"\n",
    ")"
   ]
  },
  {
   "cell_type": "code",
   "execution_count": 101,
   "id": "75e8d70c-5abd-4889-80ea-4faeeb134fa3",
   "metadata": {},
   "outputs": [],
   "source": [
    "uniprot_list = requests.get(uniprot_url)"
   ]
  },
  {
   "cell_type": "code",
   "execution_count": 102,
   "id": "fbfa1b3c-364b-4610-a8f4-7329bcd5e19f",
   "metadata": {},
   "outputs": [],
   "source": [
    "uniprot_table = pd.DataFrame(list(flatsplode(json.loads(uniprot_list.text))))"
   ]
  },
  {
   "cell_type": "code",
   "execution_count": 103,
   "id": "43764859-2fa2-4948-b541-5af4446bb343",
   "metadata": {},
   "outputs": [
    {
     "data": {
      "text/html": [
       "<div>\n",
       "<style scoped>\n",
       "    .dataframe tbody tr th:only-of-type {\n",
       "        vertical-align: middle;\n",
       "    }\n",
       "\n",
       "    .dataframe tbody tr th {\n",
       "        vertical-align: top;\n",
       "    }\n",
       "\n",
       "    .dataframe thead th {\n",
       "        text-align: right;\n",
       "    }\n",
       "</style>\n",
       "<table border=\"1\" class=\"dataframe\">\n",
       "  <thead>\n",
       "    <tr style=\"text-align: right;\">\n",
       "      <th></th>\n",
       "      <th>results.primaryAccession</th>\n",
       "      <th>results.uniProtkbId</th>\n",
       "      <th>results.genes.geneName.value</th>\n",
       "    </tr>\n",
       "  </thead>\n",
       "  <tbody>\n",
       "    <tr>\n",
       "      <th>0</th>\n",
       "      <td>P70434</td>\n",
       "      <td>IRF7_MOUSE</td>\n",
       "      <td>Irf7</td>\n",
       "    </tr>\n",
       "    <tr>\n",
       "      <th>1</th>\n",
       "      <td>Q92985</td>\n",
       "      <td>IRF7_HUMAN</td>\n",
       "      <td>IRF7</td>\n",
       "    </tr>\n",
       "  </tbody>\n",
       "</table>\n",
       "</div>"
      ],
      "text/plain": [
       "  results.primaryAccession results.uniProtkbId results.genes.geneName.value\n",
       "0                   P70434          IRF7_MOUSE                         Irf7\n",
       "1                   Q92985          IRF7_HUMAN                         IRF7"
      ]
     },
     "metadata": {},
     "output_type": "display_data"
    },
    {
     "data": {
      "text/plain": [
       "(2, 3)"
      ]
     },
     "metadata": {},
     "output_type": "display_data"
    },
    {
     "data": {
      "text/plain": [
       "pandas.core.frame.DataFrame"
      ]
     },
     "metadata": {},
     "output_type": "display_data"
    }
   ],
   "source": [
    "display(uniprot_table.head(10))\n",
    "display(uniprot_table.shape)\n",
    "display(type(uniprot_table))"
   ]
  },
  {
   "cell_type": "code",
   "execution_count": 104,
   "id": "0944af20-d08e-44ab-a71c-19bb3c4a8e7e",
   "metadata": {},
   "outputs": [],
   "source": [
    "epmc_gene_proteins_ok = (\n",
    "    epmc_gene_proteins.query(\n",
    "        \"uniprot_ID == @uniprot_table['results.primaryAccession'].tolist()\"\n",
    "    )\n",
    "    .sort_values([\"literature_ID\", \"uniprot_ID\"])\n",
    "    .reset_index(drop=True)\n",
    ")"
   ]
  },
  {
   "cell_type": "code",
   "execution_count": 105,
   "id": "8edc834d-959c-446f-af17-9ffcb229b0f7",
   "metadata": {},
   "outputs": [
    {
     "data": {
      "text/plain": [
       "995"
      ]
     },
     "execution_count": 105,
     "metadata": {},
     "output_type": "execute_result"
    }
   ],
   "source": [
    "len(epmc_gene_proteins_ok.literature_ID.drop_duplicates())"
   ]
  },
  {
   "cell_type": "code",
   "execution_count": 106,
   "id": "5794be9e-375b-4902-be49-31212db49327",
   "metadata": {},
   "outputs": [
    {
     "data": {
      "text/html": [
       "<div>\n",
       "<style scoped>\n",
       "    .dataframe tbody tr th:only-of-type {\n",
       "        vertical-align: middle;\n",
       "    }\n",
       "\n",
       "    .dataframe tbody tr th {\n",
       "        vertical-align: top;\n",
       "    }\n",
       "\n",
       "    .dataframe thead th {\n",
       "        text-align: right;\n",
       "    }\n",
       "</style>\n",
       "<table border=\"1\" class=\"dataframe\">\n",
       "  <thead>\n",
       "    <tr style=\"text-align: right;\">\n",
       "      <th></th>\n",
       "      <th>literature_ID</th>\n",
       "      <th>annotations_type</th>\n",
       "      <th>uniprot_url</th>\n",
       "      <th>uniprot_ID</th>\n",
       "    </tr>\n",
       "  </thead>\n",
       "  <tbody>\n",
       "    <tr>\n",
       "      <th>0</th>\n",
       "      <td>MED:10692430</td>\n",
       "      <td>Gene_Proteins</td>\n",
       "      <td>http://purl.uniprot.org/uniprot/Q92985</td>\n",
       "      <td>Q92985</td>\n",
       "    </tr>\n",
       "    <tr>\n",
       "      <th>1</th>\n",
       "      <td>MED:10799898</td>\n",
       "      <td>Gene_Proteins</td>\n",
       "      <td>http://purl.uniprot.org/uniprot/Q92985</td>\n",
       "      <td>Q92985</td>\n",
       "    </tr>\n",
       "    <tr>\n",
       "      <th>2</th>\n",
       "      <td>MED:10893229</td>\n",
       "      <td>Gene_Proteins</td>\n",
       "      <td>http://purl.uniprot.org/uniprot/Q92985</td>\n",
       "      <td>Q92985</td>\n",
       "    </tr>\n",
       "    <tr>\n",
       "      <th>3</th>\n",
       "      <td>MED:11070172</td>\n",
       "      <td>Gene_Proteins</td>\n",
       "      <td>http://purl.uniprot.org/uniprot/Q92985</td>\n",
       "      <td>Q92985</td>\n",
       "    </tr>\n",
       "    <tr>\n",
       "      <th>4</th>\n",
       "      <td>MED:11444873</td>\n",
       "      <td>Gene_Proteins</td>\n",
       "      <td>http://purl.uniprot.org/uniprot/Q92985</td>\n",
       "      <td>Q92985</td>\n",
       "    </tr>\n",
       "  </tbody>\n",
       "</table>\n",
       "</div>"
      ],
      "text/plain": [
       "  literature_ID annotations_type                             uniprot_url  \\\n",
       "0  MED:10692430    Gene_Proteins  http://purl.uniprot.org/uniprot/Q92985   \n",
       "1  MED:10799898    Gene_Proteins  http://purl.uniprot.org/uniprot/Q92985   \n",
       "2  MED:10893229    Gene_Proteins  http://purl.uniprot.org/uniprot/Q92985   \n",
       "3  MED:11070172    Gene_Proteins  http://purl.uniprot.org/uniprot/Q92985   \n",
       "4  MED:11444873    Gene_Proteins  http://purl.uniprot.org/uniprot/Q92985   \n",
       "\n",
       "  uniprot_ID  \n",
       "0     Q92985  \n",
       "1     Q92985  \n",
       "2     Q92985  \n",
       "3     Q92985  \n",
       "4     Q92985  "
      ]
     },
     "metadata": {},
     "output_type": "display_data"
    },
    {
     "data": {
      "text/plain": [
       "(1130, 4)"
      ]
     },
     "metadata": {},
     "output_type": "display_data"
    },
    {
     "data": {
      "text/plain": [
       "pandas.core.frame.DataFrame"
      ]
     },
     "metadata": {},
     "output_type": "display_data"
    }
   ],
   "source": [
    "display(epmc_gene_proteins_ok.head())\n",
    "display(epmc_gene_proteins_ok.shape)\n",
    "display(type(epmc_gene_proteins_ok))"
   ]
  },
  {
   "cell_type": "code",
   "execution_count": 107,
   "id": "baed7c8f-da98-480f-b5cd-d9852f64c390",
   "metadata": {},
   "outputs": [
    {
     "data": {
      "text/plain": [
       "Q92985    938\n",
       "P70434    192\n",
       "Name: uniprot_ID, dtype: int64"
      ]
     },
     "execution_count": 107,
     "metadata": {},
     "output_type": "execute_result"
    }
   ],
   "source": [
    "epmc_gene_proteins_ok.uniprot_ID.value_counts()"
   ]
  },
  {
   "cell_type": "code",
   "execution_count": 108,
   "id": "fd0a0f06-c24e-4da4-80dd-847c77873d4a",
   "metadata": {},
   "outputs": [
    {
     "data": {
      "text/plain": [
       "['MED:32881988',\n",
       " 'MED:18971424',\n",
       " 'PMC:PMC7494076',\n",
       " 'MED:29453856',\n",
       " 'MED:25510902']"
      ]
     },
     "execution_count": 108,
     "metadata": {},
     "output_type": "execute_result"
    }
   ],
   "source": [
    "list(\n",
    "    set(epmc_gene_proteins.literature_ID.tolist())\n",
    "    - set(epmc_gene_proteins_ok.literature_ID.tolist())\n",
    ")"
   ]
  },
  {
   "cell_type": "code",
   "execution_count": 109,
   "id": "effa6c49-6b42-4873-a563-2b69a3873247",
   "metadata": {},
   "outputs": [
    {
     "data": {
      "text/html": [
       "<div>\n",
       "<style scoped>\n",
       "    .dataframe tbody tr th:only-of-type {\n",
       "        vertical-align: middle;\n",
       "    }\n",
       "\n",
       "    .dataframe tbody tr th {\n",
       "        vertical-align: top;\n",
       "    }\n",
       "\n",
       "    .dataframe thead th {\n",
       "        text-align: right;\n",
       "    }\n",
       "</style>\n",
       "<table border=\"1\" class=\"dataframe\">\n",
       "  <thead>\n",
       "    <tr style=\"text-align: right;\">\n",
       "      <th></th>\n",
       "      <th>datatype_ID</th>\n",
       "      <th>datasource_ID</th>\n",
       "      <th>disease_ID</th>\n",
       "      <th>disease_name</th>\n",
       "      <th>score</th>\n",
       "      <th>literature_ID</th>\n",
       "      <th>section</th>\n",
       "      <th>text</th>\n",
       "    </tr>\n",
       "  </thead>\n",
       "  <tbody>\n",
       "    <tr>\n",
       "      <th>844</th>\n",
       "      <td>literature</td>\n",
       "      <td>europepmc</td>\n",
       "      <td>EFO_0000763</td>\n",
       "      <td>viral disease</td>\n",
       "      <td>0.03</td>\n",
       "      <td>MED:18971424</td>\n",
       "      <td>abstract</td>\n",
       "      <td>Using &lt;T&gt;irf7&lt;/T&gt;(-/-) and wild-type bone marr...</td>\n",
       "    </tr>\n",
       "    <tr>\n",
       "      <th>892</th>\n",
       "      <td>literature</td>\n",
       "      <td>europepmc</td>\n",
       "      <td>EFO_0000763</td>\n",
       "      <td>viral disease</td>\n",
       "      <td>0.02</td>\n",
       "      <td>MED:32881988</td>\n",
       "      <td>discuss</td>\n",
       "      <td>For example, IFN-α expression is completely ab...</td>\n",
       "    </tr>\n",
       "    <tr>\n",
       "      <th>1164</th>\n",
       "      <td>literature</td>\n",
       "      <td>europepmc</td>\n",
       "      <td>EFO_0007328</td>\n",
       "      <td>influenza</td>\n",
       "      <td>0.03</td>\n",
       "      <td>MED:29453856</td>\n",
       "      <td>abstract</td>\n",
       "      <td>So far, however, IFN regulatory factor &lt;T&gt;(IRF...</td>\n",
       "    </tr>\n",
       "    <tr>\n",
       "      <th>1202</th>\n",
       "      <td>literature</td>\n",
       "      <td>europepmc</td>\n",
       "      <td>EFO_1000680</td>\n",
       "      <td>mucous membrane pemphigoid</td>\n",
       "      <td>0.06</td>\n",
       "      <td>MED:25510902</td>\n",
       "      <td>abstract</td>\n",
       "      <td>al. who demonstrate increased expression of in...</td>\n",
       "    </tr>\n",
       "    <tr>\n",
       "      <th>1203</th>\n",
       "      <td>literature</td>\n",
       "      <td>europepmc</td>\n",
       "      <td>EFO_1000680</td>\n",
       "      <td>mucous membrane pemphigoid</td>\n",
       "      <td>0.06</td>\n",
       "      <td>MED:25510902</td>\n",
       "      <td>abstract</td>\n",
       "      <td>al. who demonstrate increased expression of in...</td>\n",
       "    </tr>\n",
       "  </tbody>\n",
       "</table>\n",
       "</div>"
      ],
      "text/plain": [
       "     datatype_ID datasource_ID   disease_ID                disease_name  \\\n",
       "844   literature     europepmc  EFO_0000763               viral disease   \n",
       "892   literature     europepmc  EFO_0000763               viral disease   \n",
       "1164  literature     europepmc  EFO_0007328                   influenza   \n",
       "1202  literature     europepmc  EFO_1000680  mucous membrane pemphigoid   \n",
       "1203  literature     europepmc  EFO_1000680  mucous membrane pemphigoid   \n",
       "\n",
       "      score literature_ID   section  \\\n",
       "844    0.03  MED:18971424  abstract   \n",
       "892    0.02  MED:32881988   discuss   \n",
       "1164   0.03  MED:29453856  abstract   \n",
       "1202   0.06  MED:25510902  abstract   \n",
       "1203   0.06  MED:25510902  abstract   \n",
       "\n",
       "                                                   text  \n",
       "844   Using <T>irf7</T>(-/-) and wild-type bone marr...  \n",
       "892   For example, IFN-α expression is completely ab...  \n",
       "1164  So far, however, IFN regulatory factor <T>(IRF...  \n",
       "1202  al. who demonstrate increased expression of in...  \n",
       "1203  al. who demonstrate increased expression of in...  "
      ]
     },
     "execution_count": 109,
     "metadata": {},
     "output_type": "execute_result"
    }
   ],
   "source": [
    "europepmctable.query(\n",
    "    \"literature_ID != @epmc_gene_proteins_ok.literature_ID.tolist()\"\n",
    ").head()"
   ]
  },
  {
   "cell_type": "code",
   "execution_count": 110,
   "id": "34faf48b-5ae8-46a4-b2b3-65278664a914",
   "metadata": {},
   "outputs": [],
   "source": [
    "europepmctable_ok = europepmctable.assign(\n",
    "    score=lambda x: np.where(\n",
    "        np.isin(x.literature_ID, epmc_gene_proteins_ok.literature_ID.tolist()),\n",
    "        x.score,\n",
    "        0,\n",
    "    )\n",
    ")"
   ]
  },
  {
   "cell_type": "code",
   "execution_count": 111,
   "id": "36bc5da7-3dfa-4499-b8f4-75a753bd49ad",
   "metadata": {},
   "outputs": [
    {
     "data": {
      "text/html": [
       "<div>\n",
       "<style scoped>\n",
       "    .dataframe tbody tr th:only-of-type {\n",
       "        vertical-align: middle;\n",
       "    }\n",
       "\n",
       "    .dataframe tbody tr th {\n",
       "        vertical-align: top;\n",
       "    }\n",
       "\n",
       "    .dataframe thead th {\n",
       "        text-align: right;\n",
       "    }\n",
       "</style>\n",
       "<table border=\"1\" class=\"dataframe\">\n",
       "  <thead>\n",
       "    <tr style=\"text-align: right;\">\n",
       "      <th></th>\n",
       "      <th>datatype_ID</th>\n",
       "      <th>datasource_ID</th>\n",
       "      <th>disease_ID</th>\n",
       "      <th>disease_name</th>\n",
       "      <th>score</th>\n",
       "      <th>literature_ID</th>\n",
       "      <th>section</th>\n",
       "      <th>text</th>\n",
       "    </tr>\n",
       "  </thead>\n",
       "  <tbody>\n",
       "    <tr>\n",
       "      <th>0</th>\n",
       "      <td>literature</td>\n",
       "      <td>europepmc</td>\n",
       "      <td>EFO_0000180</td>\n",
       "      <td>HIV-1 infection</td>\n",
       "      <td>0.18</td>\n",
       "      <td>MED:34388205</td>\n",
       "      <td>discuss</td>\n",
       "      <td>Our monocyte methylation data in AHI further h...</td>\n",
       "    </tr>\n",
       "    <tr>\n",
       "      <th>1</th>\n",
       "      <td>literature</td>\n",
       "      <td>europepmc</td>\n",
       "      <td>EFO_0000180</td>\n",
       "      <td>HIV-1 infection</td>\n",
       "      <td>0.18</td>\n",
       "      <td>MED:34388205</td>\n",
       "      <td>discuss</td>\n",
       "      <td>Our monocyte methylation data in AHI further h...</td>\n",
       "    </tr>\n",
       "    <tr>\n",
       "      <th>2</th>\n",
       "      <td>literature</td>\n",
       "      <td>europepmc</td>\n",
       "      <td>EFO_0000180</td>\n",
       "      <td>HIV-1 infection</td>\n",
       "      <td>0.18</td>\n",
       "      <td>MED:34388205</td>\n",
       "      <td>discuss</td>\n",
       "      <td>Our monocyte methylation data in AHI further h...</td>\n",
       "    </tr>\n",
       "    <tr>\n",
       "      <th>3</th>\n",
       "      <td>literature</td>\n",
       "      <td>europepmc</td>\n",
       "      <td>EFO_0000180</td>\n",
       "      <td>HIV-1 infection</td>\n",
       "      <td>0.10</td>\n",
       "      <td>MED:26121689</td>\n",
       "      <td>results</td>\n",
       "      <td>Before &lt;D&gt;HIV-1 infection&lt;/D&gt;, we found a 60% ...</td>\n",
       "    </tr>\n",
       "    <tr>\n",
       "      <th>4</th>\n",
       "      <td>literature</td>\n",
       "      <td>europepmc</td>\n",
       "      <td>EFO_0000180</td>\n",
       "      <td>HIV-1 infection</td>\n",
       "      <td>0.06</td>\n",
       "      <td>MED:33690734</td>\n",
       "      <td>discuss</td>\n",
       "      <td>However, it remains unclear how m6A modificati...</td>\n",
       "    </tr>\n",
       "  </tbody>\n",
       "</table>\n",
       "</div>"
      ],
      "text/plain": [
       "  datatype_ID datasource_ID   disease_ID     disease_name  score  \\\n",
       "0  literature     europepmc  EFO_0000180  HIV-1 infection   0.18   \n",
       "1  literature     europepmc  EFO_0000180  HIV-1 infection   0.18   \n",
       "2  literature     europepmc  EFO_0000180  HIV-1 infection   0.18   \n",
       "3  literature     europepmc  EFO_0000180  HIV-1 infection   0.10   \n",
       "4  literature     europepmc  EFO_0000180  HIV-1 infection   0.06   \n",
       "\n",
       "  literature_ID  section                                               text  \n",
       "0  MED:34388205  discuss  Our monocyte methylation data in AHI further h...  \n",
       "1  MED:34388205  discuss  Our monocyte methylation data in AHI further h...  \n",
       "2  MED:34388205  discuss  Our monocyte methylation data in AHI further h...  \n",
       "3  MED:26121689  results  Before <D>HIV-1 infection</D>, we found a 60% ...  \n",
       "4  MED:33690734  discuss  However, it remains unclear how m6A modificati...  "
      ]
     },
     "metadata": {},
     "output_type": "display_data"
    },
    {
     "data": {
      "text/plain": [
       "(1928, 8)"
      ]
     },
     "metadata": {},
     "output_type": "display_data"
    },
    {
     "data": {
      "text/plain": [
       "pandas.core.frame.DataFrame"
      ]
     },
     "metadata": {},
     "output_type": "display_data"
    }
   ],
   "source": [
    "display(europepmctable_ok.head())\n",
    "display(europepmctable_ok.shape)\n",
    "display(type(europepmctable_ok))"
   ]
  },
  {
   "cell_type": "code",
   "execution_count": 112,
   "id": "3b4b0138-a310-4fed-8aef-ea5bab8fd669",
   "metadata": {},
   "outputs": [
    {
     "data": {
      "text/html": [
       "<div>\n",
       "<style scoped>\n",
       "    .dataframe tbody tr th:only-of-type {\n",
       "        vertical-align: middle;\n",
       "    }\n",
       "\n",
       "    .dataframe tbody tr th {\n",
       "        vertical-align: top;\n",
       "    }\n",
       "\n",
       "    .dataframe thead th {\n",
       "        text-align: right;\n",
       "    }\n",
       "</style>\n",
       "<table border=\"1\" class=\"dataframe\">\n",
       "  <thead>\n",
       "    <tr style=\"text-align: right;\">\n",
       "      <th></th>\n",
       "      <th>datatype_ID</th>\n",
       "      <th>datasource_ID</th>\n",
       "      <th>disease_ID</th>\n",
       "      <th>disease_name</th>\n",
       "      <th>score</th>\n",
       "      <th>literature_ID</th>\n",
       "      <th>section</th>\n",
       "      <th>text</th>\n",
       "    </tr>\n",
       "  </thead>\n",
       "  <tbody>\n",
       "    <tr>\n",
       "      <th>844</th>\n",
       "      <td>literature</td>\n",
       "      <td>europepmc</td>\n",
       "      <td>EFO_0000763</td>\n",
       "      <td>viral disease</td>\n",
       "      <td>0.0</td>\n",
       "      <td>MED:18971424</td>\n",
       "      <td>abstract</td>\n",
       "      <td>Using &lt;T&gt;irf7&lt;/T&gt;(-/-) and wild-type bone marr...</td>\n",
       "    </tr>\n",
       "    <tr>\n",
       "      <th>1202</th>\n",
       "      <td>literature</td>\n",
       "      <td>europepmc</td>\n",
       "      <td>EFO_1000680</td>\n",
       "      <td>mucous membrane pemphigoid</td>\n",
       "      <td>0.0</td>\n",
       "      <td>MED:25510902</td>\n",
       "      <td>abstract</td>\n",
       "      <td>al. who demonstrate increased expression of in...</td>\n",
       "    </tr>\n",
       "    <tr>\n",
       "      <th>1203</th>\n",
       "      <td>literature</td>\n",
       "      <td>europepmc</td>\n",
       "      <td>EFO_1000680</td>\n",
       "      <td>mucous membrane pemphigoid</td>\n",
       "      <td>0.0</td>\n",
       "      <td>MED:25510902</td>\n",
       "      <td>abstract</td>\n",
       "      <td>al. who demonstrate increased expression of in...</td>\n",
       "    </tr>\n",
       "    <tr>\n",
       "      <th>1164</th>\n",
       "      <td>literature</td>\n",
       "      <td>europepmc</td>\n",
       "      <td>EFO_0007328</td>\n",
       "      <td>influenza</td>\n",
       "      <td>0.0</td>\n",
       "      <td>MED:29453856</td>\n",
       "      <td>abstract</td>\n",
       "      <td>So far, however, IFN regulatory factor &lt;T&gt;(IRF...</td>\n",
       "    </tr>\n",
       "    <tr>\n",
       "      <th>892</th>\n",
       "      <td>literature</td>\n",
       "      <td>europepmc</td>\n",
       "      <td>EFO_0000763</td>\n",
       "      <td>viral disease</td>\n",
       "      <td>0.0</td>\n",
       "      <td>MED:32881988</td>\n",
       "      <td>discuss</td>\n",
       "      <td>For example, IFN-α expression is completely ab...</td>\n",
       "    </tr>\n",
       "  </tbody>\n",
       "</table>\n",
       "</div>"
      ],
      "text/plain": [
       "     datatype_ID datasource_ID   disease_ID                disease_name  \\\n",
       "844   literature     europepmc  EFO_0000763               viral disease   \n",
       "1202  literature     europepmc  EFO_1000680  mucous membrane pemphigoid   \n",
       "1203  literature     europepmc  EFO_1000680  mucous membrane pemphigoid   \n",
       "1164  literature     europepmc  EFO_0007328                   influenza   \n",
       "892   literature     europepmc  EFO_0000763               viral disease   \n",
       "\n",
       "      score literature_ID   section  \\\n",
       "844     0.0  MED:18971424  abstract   \n",
       "1202    0.0  MED:25510902  abstract   \n",
       "1203    0.0  MED:25510902  abstract   \n",
       "1164    0.0  MED:29453856  abstract   \n",
       "892     0.0  MED:32881988   discuss   \n",
       "\n",
       "                                                   text  \n",
       "844   Using <T>irf7</T>(-/-) and wild-type bone marr...  \n",
       "1202  al. who demonstrate increased expression of in...  \n",
       "1203  al. who demonstrate increased expression of in...  \n",
       "1164  So far, however, IFN regulatory factor <T>(IRF...  \n",
       "892   For example, IFN-α expression is completely ab...  "
      ]
     },
     "execution_count": 112,
     "metadata": {},
     "output_type": "execute_result"
    }
   ],
   "source": [
    "europepmctable_ok.query(\"score == 0\").sort_values(\"literature_ID\").head()"
   ]
  },
  {
   "cell_type": "code",
   "execution_count": 113,
   "id": "5035c22c-2da0-447d-97f0-8822e26b9451",
   "metadata": {},
   "outputs": [
    {
     "data": {
      "text/html": [
       "<div>\n",
       "<style scoped>\n",
       "    .dataframe tbody tr th:only-of-type {\n",
       "        vertical-align: middle;\n",
       "    }\n",
       "\n",
       "    .dataframe tbody tr th {\n",
       "        vertical-align: top;\n",
       "    }\n",
       "\n",
       "    .dataframe thead th {\n",
       "        text-align: right;\n",
       "    }\n",
       "</style>\n",
       "<table border=\"1\" class=\"dataframe\">\n",
       "  <thead>\n",
       "    <tr style=\"text-align: right;\">\n",
       "      <th></th>\n",
       "      <th>datatype_ID</th>\n",
       "      <th>datasource_ID</th>\n",
       "      <th>disease_ID</th>\n",
       "      <th>disease_name</th>\n",
       "      <th>score</th>\n",
       "      <th>literature_ID</th>\n",
       "      <th>section</th>\n",
       "      <th>text</th>\n",
       "    </tr>\n",
       "  </thead>\n",
       "  <tbody>\n",
       "    <tr>\n",
       "      <th>0</th>\n",
       "      <td>literature</td>\n",
       "      <td>europepmc</td>\n",
       "      <td>EFO_0000180</td>\n",
       "      <td>HIV-1 infection</td>\n",
       "      <td>0.18</td>\n",
       "      <td>MED:34388205</td>\n",
       "      <td>discuss</td>\n",
       "      <td>Our monocyte methylation data in AHI further h...</td>\n",
       "    </tr>\n",
       "    <tr>\n",
       "      <th>1</th>\n",
       "      <td>literature</td>\n",
       "      <td>europepmc</td>\n",
       "      <td>EFO_0000180</td>\n",
       "      <td>HIV-1 infection</td>\n",
       "      <td>0.18</td>\n",
       "      <td>MED:34388205</td>\n",
       "      <td>discuss</td>\n",
       "      <td>Our monocyte methylation data in AHI further h...</td>\n",
       "    </tr>\n",
       "    <tr>\n",
       "      <th>2</th>\n",
       "      <td>literature</td>\n",
       "      <td>europepmc</td>\n",
       "      <td>EFO_0000180</td>\n",
       "      <td>HIV-1 infection</td>\n",
       "      <td>0.18</td>\n",
       "      <td>MED:34388205</td>\n",
       "      <td>discuss</td>\n",
       "      <td>Our monocyte methylation data in AHI further h...</td>\n",
       "    </tr>\n",
       "    <tr>\n",
       "      <th>3</th>\n",
       "      <td>literature</td>\n",
       "      <td>europepmc</td>\n",
       "      <td>EFO_0000180</td>\n",
       "      <td>HIV-1 infection</td>\n",
       "      <td>0.10</td>\n",
       "      <td>MED:26121689</td>\n",
       "      <td>results</td>\n",
       "      <td>Before &lt;D&gt;HIV-1 infection&lt;/D&gt;, we found a 60% ...</td>\n",
       "    </tr>\n",
       "    <tr>\n",
       "      <th>4</th>\n",
       "      <td>literature</td>\n",
       "      <td>europepmc</td>\n",
       "      <td>EFO_0000180</td>\n",
       "      <td>HIV-1 infection</td>\n",
       "      <td>0.06</td>\n",
       "      <td>MED:33690734</td>\n",
       "      <td>discuss</td>\n",
       "      <td>However, it remains unclear how m6A modificati...</td>\n",
       "    </tr>\n",
       "  </tbody>\n",
       "</table>\n",
       "</div>"
      ],
      "text/plain": [
       "  datatype_ID datasource_ID   disease_ID     disease_name  score  \\\n",
       "0  literature     europepmc  EFO_0000180  HIV-1 infection   0.18   \n",
       "1  literature     europepmc  EFO_0000180  HIV-1 infection   0.18   \n",
       "2  literature     europepmc  EFO_0000180  HIV-1 infection   0.18   \n",
       "3  literature     europepmc  EFO_0000180  HIV-1 infection   0.10   \n",
       "4  literature     europepmc  EFO_0000180  HIV-1 infection   0.06   \n",
       "\n",
       "  literature_ID  section                                               text  \n",
       "0  MED:34388205  discuss  Our monocyte methylation data in AHI further h...  \n",
       "1  MED:34388205  discuss  Our monocyte methylation data in AHI further h...  \n",
       "2  MED:34388205  discuss  Our monocyte methylation data in AHI further h...  \n",
       "3  MED:26121689  results  Before <D>HIV-1 infection</D>, we found a 60% ...  \n",
       "4  MED:33690734  discuss  However, it remains unclear how m6A modificati...  "
      ]
     },
     "execution_count": 113,
     "metadata": {},
     "output_type": "execute_result"
    }
   ],
   "source": [
    "europepmctable_ok.sort_values(\n",
    "    [\"disease_ID\", \"score\"], ascending=[True, False]\n",
    ").reset_index(drop=True).head()"
   ]
  },
  {
   "cell_type": "code",
   "execution_count": 114,
   "id": "cf461e83-5d60-46f9-a7c2-c6896ec2a6a6",
   "metadata": {},
   "outputs": [],
   "source": [
    "europepmctable_ok_short = europepmctable_ok.filter(\n",
    "    [\n",
    "        \"datatype_ID\",\n",
    "        \"datasource_ID\",\n",
    "        \"disease_ID\",\n",
    "        \"disease_name\",\n",
    "        \"score\",\n",
    "        \"literature_ID\",\n",
    "    ]\n",
    ").drop_duplicates()"
   ]
  },
  {
   "cell_type": "code",
   "execution_count": 115,
   "id": "94b961af-63ee-4f8b-a884-7bb461f57983",
   "metadata": {},
   "outputs": [
    {
     "data": {
      "text/html": [
       "<div>\n",
       "<style scoped>\n",
       "    .dataframe tbody tr th:only-of-type {\n",
       "        vertical-align: middle;\n",
       "    }\n",
       "\n",
       "    .dataframe tbody tr th {\n",
       "        vertical-align: top;\n",
       "    }\n",
       "\n",
       "    .dataframe thead th {\n",
       "        text-align: right;\n",
       "    }\n",
       "</style>\n",
       "<table border=\"1\" class=\"dataframe\">\n",
       "  <thead>\n",
       "    <tr style=\"text-align: right;\">\n",
       "      <th></th>\n",
       "      <th>datatype_ID</th>\n",
       "      <th>datasource_ID</th>\n",
       "      <th>disease_ID</th>\n",
       "      <th>disease_name</th>\n",
       "      <th>score</th>\n",
       "      <th>literature_ID</th>\n",
       "    </tr>\n",
       "  </thead>\n",
       "  <tbody>\n",
       "    <tr>\n",
       "      <th>0</th>\n",
       "      <td>literature</td>\n",
       "      <td>europepmc</td>\n",
       "      <td>EFO_0000180</td>\n",
       "      <td>HIV-1 infection</td>\n",
       "      <td>0.18</td>\n",
       "      <td>MED:34388205</td>\n",
       "    </tr>\n",
       "    <tr>\n",
       "      <th>3</th>\n",
       "      <td>literature</td>\n",
       "      <td>europepmc</td>\n",
       "      <td>EFO_0000180</td>\n",
       "      <td>HIV-1 infection</td>\n",
       "      <td>0.10</td>\n",
       "      <td>MED:26121689</td>\n",
       "    </tr>\n",
       "    <tr>\n",
       "      <th>4</th>\n",
       "      <td>literature</td>\n",
       "      <td>europepmc</td>\n",
       "      <td>EFO_0000180</td>\n",
       "      <td>HIV-1 infection</td>\n",
       "      <td>0.06</td>\n",
       "      <td>MED:33690734</td>\n",
       "    </tr>\n",
       "    <tr>\n",
       "      <th>5</th>\n",
       "      <td>literature</td>\n",
       "      <td>europepmc</td>\n",
       "      <td>EFO_0000181</td>\n",
       "      <td>head and neck squamous cell carcinoma</td>\n",
       "      <td>0.05</td>\n",
       "      <td>MED:35418195</td>\n",
       "    </tr>\n",
       "    <tr>\n",
       "      <th>6</th>\n",
       "      <td>literature</td>\n",
       "      <td>europepmc</td>\n",
       "      <td>EFO_0000181</td>\n",
       "      <td>head and neck squamous cell carcinoma</td>\n",
       "      <td>0.03</td>\n",
       "      <td>PPR:PPR167926</td>\n",
       "    </tr>\n",
       "  </tbody>\n",
       "</table>\n",
       "</div>"
      ],
      "text/plain": [
       "  datatype_ID datasource_ID   disease_ID  \\\n",
       "0  literature     europepmc  EFO_0000180   \n",
       "3  literature     europepmc  EFO_0000180   \n",
       "4  literature     europepmc  EFO_0000180   \n",
       "5  literature     europepmc  EFO_0000181   \n",
       "6  literature     europepmc  EFO_0000181   \n",
       "\n",
       "                            disease_name  score  literature_ID  \n",
       "0                        HIV-1 infection   0.18   MED:34388205  \n",
       "3                        HIV-1 infection   0.10   MED:26121689  \n",
       "4                        HIV-1 infection   0.06   MED:33690734  \n",
       "5  head and neck squamous cell carcinoma   0.05   MED:35418195  \n",
       "6  head and neck squamous cell carcinoma   0.03  PPR:PPR167926  "
      ]
     },
     "metadata": {},
     "output_type": "display_data"
    },
    {
     "data": {
      "text/plain": [
       "(950, 6)"
      ]
     },
     "metadata": {},
     "output_type": "display_data"
    },
    {
     "data": {
      "text/plain": [
       "pandas.core.frame.DataFrame"
      ]
     },
     "metadata": {},
     "output_type": "display_data"
    }
   ],
   "source": [
    "display(europepmctable_ok_short.head())\n",
    "display(europepmctable_ok_short.shape)\n",
    "display(type(europepmctable_ok_short))"
   ]
  },
  {
   "cell_type": "code",
   "execution_count": 116,
   "id": "bc6eb9dd-2404-45bf-92fc-e88fc742d639",
   "metadata": {},
   "outputs": [],
   "source": [
    "n = sym.symbols(\"n\")"
   ]
  },
  {
   "cell_type": "code",
   "execution_count": 117,
   "id": "bd141fb6-60bc-45bf-b6ac-5a8cc6af5d11",
   "metadata": {},
   "outputs": [
    {
     "data": {
      "text/latex": [
       "$\\displaystyle \\frac{\\pi^{2}}{6}$"
      ],
      "text/plain": [
       "pi**2/6"
      ]
     },
     "execution_count": 117,
     "metadata": {},
     "output_type": "execute_result"
    }
   ],
   "source": [
    "sym.summation(1 / (n**2), (n, 1, sym.oo))"
   ]
  },
  {
   "cell_type": "code",
   "execution_count": 118,
   "id": "62dc85f5-aecc-40d9-8021-398aefa56c85",
   "metadata": {},
   "outputs": [
    {
     "data": {
      "text/plain": [
       "0.12867790322576897"
      ]
     },
     "execution_count": 118,
     "metadata": {},
     "output_type": "execute_result"
    }
   ],
   "source": [
    "(0.18 + 0.10 / (2**2) + 0.06 / (3**2)) / (math.pi**2 / 6)"
   ]
  },
  {
   "attachments": {},
   "cell_type": "markdown",
   "id": "f5fe0add-f9b1-4499-b1d6-c62e1fe8eacc",
   "metadata": {},
   "source": [
    "##### disease\n"
   ]
  },
  {
   "cell_type": "code",
   "execution_count": 119,
   "id": "339db008",
   "metadata": {},
   "outputs": [],
   "source": [
    "epmc_diseases1 = (\n",
    "    epmc_table.rename(\n",
    "        columns={\n",
    "            \"annotations.tags.uri\": \"umls_url\",\n",
    "            \"annotations.id\": \"annotations_id\",\n",
    "            \"annotations.type\": \"annotations_type\",\n",
    "        }\n",
    "    )\n",
    "    .assign(literature_ID=lambda x: x.source + \":\" + x.extId)\n",
    "    .filter([\"literature_ID\", \"annotations_type\", \"umls_url\"])\n",
    "    .query(\"annotations_type == 'Diseases'\")\n",
    "    .drop_duplicates()\n",
    "    .assign(\n",
    "        umls_ID=lambda x: x.umls_url.str.replace(\n",
    "            \"http://linkedlifedata.com/resource/umls-concept/\", \"\", regex=False\n",
    "        )\n",
    "    )\n",
    ")"
   ]
  },
  {
   "cell_type": "code",
   "execution_count": 120,
   "id": "ea47a6ad",
   "metadata": {},
   "outputs": [
    {
     "data": {
      "text/html": [
       "<div>\n",
       "<style scoped>\n",
       "    .dataframe tbody tr th:only-of-type {\n",
       "        vertical-align: middle;\n",
       "    }\n",
       "\n",
       "    .dataframe tbody tr th {\n",
       "        vertical-align: top;\n",
       "    }\n",
       "\n",
       "    .dataframe thead th {\n",
       "        text-align: right;\n",
       "    }\n",
       "</style>\n",
       "<table border=\"1\" class=\"dataframe\">\n",
       "  <thead>\n",
       "    <tr style=\"text-align: right;\">\n",
       "      <th></th>\n",
       "      <th>literature_ID</th>\n",
       "      <th>annotations_type</th>\n",
       "      <th>umls_url</th>\n",
       "      <th>umls_ID</th>\n",
       "    </tr>\n",
       "  </thead>\n",
       "  <tbody>\n",
       "    <tr>\n",
       "      <th>2</th>\n",
       "      <td>MED:34388205</td>\n",
       "      <td>Diseases</td>\n",
       "      <td>http://linkedlifedata.com/resource/umls-concep...</td>\n",
       "      <td>C0009450</td>\n",
       "    </tr>\n",
       "    <tr>\n",
       "      <th>25</th>\n",
       "      <td>MED:34388205</td>\n",
       "      <td>Diseases</td>\n",
       "      <td>http://linkedlifedata.com/resource/umls-concep...</td>\n",
       "      <td>C0275518</td>\n",
       "    </tr>\n",
       "    <tr>\n",
       "      <th>118</th>\n",
       "      <td>MED:34388205</td>\n",
       "      <td>Diseases</td>\n",
       "      <td>http://linkedlifedata.com/resource/umls-concep...</td>\n",
       "      <td>C0042769</td>\n",
       "    </tr>\n",
       "    <tr>\n",
       "      <th>481</th>\n",
       "      <td>MED:34388205</td>\n",
       "      <td>Diseases</td>\n",
       "      <td>http://linkedlifedata.com/resource/umls-concep...</td>\n",
       "      <td>C0042749</td>\n",
       "    </tr>\n",
       "    <tr>\n",
       "      <th>518</th>\n",
       "      <td>MED:34388205</td>\n",
       "      <td>Diseases</td>\n",
       "      <td>http://linkedlifedata.com/resource/umls-concep...</td>\n",
       "      <td>C0275524</td>\n",
       "    </tr>\n",
       "  </tbody>\n",
       "</table>\n",
       "</div>"
      ],
      "text/plain": [
       "    literature_ID annotations_type  \\\n",
       "2    MED:34388205         Diseases   \n",
       "25   MED:34388205         Diseases   \n",
       "118  MED:34388205         Diseases   \n",
       "481  MED:34388205         Diseases   \n",
       "518  MED:34388205         Diseases   \n",
       "\n",
       "                                              umls_url   umls_ID  \n",
       "2    http://linkedlifedata.com/resource/umls-concep...  C0009450  \n",
       "25   http://linkedlifedata.com/resource/umls-concep...  C0275518  \n",
       "118  http://linkedlifedata.com/resource/umls-concep...  C0042769  \n",
       "481  http://linkedlifedata.com/resource/umls-concep...  C0042749  \n",
       "518  http://linkedlifedata.com/resource/umls-concep...  C0275524  "
      ]
     },
     "metadata": {},
     "output_type": "display_data"
    },
    {
     "data": {
      "text/plain": [
       "(7691, 4)"
      ]
     },
     "metadata": {},
     "output_type": "display_data"
    },
    {
     "data": {
      "text/plain": [
       "pandas.core.frame.DataFrame"
      ]
     },
     "metadata": {},
     "output_type": "display_data"
    }
   ],
   "source": [
    "display(epmc_diseases1.head())\n",
    "display(epmc_diseases1.shape)\n",
    "display(type(epmc_diseases1))"
   ]
  },
  {
   "cell_type": "code",
   "execution_count": 121,
   "id": "c71118b8",
   "metadata": {},
   "outputs": [],
   "source": [
    "epmc_diseases2 = (\n",
    "    epmc_table.rename(\n",
    "        columns={\n",
    "            \"annotations.tags.uri\": \"umls_url\",\n",
    "            \"annotations.id\": \"annotations_id\",\n",
    "            \"annotations.type\": \"annotations_type\",\n",
    "        }\n",
    "    )\n",
    "    .assign(\n",
    "        literature_ID=lambda x: x.annotations_id.str.replace(\n",
    "            \"http://europepmc.org/article/\", \"\", regex=False\n",
    "        )\n",
    "    )\n",
    "    .assign(literature_ID=lambda x: x.literature_ID.str.replace(\"#.*\", \"\", regex=True))\n",
    "    .assign(literature_ID=lambda x: x.literature_ID.str.replace(\"/\", \":\", regex=False))\n",
    "    .filter([\"literature_ID\", \"annotations_type\", \"umls_url\"])\n",
    "    .query(\"annotations_type == 'Diseases'\")\n",
    "    .drop_duplicates()\n",
    "    .assign(\n",
    "        umls_ID=lambda x: x.umls_url.str.replace(\n",
    "            \"http://linkedlifedata.com/resource/umls-concept/\", \"\", regex=False\n",
    "        )\n",
    "    )\n",
    ")"
   ]
  },
  {
   "cell_type": "code",
   "execution_count": 122,
   "id": "1933d477",
   "metadata": {},
   "outputs": [
    {
     "data": {
      "text/html": [
       "<div>\n",
       "<style scoped>\n",
       "    .dataframe tbody tr th:only-of-type {\n",
       "        vertical-align: middle;\n",
       "    }\n",
       "\n",
       "    .dataframe tbody tr th {\n",
       "        vertical-align: top;\n",
       "    }\n",
       "\n",
       "    .dataframe thead th {\n",
       "        text-align: right;\n",
       "    }\n",
       "</style>\n",
       "<table border=\"1\" class=\"dataframe\">\n",
       "  <thead>\n",
       "    <tr style=\"text-align: right;\">\n",
       "      <th></th>\n",
       "      <th>literature_ID</th>\n",
       "      <th>annotations_type</th>\n",
       "      <th>umls_url</th>\n",
       "      <th>umls_ID</th>\n",
       "    </tr>\n",
       "  </thead>\n",
       "  <tbody>\n",
       "    <tr>\n",
       "      <th>2</th>\n",
       "      <td>MED:34388205</td>\n",
       "      <td>Diseases</td>\n",
       "      <td>http://linkedlifedata.com/resource/umls-concep...</td>\n",
       "      <td>C0009450</td>\n",
       "    </tr>\n",
       "    <tr>\n",
       "      <th>25</th>\n",
       "      <td>MED:34388205</td>\n",
       "      <td>Diseases</td>\n",
       "      <td>http://linkedlifedata.com/resource/umls-concep...</td>\n",
       "      <td>C0275518</td>\n",
       "    </tr>\n",
       "    <tr>\n",
       "      <th>34</th>\n",
       "      <td>PMC:PMC8386872</td>\n",
       "      <td>Diseases</td>\n",
       "      <td>http://linkedlifedata.com/resource/umls-concep...</td>\n",
       "      <td>C0009450</td>\n",
       "    </tr>\n",
       "    <tr>\n",
       "      <th>118</th>\n",
       "      <td>PMC:PMC8386872</td>\n",
       "      <td>Diseases</td>\n",
       "      <td>http://linkedlifedata.com/resource/umls-concep...</td>\n",
       "      <td>C0042769</td>\n",
       "    </tr>\n",
       "    <tr>\n",
       "      <th>264</th>\n",
       "      <td>PMC:PMC8386872</td>\n",
       "      <td>Diseases</td>\n",
       "      <td>http://linkedlifedata.com/resource/umls-concep...</td>\n",
       "      <td>C0275518</td>\n",
       "    </tr>\n",
       "  </tbody>\n",
       "</table>\n",
       "</div>"
      ],
      "text/plain": [
       "      literature_ID annotations_type  \\\n",
       "2      MED:34388205         Diseases   \n",
       "25     MED:34388205         Diseases   \n",
       "34   PMC:PMC8386872         Diseases   \n",
       "118  PMC:PMC8386872         Diseases   \n",
       "264  PMC:PMC8386872         Diseases   \n",
       "\n",
       "                                              umls_url   umls_ID  \n",
       "2    http://linkedlifedata.com/resource/umls-concep...  C0009450  \n",
       "25   http://linkedlifedata.com/resource/umls-concep...  C0275518  \n",
       "34   http://linkedlifedata.com/resource/umls-concep...  C0009450  \n",
       "118  http://linkedlifedata.com/resource/umls-concep...  C0042769  \n",
       "264  http://linkedlifedata.com/resource/umls-concep...  C0275518  "
      ]
     },
     "metadata": {},
     "output_type": "display_data"
    },
    {
     "data": {
      "text/plain": [
       "(8721, 4)"
      ]
     },
     "metadata": {},
     "output_type": "display_data"
    },
    {
     "data": {
      "text/plain": [
       "pandas.core.frame.DataFrame"
      ]
     },
     "metadata": {},
     "output_type": "display_data"
    }
   ],
   "source": [
    "display(epmc_diseases2.head())\n",
    "display(epmc_diseases2.shape)\n",
    "display(type(epmc_diseases2))"
   ]
  },
  {
   "cell_type": "code",
   "execution_count": 123,
   "id": "09cd3505",
   "metadata": {},
   "outputs": [],
   "source": [
    "epmc_diseases3 = (\n",
    "    epmc_table.query(\"pmcid.notna()\")\n",
    "    .rename(\n",
    "        columns={\n",
    "            \"annotations.tags.uri\": \"umls_url\",\n",
    "            \"annotations.id\": \"annotations_id\",\n",
    "            \"annotations.type\": \"annotations_type\",\n",
    "        }\n",
    "    )\n",
    "    .assign(literature_ID=lambda x: \"PMC:\" + x.pmcid)\n",
    "    .filter([\"literature_ID\", \"annotations_type\", \"umls_url\"])\n",
    "    .query(\"annotations_type == 'Diseases'\")\n",
    "    .drop_duplicates()\n",
    "    .assign(\n",
    "        umls_ID=lambda x: x.umls_url.str.replace(\n",
    "            \"http://linkedlifedata.com/resource/umls-concept/\", \"\", regex=False\n",
    "        )\n",
    "    )\n",
    ")"
   ]
  },
  {
   "cell_type": "code",
   "execution_count": 124,
   "id": "4332b05c",
   "metadata": {},
   "outputs": [
    {
     "data": {
      "text/html": [
       "<div>\n",
       "<style scoped>\n",
       "    .dataframe tbody tr th:only-of-type {\n",
       "        vertical-align: middle;\n",
       "    }\n",
       "\n",
       "    .dataframe tbody tr th {\n",
       "        vertical-align: top;\n",
       "    }\n",
       "\n",
       "    .dataframe thead th {\n",
       "        text-align: right;\n",
       "    }\n",
       "</style>\n",
       "<table border=\"1\" class=\"dataframe\">\n",
       "  <thead>\n",
       "    <tr style=\"text-align: right;\">\n",
       "      <th></th>\n",
       "      <th>literature_ID</th>\n",
       "      <th>annotations_type</th>\n",
       "      <th>umls_url</th>\n",
       "      <th>umls_ID</th>\n",
       "    </tr>\n",
       "  </thead>\n",
       "  <tbody>\n",
       "    <tr>\n",
       "      <th>2</th>\n",
       "      <td>PMC:PMC8386872</td>\n",
       "      <td>Diseases</td>\n",
       "      <td>http://linkedlifedata.com/resource/umls-concep...</td>\n",
       "      <td>C0009450</td>\n",
       "    </tr>\n",
       "    <tr>\n",
       "      <th>25</th>\n",
       "      <td>PMC:PMC8386872</td>\n",
       "      <td>Diseases</td>\n",
       "      <td>http://linkedlifedata.com/resource/umls-concep...</td>\n",
       "      <td>C0275518</td>\n",
       "    </tr>\n",
       "    <tr>\n",
       "      <th>118</th>\n",
       "      <td>PMC:PMC8386872</td>\n",
       "      <td>Diseases</td>\n",
       "      <td>http://linkedlifedata.com/resource/umls-concep...</td>\n",
       "      <td>C0042769</td>\n",
       "    </tr>\n",
       "    <tr>\n",
       "      <th>481</th>\n",
       "      <td>PMC:PMC8386872</td>\n",
       "      <td>Diseases</td>\n",
       "      <td>http://linkedlifedata.com/resource/umls-concep...</td>\n",
       "      <td>C0042749</td>\n",
       "    </tr>\n",
       "    <tr>\n",
       "      <th>518</th>\n",
       "      <td>PMC:PMC8386872</td>\n",
       "      <td>Diseases</td>\n",
       "      <td>http://linkedlifedata.com/resource/umls-concep...</td>\n",
       "      <td>C0275524</td>\n",
       "    </tr>\n",
       "  </tbody>\n",
       "</table>\n",
       "</div>"
      ],
      "text/plain": [
       "      literature_ID annotations_type  \\\n",
       "2    PMC:PMC8386872         Diseases   \n",
       "25   PMC:PMC8386872         Diseases   \n",
       "118  PMC:PMC8386872         Diseases   \n",
       "481  PMC:PMC8386872         Diseases   \n",
       "518  PMC:PMC8386872         Diseases   \n",
       "\n",
       "                                              umls_url   umls_ID  \n",
       "2    http://linkedlifedata.com/resource/umls-concep...  C0009450  \n",
       "25   http://linkedlifedata.com/resource/umls-concep...  C0275518  \n",
       "118  http://linkedlifedata.com/resource/umls-concep...  C0042769  \n",
       "481  http://linkedlifedata.com/resource/umls-concep...  C0042749  \n",
       "518  http://linkedlifedata.com/resource/umls-concep...  C0275524  "
      ]
     },
     "metadata": {},
     "output_type": "display_data"
    },
    {
     "data": {
      "text/plain": [
       "(7280, 4)"
      ]
     },
     "metadata": {},
     "output_type": "display_data"
    },
    {
     "data": {
      "text/plain": [
       "pandas.core.frame.DataFrame"
      ]
     },
     "metadata": {},
     "output_type": "display_data"
    }
   ],
   "source": [
    "display(epmc_diseases3.head())\n",
    "display(epmc_diseases3.shape)\n",
    "display(type(epmc_diseases3))"
   ]
  },
  {
   "cell_type": "code",
   "execution_count": 125,
   "id": "42fe11c3",
   "metadata": {},
   "outputs": [],
   "source": [
    "epmc_diseases = (\n",
    "    pd.concat([epmc_diseases1, epmc_diseases2, epmc_diseases3])\n",
    "    .drop_duplicates()\n",
    "    .sort_values([\"literature_ID\", \"umls_ID\"])\n",
    "    .reset_index(drop=True)\n",
    ")"
   ]
  },
  {
   "cell_type": "code",
   "execution_count": 126,
   "id": "72a4a091",
   "metadata": {},
   "outputs": [
    {
     "data": {
      "text/html": [
       "<div>\n",
       "<style scoped>\n",
       "    .dataframe tbody tr th:only-of-type {\n",
       "        vertical-align: middle;\n",
       "    }\n",
       "\n",
       "    .dataframe tbody tr th {\n",
       "        vertical-align: top;\n",
       "    }\n",
       "\n",
       "    .dataframe thead th {\n",
       "        text-align: right;\n",
       "    }\n",
       "</style>\n",
       "<table border=\"1\" class=\"dataframe\">\n",
       "  <thead>\n",
       "    <tr style=\"text-align: right;\">\n",
       "      <th></th>\n",
       "      <th>literature_ID</th>\n",
       "      <th>annotations_type</th>\n",
       "      <th>umls_url</th>\n",
       "      <th>umls_ID</th>\n",
       "    </tr>\n",
       "  </thead>\n",
       "  <tbody>\n",
       "    <tr>\n",
       "      <th>0</th>\n",
       "      <td>MED:10692430</td>\n",
       "      <td>Diseases</td>\n",
       "      <td>http://linkedlifedata.com/resource/umls-concep...</td>\n",
       "      <td>C0009450</td>\n",
       "    </tr>\n",
       "    <tr>\n",
       "      <th>1</th>\n",
       "      <td>MED:10692430</td>\n",
       "      <td>Diseases</td>\n",
       "      <td>http://linkedlifedata.com/resource/umls-concep...</td>\n",
       "      <td>C0042769</td>\n",
       "    </tr>\n",
       "    <tr>\n",
       "      <th>2</th>\n",
       "      <td>MED:10799898</td>\n",
       "      <td>Diseases</td>\n",
       "      <td>http://linkedlifedata.com/resource/umls-concep...</td>\n",
       "      <td>C0009450</td>\n",
       "    </tr>\n",
       "    <tr>\n",
       "      <th>3</th>\n",
       "      <td>MED:10893229</td>\n",
       "      <td>Diseases</td>\n",
       "      <td>http://linkedlifedata.com/resource/umls-concep...</td>\n",
       "      <td>C0009450</td>\n",
       "    </tr>\n",
       "    <tr>\n",
       "      <th>4</th>\n",
       "      <td>MED:11070172</td>\n",
       "      <td>Diseases</td>\n",
       "      <td>http://linkedlifedata.com/resource/umls-concep...</td>\n",
       "      <td>C0009450</td>\n",
       "    </tr>\n",
       "  </tbody>\n",
       "</table>\n",
       "</div>"
      ],
      "text/plain": [
       "  literature_ID annotations_type  \\\n",
       "0  MED:10692430         Diseases   \n",
       "1  MED:10692430         Diseases   \n",
       "2  MED:10799898         Diseases   \n",
       "3  MED:10893229         Diseases   \n",
       "4  MED:11070172         Diseases   \n",
       "\n",
       "                                            umls_url   umls_ID  \n",
       "0  http://linkedlifedata.com/resource/umls-concep...  C0009450  \n",
       "1  http://linkedlifedata.com/resource/umls-concep...  C0042769  \n",
       "2  http://linkedlifedata.com/resource/umls-concep...  C0009450  \n",
       "3  http://linkedlifedata.com/resource/umls-concep...  C0009450  \n",
       "4  http://linkedlifedata.com/resource/umls-concep...  C0009450  "
      ]
     },
     "metadata": {},
     "output_type": "display_data"
    },
    {
     "data": {
      "text/plain": [
       "(15015, 4)"
      ]
     },
     "metadata": {},
     "output_type": "display_data"
    },
    {
     "data": {
      "text/plain": [
       "pandas.core.frame.DataFrame"
      ]
     },
     "metadata": {},
     "output_type": "display_data"
    }
   ],
   "source": [
    "display(epmc_diseases.head())\n",
    "display(epmc_diseases.shape)\n",
    "display(type(epmc_diseases))"
   ]
  },
  {
   "cell_type": "code",
   "execution_count": 127,
   "id": "92781c04",
   "metadata": {},
   "outputs": [
    {
     "data": {
      "text/plain": [
       "996"
      ]
     },
     "execution_count": 127,
     "metadata": {},
     "output_type": "execute_result"
    }
   ],
   "source": [
    "len(epmc_diseases.literature_ID.drop_duplicates())"
   ]
  },
  {
   "cell_type": "code",
   "execution_count": 128,
   "id": "76906355",
   "metadata": {},
   "outputs": [
    {
     "data": {
      "text/plain": [
       "1424"
      ]
     },
     "execution_count": 128,
     "metadata": {},
     "output_type": "execute_result"
    }
   ],
   "source": [
    "len(epmc_diseases.umls_ID.drop_duplicates())"
   ]
  },
  {
   "cell_type": "code",
   "execution_count": 129,
   "id": "d81d30f1",
   "metadata": {},
   "outputs": [
    {
     "data": {
      "text/plain": [
       "C0009450    783\n",
       "C0042769    593\n",
       "C0006826    344\n",
       "C0021400    280\n",
       "C0027651    251\n",
       "           ... \n",
       "C1736136      1\n",
       "C0014173      1\n",
       "C0406645      1\n",
       "C0238421      1\n",
       "C0031099      1\n",
       "Name: umls_ID, Length: 1424, dtype: int64"
      ]
     },
     "execution_count": 129,
     "metadata": {},
     "output_type": "execute_result"
    }
   ],
   "source": [
    "epmc_diseases.umls_ID.value_counts()"
   ]
  },
  {
   "cell_type": "code",
   "execution_count": null,
   "id": "872c6ae4",
   "metadata": {},
   "outputs": [],
   "source": []
  }
 ],
 "metadata": {
  "kernelspec": {
   "display_name": "Python 3.10 test",
   "language": "python",
   "name": "ipy310"
  },
  "language_info": {
   "codemirror_mode": {
    "name": "ipython",
    "version": 3
   },
   "file_extension": ".py",
   "mimetype": "text/x-python",
   "name": "python",
   "nbconvert_exporter": "python",
   "pygments_lexer": "ipython3",
   "version": "3.10.4"
  },
  "toc-autonumbering": true
 },
 "nbformat": 4,
 "nbformat_minor": 5
}
